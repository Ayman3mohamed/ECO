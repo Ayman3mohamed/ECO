{
 "cells": [
  {
   "cell_type": "code",
   "execution_count": null,
   "metadata": {},
   "outputs": [],
   "source": [
    "%run ../../v4/misc/data_access.py"
   ]
  },
  {
   "cell_type": "code",
   "execution_count": null,
   "metadata": {
    "collapsed": true
   },
   "outputs": [],
   "source": [
    "# 1 load w2v model\n",
    "\n",
    "import gensim\n",
    "from nltk.corpus import stopwords\n",
    "import numpy as np\n",
    "\n",
    "\n",
    "model = gensim.models.Word2Vec.load(get_model_folder() + 'word2vec_models/wiki_plus_v3_valid_combined.txt_numpy.w2vmodel')\n"
   ]
  },
  {
   "cell_type": "code",
   "execution_count": null,
   "metadata": {
    "collapsed": true
   },
   "outputs": [],
   "source": [
    "#1.1 some static functions\n",
    "\n",
    "# sentence to vector via w2v\n",
    "def to_vector(sentence):\n",
    "    sentence = sentence.lower()\n",
    "    # not using english stop words, only using content words\n",
    "    words = [word for word in sentence.split() if (word not in stopwords.words(\"english\") and word in model.vocab)]\n",
    "\n",
    "    vectors = []\n",
    "    for word in words:\n",
    "        vectors.append(model[word])\n",
    "\n",
    "    vector = np.mean(vectors, axis=0)\n",
    "    #print(model.similar_by_vector(vector))\n",
    "    return vector\n",
    "\n",
    "\n",
    "# converts a v4 text file into feather file with w2v vec saved\n",
    "# v4_txt_to_feather('/mnt/drive1/data/eco/NAIL_DATAFIELD_txt/parsed_v4/own_collection_valid.txt', 'out.feather')\n",
    "def v4_txt_to_feather(path, feather_name):\n",
    "    data = open(path).readlines()\n",
    "\n",
    "    row_list = []\n",
    "    for line in data:\n",
    "        sentence = line.split(';')[0].rstrip()\n",
    "        vec = to_vector(sentence)\n",
    "        new_row = {}\n",
    "        index = 0\n",
    "        try:\n",
    "            for i in vec:\n",
    "                new_row['p'+str(index)] = i\n",
    "                index += 1\n",
    "\n",
    "            new_row['sentence'] = sentence\n",
    "            row_list.append(new_row)\n",
    "        except:\n",
    "            # only happening sometimes. \\o/\n",
    "            pass\n",
    "\n",
    "    df = pd.DataFrame(row_list)\n",
    "    df.to_feather(feather_name)\n",
    "\n",
    "\n",
    "def v3_txt_to_df(path, author):\n",
    "    data = open(path).readlines()\n",
    "    path, filename = os.path.split(path)\n",
    "    row_list = []\n",
    "    for line in data:\n",
    "        vec = to_vector(line)\n",
    "        new_row = {}\n",
    "        index = 0\n",
    "        try:\n",
    "            for i in vec:\n",
    "                new_row['p'+str(index)] = i\n",
    "                index += 1\n",
    "\n",
    "            new_row['sentence'] = line\n",
    "            new_row['author'] = author\n",
    "            new_row['filename'] = filename\n",
    "            row_list.append(new_row)\n",
    "        except:\n",
    "            # only happening sometimes. \\o/\n",
    "            pass\n",
    "\n",
    "    return pd.DataFrame(row_list)"
   ]
  },
  {
   "cell_type": "code",
   "execution_count": null,
   "metadata": {
    "collapsed": true
   },
   "outputs": [],
   "source": [
    "def get_similar(df, sentence):\n",
    "\n",
    "    sentence_vec = to_vector(sentence)\n",
    "\n",
    "    dist = 0.05\n",
    "    ldf = df\n",
    "    for i in range(300):\n",
    "        tdf = ldf[(ldf['p'+str(i)] > sentence_vec[i]-dist) & (ldf['p'+str(i)] < sentence_vec[i]+dist)]\n",
    "        #tdf = ldf.query(str(sentence_vec[i]-dist)+'<p' + str(i) + '<' + str(sentence_vec[i]+dist))\n",
    "        num_sentences = len(tdf.index)\n",
    "        if num_sentences > 0:\n",
    "            ldf = tdf\n",
    "        if num_sentences < 5:\n",
    "            print('stopped at index ' + str(i))\n",
    "            break\n",
    "\n",
    "    display(ldf[['sentence','author', 'filename']])\n",
    "    index = random.randint(0, len(ldf) - 1)\n",
    "    return ldf.iloc[index]"
   ]
  },
  {
   "cell_type": "code",
   "execution_count": null,
   "metadata": {
    "collapsed": true
   },
   "outputs": [],
   "source": [
    "# training\n",
    "import json\n",
    "import codecs\n",
    "import os\n",
    "import pandas as pd\n",
    "\n",
    "def read_json_file(file_name):\n",
    "   with codecs.open(file_name,encoding='utf-8') as fin:\n",
    "       return json.loads(fin.read())\n",
    "\n",
    "json = read_json_file(get_project_folder() + 'src/python/notebooks/log-final.json')\n",
    "base_path = json['folder_path']\n",
    "\n",
    "authors = {}\n",
    "\n",
    "for key in json['file_descriptors']:\n",
    "    values = json['file_descriptors'][key]\n",
    "    rel_path = values['rel_path']\n",
    "    if True: #rel_path == 'arts_arthistory_aesthetics/' or rel_path == 'own_mixed_collection/':\n",
    "        file_name = values['file_name']\n",
    "        author_name = values['author_name']\n",
    "        abs_path = os.path.join(base_path + rel_path, file_name)\n",
    "        if author_name not in authors:\n",
    "            authors[author_name] = []\n",
    "\n",
    "        authors[author_name].append(abs_path)\n",
    "        \n",
    "\n",
    "# dont start this unless you have some time :)\n",
    "generate_dataframes = False\n",
    "if generate_dataframes:\n",
    "    dataframes = []\n",
    "    # saving dataframes\n",
    "    for key in authors:\n",
    "        # edit this to include authors with >n books\n",
    "        if len(authors[key]) > 2:\n",
    "            #print(key + ' ' + str(len(authors[key])))\n",
    "            for path in authors[key]:\n",
    "                print(path)\n",
    "                df = v3_txt_to_df(path, key)\n",
    "                dataframes.append(df)\n",
    "                print(len(dataframes))\n",
    "\n",
    "    print(len(dataframes))\n",
    "    bigdata = pd.concat(dataframes, ignore_index=True)\n",
    "    bigdata.to_feather(get_model_folder() +  'parsed_v3_log-final_arts_arthistory_aesthetics_bigger_than_2.feather')"
   ]
  },
  {
   "cell_type": "code",
   "execution_count": null,
   "metadata": {
    "collapsed": true
   },
   "outputs": [],
   "source": [
    "# 3 using it\n",
    "import random\n",
    "import pandas as pd\n",
    "from IPython.core.display import display, HTML\n",
    "import time\n",
    "import feather\n",
    "\n",
    "pd.set_option('max_colwidth',200)\n",
    "\n",
    "df = feather.read_dataframe(get_model_folder() + 'parsed_v3_log-final_arts_arthistory_aesthetics_bigger_than_2.feather')\n",
    "\n",
    "    \n",
    "start_time = time.time()\n",
    "# get_similar(df,'power war fight pain kill')\n",
    "selection = get_similar(df, 'touring machine algorithm')\n",
    "print('selection: ' + selection['author'])\n",
    "end_time = time.time() - start_time\n",
    "print(str(end_time) + ' seconds.' )"
   ]
  },
  {
   "cell_type": "code",
   "execution_count": null,
   "metadata": {
    "collapsed": true
   },
   "outputs": [],
   "source": []
  }
 ],
 "metadata": {
  "kernelspec": {
   "display_name": "Python 3",
   "language": "python",
   "name": "python3"
  },
  "language_info": {
   "codemirror_mode": {
    "name": "ipython",
    "version": 3
   },
   "file_extension": ".py",
   "mimetype": "text/x-python",
   "name": "python",
   "nbconvert_exporter": "python",
   "pygments_lexer": "ipython3",
   "version": "3.5.2"
  }
 },
 "nbformat": 4,
 "nbformat_minor": 2
}
