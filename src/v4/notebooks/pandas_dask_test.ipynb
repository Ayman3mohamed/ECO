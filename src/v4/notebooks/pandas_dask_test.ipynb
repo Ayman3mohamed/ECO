{
 "cells": [
  {
   "cell_type": "code",
   "execution_count": 1,
   "metadata": {},
   "outputs": [
    {
     "name": "stdout",
     "output_type": "stream",
     "text": [
      "get_project_folder(): /home/marcel/projects/eco/\n",
      "get_data_folder(): /mnt/drive1/data/eco/\n",
      "get_model_folder(): /mnt/drive1/data/eco/models/\n"
     ]
    }
   ],
   "source": [
    "%run ../../v4/misc/data_access.py"
   ]
  },
  {
   "cell_type": "code",
   "execution_count": 7,
   "metadata": {},
   "outputs": [
    {
     "name": "stdout",
     "output_type": "stream",
     "text": [
      "Garland,David 24\n",
      "/mnt/drive1/data/eco/NAIL_DATAFIELD_txt/parsed_v3/law_legal_theory_prison_ip/Garland - Review - The Commonplace and the Catastrophic - Interpretations of Crime in Late M_valid.txt\n",
      "[('publications', 0.5955274105072021), ('essays', 0.5703297853469849), ('journal', 0.5485131144523621), ('monographs', 0.5223984122276306), ('rethinking', 0.522263765335083), ('essay', 0.5210254788398743), ('review', 0.5072212815284729), ('ecocriticism', 0.5068739056587219), ('sociological', 0.5052769184112549), ('theory', 0.4989697337150574)]\n",
      "[(',', 0.6477832794189453), ('rethinking', 0.5640451908111572), ('modernity', 0.5625160932540894), ('critique', 0.5615260601043701), (':', 0.5593869686126709), ('.', 0.553613007068634), ('morality', 0.5529439449310303), ('aesthetics', 0.5367676615715027), ('theory', 0.5334801077842712), ('deviance', 0.532272458076477)]\n",
      "[(':', 0.6701797842979431), ('&', 0.6192981600761414), ('schuster', 0.5365140438079834), ('.', 0.5300980806350708), ('162', 0.524241030216217), (',', 0.5108296275138855), ('/', 0.49391233921051025), ('ed.', 0.4843387007713318), ('publ', 0.4828776717185974), ('a.', 0.47862786054611206)]\n",
      "[(',', 0.6291996240615845), ('fundamental', 0.612281322479248), ('empirical', 0.5887206792831421), ('social', 0.5870285630226135), ('.', 0.5833925008773804), ('theory', 0.5741652846336365), ('underlying', 0.5716902017593384), ('systemic', 0.5671654939651489), ('methodology', 0.5624018311500549), ('processes', 0.5572705268859863)]\n",
      "[(',', 0.683157742023468), ('.', 0.6426118612289429), ('aesthetic', 0.6030421257019043), ('the', 0.5928042531013489), ('poetic', 0.5627907514572144), ('expression', 0.5613125562667847), ('aesthetics', 0.5548928380012512), ('narrative', 0.5538492202758789), ('sense', 0.5483614802360535), ('of', 0.5467219948768616)]\n",
      "[(',', 0.7118138670921326), ('.', 0.6048645377159119), ('critique', 0.5635035634040833), ('interpretation', 0.5501505732536316), ('meaningful', 0.5495615601539612), ('relevant', 0.5492274761199951), ('fundamental', 0.5474982857704163), ('understanding', 0.5466768145561218), ('rational', 0.5356305241584778), ('nature', 0.5330437421798706)]\n",
      "[('.', 0.5702624320983887), ('relatively', 0.5669282078742981), (',', 0.5663613080978394), ('significant', 0.545741081237793), ('pervasive', 0.5425640344619751), ('growth', 0.5391498804092407), ('the', 0.537537693977356), ('societal', 0.5319361090660095), ('of', 0.5251487493515015), ('trends', 0.5206335783004761)]\n",
      "[('.', 0.6697831153869629), ('processes', 0.6376160383224487), (',', 0.6268022656440735), ('strategies', 0.6065102815628052), ('need', 0.6062243580818176), ('behaviors', 0.5983113646507263), ('and', 0.5920441746711731), ('approach', 0.5919649600982666), ('behavior', 0.5904504060745239), ('practical', 0.581915020942688)]\n",
      "[(',', 0.7312785387039185), ('.', 0.6999483704566956), ('these', 0.6538528203964233), ('the', 0.6413863897323608), ('and', 0.6273940801620483), ('certain', 0.5931063294410706), ('of', 0.5910653471946716), ('normative', 0.5893334150314331), ('particular', 0.5871623754501343), ('concepts', 0.5815818309783936)]\n",
      "[(',', 0.7273401021957397), ('.', 0.70567786693573), ('any', 0.6074039936065674), ('the', 0.6029361486434937), ('or', 0.6026596426963806), ('that', 0.5904969573020935), ('them', 0.5772183537483215), ('those', 0.5630660057067871), ('sense', 0.5606719851493835), ('therefore', 0.5576136112213135)]\n",
      "[(',', 0.7100040316581726), ('.', 0.6865886449813843), ('the', 0.6142956018447876), ('moral', 0.6135604381561279), ('sense', 0.6075947284698486), ('nature', 0.6050570011138916), ('instinctual', 0.5823160409927368), ('alienation', 0.5814679861068726), ('perception', 0.5770551562309265), ('empathy', 0.5649861693382263)]\n",
      "[(',', 0.7304804921150208), ('.', 0.7026019096374512), ('behavior', 0.5639725923538208), ('the', 0.5596349239349365), ('violence', 0.5506595373153687), ('harmful', 0.5264108777046204), ('moral', 0.52525794506073), ('avoidance', 0.5241511464118958), ('and', 0.5222619771957397), ('or', 0.5212156772613525)]\n",
      "[('.', 0.6496479511260986), (',', 0.6411843299865723), ('the', 0.5694701671600342), ('destructive', 0.5364084243774414), ('aggression', 0.5358085632324219), ('repressing', 0.5330482721328735), ('repressive', 0.526145339012146), ('violence', 0.5209612846374512), ('and', 0.5193251371383667), ('necessity', 0.5153008699417114)]\n",
      "[(',', 0.7018776535987854), ('.', 0.6672104597091675), ('behavior', 0.5751208066940308), ('concepts', 0.5745949745178223), ('processes', 0.571694016456604), ('social', 0.5715797543525696), ('societal', 0.5634759664535522), ('situations', 0.563245952129364), ('rational', 0.5607097148895264), ('and', 0.5577843189239502)]\n",
      "[('elements', 0.6694715023040771), ('processes', 0.6581853628158569), ('functions', 0.6448732614517212), ('concepts', 0.6370519399642944), ('.', 0.6322807669639587), ('function', 0.6265178322792053), ('modes', 0.6160436868667603), ('aspects', 0.6125153303146362), ('objects', 0.6116002798080444), ('values', 0.6076607704162598)]\n",
      "[('.', 0.7418254613876343), ('individuals', 0.7401665449142456), (',', 0.7274379730224609), ('those', 0.6427868604660034), ('these', 0.6398336291313171), ('or', 0.6352425217628479), ('individual', 0.6270112991333008), ('certain', 0.6155739426612854), ('specific', 0.6033410429954529), ('the', 0.6007736325263977)]\n",
      "[('.', 0.7458158731460571), (',', 0.7383396029472351), ('or', 0.6601691246032715), ('certain', 0.6407569050788879), ('behavior', 0.6379465460777283), ('specific', 0.622085690498352), ('behaviors', 0.6096254587173462), ('particular', 0.606411337852478), ('the', 0.595969557762146), ('physical', 0.5953368544578552)]\n",
      "[('situations', 0.646725058555603), ('.', 0.6393560171127319), ('furthermore', 0.628644585609436), ('particular', 0.6255724430084229), ('individuals', 0.6235939264297485), ('processes', 0.6187583208084106), ('behaviors', 0.6158840656280518), ('relevant', 0.6104370355606079), ('specific', 0.6062479019165039), ('outcomes', 0.5992361307144165)]\n",
      "[('.', 0.6210961937904358), (',', 0.5964628458023071), ('utilization', 0.5383861064910889), ('consumption', 0.5264940857887268), ('exploitation', 0.5187340974807739), ('incentives', 0.50664222240448), ('and', 0.49916642904281616), ('implementation', 0.4959019124507904), ('use', 0.4956033229827881), ('resources', 0.4934147596359253)]\n",
      "[('.', 0.619647741317749), (',', 0.5843799114227295), ('the', 0.5420244932174683), ('and', 0.5212397575378418), ('growth', 0.5182914733886719), ('urbanization', 0.5096325278282166), ('mobility', 0.5066635608673096), ('areas', 0.4992434084415436), ('levels', 0.49257898330688477), ('of', 0.49198317527770996)]\n",
      "[(',', 0.687437891960144), ('.', 0.6431995034217834), ('sense', 0.6386056542396545), ('perception', 0.6059945821762085), ('societal', 0.6021808385848999), ('social', 0.6007248163223267), ('moral', 0.5957136750221252), ('understanding', 0.5949333310127258), ('behavior', 0.5811754465103149), ('nature', 0.5734950304031372)]\n",
      "[(',', 0.6148585677146912), ('context', 0.6117139458656311), ('.', 0.6095094084739685), ('particular', 0.5796073079109192), ('the', 0.5717461109161377), ('transformation', 0.5660543441772461), ('social', 0.5421204566955566), ('dynamic', 0.5349990725517273), ('of', 0.534810483455658), ('perception', 0.5337282419204712)]\n",
      "[('.', 0.6779777407646179), (',', 0.6723220348358154), ('the', 0.6048561334609985), ('activity', 0.558596134185791), ('and', 0.5466080904006958), ('levels', 0.5282518863677979), ('this', 0.5091457366943359), ('itself', 0.5081151723861694), ('reduction', 0.5080211162567139), ('of', 0.4991748034954071)]\n",
      "[(',', 0.7402285933494568), ('.', 0.7202945947647095), ('the', 0.6745721697807312), ('form', 0.6068541407585144), ('this', 0.600614070892334), ('function', 0.5982836484909058), ('therefore', 0.593314528465271), ('expression', 0.5919475555419922), ('and', 0.5888190269470215), ('processes', 0.577025294303894)]\n",
      "[('.', 0.6791192293167114), (',', 0.6124593019485474), ('characteristics', 0.5789309740066528), ('and', 0.5783731937408447), ('behavior', 0.5757369995117188), ('processes', 0.5622081756591797), ('interactions', 0.5563640594482422), ('behaviors', 0.5560659766197205), ('sensitivity', 0.5455856323242188), ('the', 0.5430151224136353)]\n",
      "[(',', 0.6976605653762817), ('.', 0.644945502281189), ('the', 0.5789535045623779), ('expression', 0.5688613653182983), ('concepts', 0.5656123161315918), ('perception', 0.5614501237869263), ('context', 0.5596175193786621), ('this', 0.5514969825744629), ('and', 0.5511517524719238), ('interpretation', 0.544139564037323)]\n"
     ]
    },
    {
     "name": "stdout",
     "output_type": "stream",
     "text": [
      "[('seem', 0.6117356419563293), ('choice', 0.5608702898025513), ('thinking', 0.5228046178817749), ('think', 0.5170756578445435), ('choices', 0.5151342153549194), ('sense', 0.5048015117645264), ('behavior', 0.49907398223876953), ('necessarily', 0.4947967231273651), ('thought', 0.48484599590301514), ('conversely', 0.4846529960632324)]\n",
      "[('pathos', 0.5680319666862488), ('sense', 0.5642975568771362), ('introspection', 0.5421034693717957), ('nuanced', 0.5330686569213867), ('existential', 0.5324230194091797), ('expression', 0.5309065580368042), ('interpretation', 0.5222952961921692), ('aesthetic', 0.5178512334823608), ('idealization', 0.515680730342865), ('inwardness', 0.5144637823104858)]\n",
      "[('.', 0.6662648916244507), (',', 0.663355827331543), ('nature', 0.6581265926361084), ('stress', 0.6457287073135376), ('deviance', 0.6424077749252319), ('behavior', 0.6393845677375793), ('expression', 0.6183334589004517), ('generalized', 0.6181088089942932), ('perception', 0.5990921258926392), ('psychological', 0.5977404713630676)]\n",
      "[('philosophy', 0.7093504667282104), ('humanism', 0.7021337151527405), ('aesthetics', 0.6877439022064209), ('rationalism', 0.6820464730262756), ('naturalism', 0.6796903014183044), ('modernity', 0.6757728457450867), ('discourse', 0.6483349800109863), ('philosophical', 0.6402873992919922), ('idealism', 0.6385042667388916), ('pragmatism', 0.6378901600837708)]\n",
      "[('.', 0.5754141807556152), (',', 0.5359574556350708), ('nature', 0.5299028158187866), ('particular', 0.5244439840316772), ('notion', 0.5218902826309204), ('aesthetic', 0.507675290107727), ('notions', 0.4995846450328827), ('and', 0.49911320209503174), ('discourse', 0.4981001615524292), ('’', 0.49648475646972656)]\n",
      "[('interpretation', 0.6470767259597778), ('methodology', 0.613205075263977), ('theoretical', 0.6028120517730713), ('approach', 0.6017820835113525), ('empirical', 0.5996226072311401), ('methodological', 0.5948009490966797), ('analysis', 0.5876193642616272), ('detail', 0.5856376886367798), ('theory', 0.5807459354400635), ('methods', 0.5732672214508057)]\n",
      "[('parameters', 0.6247298717498779), ('processes', 0.6239698529243469), ('categories', 0.6218380928039551), ('definitions', 0.6218026876449585), ('factors', 0.6093968749046326), ('values', 0.6074995994567871), ('characteristics', 0.6071736812591553), ('variables', 0.6064977049827576), ('.', 0.6017167568206787), ('context', 0.5981653928756714)]\n",
      "[(',', 0.7571460008621216), ('.', 0.6954585313796997), ('that', 0.6033142805099487), ('simply', 0.590178370475769), ('underlying', 0.5746782422065735), ('rational', 0.5728003978729248), ('theory', 0.5713709592819214), ('or', 0.5709099769592285), ('the', 0.5701107978820801), ('and', 0.5607240200042725)]\n",
      "[('moral', 0.6681317090988159), ('sense', 0.649311900138855), (',', 0.6477346420288086), ('poetic', 0.6342328786849976), ('morality', 0.632689356803894), ('aesthetic', 0.6294185519218445), ('expression', 0.6224780082702637), ('metaphysical', 0.6084977388381958), ('nature', 0.6084975004196167), ('metaphorical', 0.59116530418396)]\n",
      "[('grotesque', 0.5721930265426636), ('trope', 0.560106635093689), ('nihilistic', 0.5580565929412842), ('pastiche', 0.5435106158256531), ('evoking', 0.5421634912490845), ('melodramatic', 0.5416853427886963), ('narrative', 0.5402681827545166), ('moralizing', 0.5362693071365356), ('archetypal', 0.5352838039398193), ('sentimentality', 0.5316829085350037)]\n",
      "[(',', 0.6360227465629578), ('expressive', 0.621303141117096), ('aesthetic', 0.6197865009307861), ('subtle', 0.6183524131774902), ('rhetorical', 0.6152952909469604), ('sense', 0.6130537390708923), ('narrative', 0.59939044713974), ('aesthetics', 0.5912624597549438), ('realism', 0.5892400741577148), ('.', 0.5787495374679565)]\n",
      "[(',', 0.577218770980835), ('subtle', 0.569317102432251), ('.', 0.5691341161727905), ('simple', 0.5559000372886658), ('playful', 0.5383303165435791), ('emotion', 0.5306692123413086), ('sensual', 0.5230439305305481), ('frightening', 0.5224910974502563), ('perverse', 0.5222797393798828), ('sense', 0.5192941427230835)]\n",
      "[('quotidian', 0.7073168754577637), ('ordinariness', 0.5725986957550049), ('everyday', 0.5686095356941223), ('.', 0.5664145946502686), ('stresses', 0.5628013014793396), ('reflection', 0.5546546578407288), ('timelessness', 0.5507879257202148), ('nature', 0.5498654842376709), ('transience', 0.5466946363449097), ('inherent', 0.5435572862625122)]\n",
      "[('illustrate', 0.6685863733291626), ('.', 0.6389991044998169), ('examples', 0.6370982527732849), (',', 0.6168763041496277), ('mean', 0.6131879091262817), ('describe', 0.5934720635414124), ('characterize', 0.5738224983215332), ('define', 0.5686675310134888), ('compare', 0.5626195073127747), ('or', 0.56080561876297)]\n",
      "[('.', 0.8679735064506531), (',', 0.710726261138916), ('the', 0.6282064914703369), ('and', 0.6139418482780457), ('or', 0.6102148294448853), (':', 0.5628378391265869), ('therefore', 0.5540629625320435), ('consequences', 0.5519751310348511), ('of', 0.5461423397064209), ('a', 0.5424967408180237)]\n",
      "[('descriptions', 0.6183684468269348), ('simple', 0.6174631118774414), ('descriptive', 0.5901766419410706), ('detailed', 0.5748223066329956), ('simpler', 0.5700065493583679), ('detail', 0.5581140518188477), ('useful', 0.5353889465332031), ('mundane', 0.5353772044181824), ('straightforward', 0.5341869592666626), ('realistic', 0.5322170257568359)]\n",
      "[('sense', 0.6828502416610718), ('robust', 0.6156072020530701), ('.', 0.5935829877853394), (',', 0.5927023887634277), ('characteristic', 0.5811669826507568), ('modernity', 0.5711959600448608), ('simple', 0.5603287816047668), ('aesthetic', 0.555452287197113), ('common', 0.5526652336120605), ('subtle', 0.5514788031578064)]\n",
      "[('practical', 0.720346212387085), ('knowledge', 0.6905391216278076), ('creativity', 0.6754332780838013), ('ingenuity', 0.6531236171722412), (',', 0.6237751245498657), ('mastery', 0.5960138440132141), ('skill', 0.5941280126571655), ('simplicity', 0.5936011075973511), ('wisdom', 0.5840606689453125), ('understanding', 0.5830972194671631)]\n",
      "[('.', 0.6762958765029907), (',', 0.6278985738754272), ('’', 0.5999009013175964), ('sense', 0.5689749717712402), ('the', 0.5591474175453186), ('and', 0.5459917783737183), ('nature', 0.5413675308227539), ('human', 0.5248543620109558), ('empathy', 0.5220288038253784), ('expression', 0.5206277370452881)]\n",
      "[(',', 0.687100887298584), ('.', 0.6830772161483765), ('sense', 0.5926955938339233), ('behavior', 0.5924121141433716), ('expression', 0.588969886302948), ('moral', 0.5873699188232422), ('tolerance', 0.5864671468734741), ('indifference', 0.5862935781478882), ('attitude', 0.5775458812713623), ('empathy', 0.5746209025382996)]\n",
      "[(',', 0.7937021255493164), ('.', 0.7695398926734924), ('and', 0.6195211410522461), ('or', 0.6172186136245728), ('the', 0.569541871547699), ('often', 0.5518192052841187), ('typically', 0.5325547456741333), ('a', 0.5247151851654053), ('usually', 0.5076572895050049), ('parasitic', 0.4994305372238159)]\n",
      "[(',', 0.6834543943405151), ('.', 0.6829036474227905), ('even', 0.5988724827766418), ('and', 0.5860985517501831), ('much', 0.5716586112976074), ('that', 0.5540376901626587), ('the', 0.5535660982131958), ('or', 0.5490195751190186), ('therefore', 0.5432871580123901), ('often', 0.5392135977745056)]\n",
      "[(',', 0.5670719146728516), ('.', 0.556252121925354), ('’', 0.541530966758728), ('naturalism', 0.5243407487869263), ('romance', 0.5056906938552856), ('metaphysical', 0.48583799600601196), ('realism', 0.48218393325805664), (\"'\", 0.47742539644241333), ('morality', 0.47609686851501465), ('materialism', 0.4755076467990875)]\n",
      "[('sense', 0.675081729888916), (',', 0.6595495343208313), ('notion', 0.6310540437698364), ('.', 0.6302458047866821), ('expression', 0.6127845644950867), ('approach', 0.6106774210929871), ('context', 0.6066902875900269), ('perception', 0.5929965972900391), ('thinking', 0.5832470059394836), ('aspect', 0.5803132653236389)]\n",
      "[(',', 0.7046729326248169), ('.', 0.6373283863067627), ('values', 0.578303337097168), ('sense', 0.5635188221931458), ('notions', 0.5627316236495972), ('and', 0.5518172383308411), ('the', 0.5512765645980835), ('fundamental', 0.5498440265655518), ('capitalism', 0.545886754989624), ('notion', 0.5432111024856567)]\n",
      "[('sense', 0.6143401861190796), ('precisely', 0.603710412979126), ('essence', 0.5832411050796509), ('something', 0.5805373191833496), ('thing', 0.5736604332923889), ('subtle', 0.5697174668312073), ('simply', 0.5681383013725281), ('simplicity', 0.5666229128837585), ('obviously', 0.5652413368225098), ('emotion', 0.5636159181594849)]\n"
     ]
    },
    {
     "name": "stdout",
     "output_type": "stream",
     "text": [
      "[('something', 0.6728827953338623), ('everything', 0.6623753905296326), ('anything', 0.6588799953460693), ('everyone', 0.6367336511611938), ('nothing', 0.6267225742340088), ('someone', 0.5706896781921387), ('things', 0.5703892111778259), ('truth', 0.5672838091850281), ('message', 0.5618033409118652), ('what', 0.5609490871429443)]\n",
      "[(',', 0.6712071895599365), ('.', 0.6438119411468506), ('nature', 0.6417810320854187), ('sense', 0.6203420162200928), ('inherently', 0.6002553701400757), ('moral', 0.5998080968856812), ('perception', 0.591296374797821), ('morality', 0.5775536298751831), ('often', 0.575863778591156), ('inherent', 0.57243812084198)]\n",
      "[('.', 0.6497284770011902), ('way', 0.6403625011444092), (',', 0.5580343008041382), ('and', 0.524136483669281), ('sense', 0.5168054103851318), ('or', 0.5014296174049377), ('ability', 0.4973866045475006), ('ways', 0.4939349293708801), ('emotions', 0.49175575375556946), ('situations', 0.4874339997768402)]\n",
      "[(',', 0.7136486768722534), ('.', 0.6646836996078491), ('societal', 0.5932014584541321), ('symptom', 0.5769596099853516), ('underlying', 0.5767365097999573), ('often', 0.5751638412475586), ('the', 0.5691591501235962), ('indicative', 0.5667325854301453), ('social', 0.5662747621536255), ('inherent', 0.5604294538497925)]\n",
      "[('crime', 0.6474106311798096), ('.', 0.635114312171936), ('nothing', 0.6348954439163208), (',', 0.6160350441932678), ('anything', 0.590992271900177), ('everything', 0.5741763710975647), ('something', 0.5512736439704895), ('that', 0.5482667088508606), ('what', 0.5456546545028687), ('any', 0.5193659663200378)]\n",
      "[(',', 0.7592390775680542), ('.', 0.6964755654335022), ('sense', 0.6339243650436401), ('metaphor', 0.6078757047653198), ('expression', 0.5740845799446106), ('essence', 0.5706697106361389), ('or', 0.5627775192260742), ('necessity', 0.562412679195404), ('that', 0.5572307705879211), ('merely', 0.5531389713287354)]\n",
      "[('ignorance', 0.6107589602470398), (',', 0.6068992018699646), ('guilt', 0.6060242652893066), ('weakness', 0.6041620373725891), ('cause', 0.6002321839332581), ('problem', 0.5971184968948364), ('fear', 0.5928423404693604), ('despair', 0.5920052528381348), ('.', 0.5830443501472473), ('consequences', 0.5817204117774963)]\n",
      "[('utopianism', 0.5790040493011475), ('irrationality', 0.5778012275695801), ('fatalism', 0.5731565952301025), ('meaninglessness', 0.5683023929595947), ('perversion', 0.557053804397583), ('nihilism', 0.555399477481842), ('materialism', 0.5544588565826416), ('irrationalism', 0.5535933375358582), ('ressentiment', 0.5535715222358704), ('scientism', 0.5524957180023193)]\n",
      "[('procedures', 0.636101484298706), ('interventions', 0.6355627775192261), ('routine', 0.6354904174804688), ('situations', 0.5940371155738831), ('precautions', 0.5710599422454834), ('risks', 0.5458332896232605), ('measures', 0.5425800085067749), ('tasks', 0.5158239603042603), ('.', 0.5094776749610901), ('actions', 0.504033625125885)]\n",
      "[('.', 0.6696365475654602), (',', 0.6477810740470886), ('and', 0.5703660249710083), ('them', 0.5534064769744873), ('way', 0.5353642106056213), ('simple', 0.5258381962776184), ('or', 0.5255439281463623), ('skin', 0.504763126373291), ('massaging', 0.5014503002166748), ('clean', 0.5005776882171631)]\n"
     ]
    },
    {
     "ename": "KeyboardInterrupt",
     "evalue": "",
     "output_type": "error",
     "traceback": [
      "\u001b[0;31m---------------------------------------------------------------------------\u001b[0m",
      "\u001b[0;31mKeyboardInterrupt\u001b[0m                         Traceback (most recent call last)",
      "\u001b[0;32m<ipython-input-7-9b210efd6e76>\u001b[0m in \u001b[0;36m<module>\u001b[0;34m()\u001b[0m\n\u001b[1;32m     33\u001b[0m         \u001b[0;32mfor\u001b[0m \u001b[0mpath\u001b[0m \u001b[0;32min\u001b[0m \u001b[0mauthors\u001b[0m\u001b[0;34m[\u001b[0m\u001b[0mkey\u001b[0m\u001b[0;34m]\u001b[0m\u001b[0;34m:\u001b[0m\u001b[0;34m\u001b[0m\u001b[0m\n\u001b[1;32m     34\u001b[0m             \u001b[0mprint\u001b[0m\u001b[0;34m(\u001b[0m\u001b[0mpath\u001b[0m\u001b[0;34m)\u001b[0m\u001b[0;34m\u001b[0m\u001b[0m\n\u001b[0;32m---> 35\u001b[0;31m             \u001b[0mdf\u001b[0m \u001b[0;34m=\u001b[0m \u001b[0mv3_txt_to_df\u001b[0m\u001b[0;34m(\u001b[0m\u001b[0mpath\u001b[0m\u001b[0;34m,\u001b[0m \u001b[0mkey\u001b[0m\u001b[0;34m)\u001b[0m\u001b[0;34m\u001b[0m\u001b[0m\n\u001b[0m\u001b[1;32m     36\u001b[0m             \u001b[0mdataframes\u001b[0m\u001b[0;34m.\u001b[0m\u001b[0mappend\u001b[0m\u001b[0;34m(\u001b[0m\u001b[0mdf\u001b[0m\u001b[0;34m)\u001b[0m\u001b[0;34m\u001b[0m\u001b[0m\n\u001b[1;32m     37\u001b[0m             \u001b[0mprint\u001b[0m\u001b[0;34m(\u001b[0m\u001b[0mlen\u001b[0m\u001b[0;34m(\u001b[0m\u001b[0mdataframes\u001b[0m\u001b[0;34m)\u001b[0m\u001b[0;34m)\u001b[0m\u001b[0;34m\u001b[0m\u001b[0m\n",
      "\u001b[0;32m<ipython-input-6-92f63a2b29d7>\u001b[0m in \u001b[0;36mv3_txt_to_df\u001b[0;34m(path, author)\u001b[0m\n\u001b[1;32m     46\u001b[0m     \u001b[0mrow_list\u001b[0m \u001b[0;34m=\u001b[0m \u001b[0;34m[\u001b[0m\u001b[0;34m]\u001b[0m\u001b[0;34m\u001b[0m\u001b[0m\n\u001b[1;32m     47\u001b[0m     \u001b[0;32mfor\u001b[0m \u001b[0mline\u001b[0m \u001b[0;32min\u001b[0m \u001b[0mdata\u001b[0m\u001b[0;34m:\u001b[0m\u001b[0;34m\u001b[0m\u001b[0m\n\u001b[0;32m---> 48\u001b[0;31m         \u001b[0mvec\u001b[0m \u001b[0;34m=\u001b[0m \u001b[0mto_vector\u001b[0m\u001b[0;34m(\u001b[0m\u001b[0mline\u001b[0m\u001b[0;34m)\u001b[0m\u001b[0;34m\u001b[0m\u001b[0m\n\u001b[0m\u001b[1;32m     49\u001b[0m         \u001b[0mnew_row\u001b[0m \u001b[0;34m=\u001b[0m \u001b[0;34m{\u001b[0m\u001b[0;34m}\u001b[0m\u001b[0;34m\u001b[0m\u001b[0m\n\u001b[1;32m     50\u001b[0m         \u001b[0mindex\u001b[0m \u001b[0;34m=\u001b[0m \u001b[0;36m0\u001b[0m\u001b[0;34m\u001b[0m\u001b[0m\n",
      "\u001b[0;32m<ipython-input-6-92f63a2b29d7>\u001b[0m in \u001b[0;36mto_vector\u001b[0;34m(sentence)\u001b[0m\n\u001b[1;32m     12\u001b[0m \u001b[0;34m\u001b[0m\u001b[0m\n\u001b[1;32m     13\u001b[0m     \u001b[0mvector\u001b[0m \u001b[0;34m=\u001b[0m \u001b[0mnp\u001b[0m\u001b[0;34m.\u001b[0m\u001b[0mmean\u001b[0m\u001b[0;34m(\u001b[0m\u001b[0mvectors\u001b[0m\u001b[0;34m,\u001b[0m \u001b[0maxis\u001b[0m\u001b[0;34m=\u001b[0m\u001b[0;36m0\u001b[0m\u001b[0;34m)\u001b[0m\u001b[0;34m\u001b[0m\u001b[0m\n\u001b[0;32m---> 14\u001b[0;31m     \u001b[0mprint\u001b[0m\u001b[0;34m(\u001b[0m\u001b[0mmodel\u001b[0m\u001b[0;34m.\u001b[0m\u001b[0msimilar_by_vector\u001b[0m\u001b[0;34m(\u001b[0m\u001b[0mvector\u001b[0m\u001b[0;34m)\u001b[0m\u001b[0;34m)\u001b[0m\u001b[0;34m\u001b[0m\u001b[0m\n\u001b[0m\u001b[1;32m     15\u001b[0m     \u001b[0;32mreturn\u001b[0m \u001b[0mvector\u001b[0m\u001b[0;34m\u001b[0m\u001b[0m\n\u001b[1;32m     16\u001b[0m \u001b[0;34m\u001b[0m\u001b[0m\n",
      "\u001b[0;32m/mnt/drive1/virtualenvs/gdoors_py3/lib/python3.5/site-packages/gensim/models/word2vec.py\u001b[0m in \u001b[0;36msimilar_by_vector\u001b[0;34m(self, vector, topn, restrict_vocab)\u001b[0m\n\u001b[1;32m   1242\u001b[0m         \"\"\"\n\u001b[1;32m   1243\u001b[0m \u001b[0;34m\u001b[0m\u001b[0m\n\u001b[0;32m-> 1244\u001b[0;31m         \u001b[0;32mreturn\u001b[0m \u001b[0mself\u001b[0m\u001b[0;34m.\u001b[0m\u001b[0mwv\u001b[0m\u001b[0;34m.\u001b[0m\u001b[0msimilar_by_vector\u001b[0m\u001b[0;34m(\u001b[0m\u001b[0mvector\u001b[0m\u001b[0;34m,\u001b[0m \u001b[0mtopn\u001b[0m\u001b[0;34m,\u001b[0m \u001b[0mrestrict_vocab\u001b[0m\u001b[0;34m)\u001b[0m\u001b[0;34m\u001b[0m\u001b[0m\n\u001b[0m\u001b[1;32m   1245\u001b[0m \u001b[0;34m\u001b[0m\u001b[0m\n\u001b[1;32m   1246\u001b[0m     \u001b[0;32mdef\u001b[0m \u001b[0mdoesnt_match\u001b[0m\u001b[0;34m(\u001b[0m\u001b[0mself\u001b[0m\u001b[0;34m,\u001b[0m \u001b[0mwords\u001b[0m\u001b[0;34m)\u001b[0m\u001b[0;34m:\u001b[0m\u001b[0;34m\u001b[0m\u001b[0m\n",
      "\u001b[0;32m/mnt/drive1/virtualenvs/gdoors_py3/lib/python3.5/site-packages/gensim/models/keyedvectors.py\u001b[0m in \u001b[0;36msimilar_by_vector\u001b[0;34m(self, vector, topn, restrict_vocab)\u001b[0m\n\u001b[1;32m    528\u001b[0m         \"\"\"\n\u001b[1;32m    529\u001b[0m \u001b[0;34m\u001b[0m\u001b[0m\n\u001b[0;32m--> 530\u001b[0;31m         \u001b[0;32mreturn\u001b[0m \u001b[0mself\u001b[0m\u001b[0;34m.\u001b[0m\u001b[0mmost_similar\u001b[0m\u001b[0;34m(\u001b[0m\u001b[0mpositive\u001b[0m\u001b[0;34m=\u001b[0m\u001b[0;34m[\u001b[0m\u001b[0mvector\u001b[0m\u001b[0;34m]\u001b[0m\u001b[0;34m,\u001b[0m \u001b[0mtopn\u001b[0m\u001b[0;34m=\u001b[0m\u001b[0mtopn\u001b[0m\u001b[0;34m,\u001b[0m \u001b[0mrestrict_vocab\u001b[0m\u001b[0;34m=\u001b[0m\u001b[0mrestrict_vocab\u001b[0m\u001b[0;34m)\u001b[0m\u001b[0;34m\u001b[0m\u001b[0m\n\u001b[0m\u001b[1;32m    531\u001b[0m \u001b[0;34m\u001b[0m\u001b[0m\n\u001b[1;32m    532\u001b[0m     \u001b[0;32mdef\u001b[0m \u001b[0mdoesnt_match\u001b[0m\u001b[0;34m(\u001b[0m\u001b[0mself\u001b[0m\u001b[0;34m,\u001b[0m \u001b[0mwords\u001b[0m\u001b[0;34m)\u001b[0m\u001b[0;34m:\u001b[0m\u001b[0;34m\u001b[0m\u001b[0m\n",
      "\u001b[0;32m/mnt/drive1/virtualenvs/gdoors_py3/lib/python3.5/site-packages/gensim/models/keyedvectors.py\u001b[0m in \u001b[0;36mmost_similar\u001b[0;34m(self, positive, negative, topn, restrict_vocab, indexer)\u001b[0m\n\u001b[1;32m    335\u001b[0m \u001b[0;34m\u001b[0m\u001b[0m\n\u001b[1;32m    336\u001b[0m         \u001b[0mlimited\u001b[0m \u001b[0;34m=\u001b[0m \u001b[0mself\u001b[0m\u001b[0;34m.\u001b[0m\u001b[0msyn0norm\u001b[0m \u001b[0;32mif\u001b[0m \u001b[0mrestrict_vocab\u001b[0m \u001b[0;32mis\u001b[0m \u001b[0;32mNone\u001b[0m \u001b[0;32melse\u001b[0m \u001b[0mself\u001b[0m\u001b[0;34m.\u001b[0m\u001b[0msyn0norm\u001b[0m\u001b[0;34m[\u001b[0m\u001b[0;34m:\u001b[0m\u001b[0mrestrict_vocab\u001b[0m\u001b[0;34m]\u001b[0m\u001b[0;34m\u001b[0m\u001b[0m\n\u001b[0;32m--> 337\u001b[0;31m         \u001b[0mdists\u001b[0m \u001b[0;34m=\u001b[0m \u001b[0mdot\u001b[0m\u001b[0;34m(\u001b[0m\u001b[0mlimited\u001b[0m\u001b[0;34m,\u001b[0m \u001b[0mmean\u001b[0m\u001b[0;34m)\u001b[0m\u001b[0;34m\u001b[0m\u001b[0m\n\u001b[0m\u001b[1;32m    338\u001b[0m         \u001b[0;32mif\u001b[0m \u001b[0;32mnot\u001b[0m \u001b[0mtopn\u001b[0m\u001b[0;34m:\u001b[0m\u001b[0;34m\u001b[0m\u001b[0m\n\u001b[1;32m    339\u001b[0m             \u001b[0;32mreturn\u001b[0m \u001b[0mdists\u001b[0m\u001b[0;34m\u001b[0m\u001b[0m\n",
      "\u001b[0;31mKeyboardInterrupt\u001b[0m: "
     ]
    }
   ],
   "source": [
    "# final-json to feather\n",
    "import json\n",
    "import codecs\n",
    "import os\n",
    "import pandas as pd\n",
    "\n",
    "def read_json_file(file_name):\n",
    "   with codecs.open(file_name,encoding='utf-8') as fin:\n",
    "       return json.loads(fin.read())\n",
    "\n",
    "json = read_json_file(get_project_folder() + 'src/python/notebooks/log-final.json')\n",
    "base_path = json['folder_path']\n",
    "\n",
    "authors = {}\n",
    "\n",
    "for key in json['file_descriptors']:\n",
    "    values = json['file_descriptors'][key]\n",
    "    rel_path = values['rel_path']\n",
    "    file_name = values['file_name']\n",
    "    author_name = values['author_name']\n",
    "    abs_path = os.path.join(base_path + rel_path, file_name)\n",
    "    if author_name not in authors:\n",
    "        authors[author_name] = []\n",
    "        \n",
    "    authors[author_name].append(abs_path)\n",
    "        \n",
    "# dont start this unless you have some time :)\n",
    "dataframes = []\n",
    "# saving dataframes\n",
    "for key in authors:\n",
    "    if len(authors[key]) > 20:\n",
    "        print(key + ' ' + str(len(authors[key])))\n",
    "        for path in authors[key]:\n",
    "            print(path)\n",
    "            df = v3_txt_to_df(path, key)\n",
    "            dataframes.append(df)\n",
    "            print(len(dataframes))\n",
    "\n",
    "print(len(dataframes))\n",
    "bigdata = pd.concat(dataframes, ignore_index=True)\n",
    "bigdata.to_feather(get_model_folder() +  'parsed_v3_log-final_bigger_than_20_incl_filename.feather')"
   ]
  },
  {
   "cell_type": "code",
   "execution_count": null,
   "metadata": {
    "collapsed": true
   },
   "outputs": [],
   "source": [
    "# 1\n",
    "\n",
    "import gensim\n",
    "from nltk.corpus import stopwords\n",
    "import numpy as np\n",
    "\n",
    "\n",
    "model = gensim.models.Word2Vec.load(get_model_folder() + 'word2vec_models/wiki_plus_v3_valid_combined.txt_numpy.w2vmodel')\n"
   ]
  },
  {
   "cell_type": "code",
   "execution_count": 6,
   "metadata": {
    "collapsed": true
   },
   "outputs": [],
   "source": [
    "#1.1\n",
    "\n",
    "# sentence to vector via w2v\n",
    "def to_vector(sentence):\n",
    "    sentence = sentence.lower()\n",
    "    # not using english stop words, only using content words\n",
    "    words = [word for word in sentence.split() if (word not in stopwords.words(\"english\") and word in model.vocab)]\n",
    "\n",
    "    vectors = []\n",
    "    for word in words:\n",
    "        vectors.append(model[word])\n",
    "\n",
    "    vector = np.mean(vectors, axis=0)\n",
    "    print(model.similar_by_vector(vector))\n",
    "    return vector\n",
    "\n",
    "\n",
    "# converts a v4 text file into feather file with w2v vec saved\n",
    "def v4_txt_to_feather(path, feather_name):\n",
    "    data = open(path).readlines()\n",
    "\n",
    "    row_list = []\n",
    "    for line in data:\n",
    "        sentence = line.split(';')[0].rstrip()\n",
    "        vec = to_vector(sentence)\n",
    "        new_row = {}\n",
    "        index = 0\n",
    "        try:\n",
    "            for i in vec:\n",
    "                new_row['p'+str(index)] = i\n",
    "                index += 1\n",
    "\n",
    "            new_row['sentence'] = sentence\n",
    "            row_list.append(new_row)\n",
    "        except:\n",
    "            # only happening sometimes. \\o/\n",
    "            pass\n",
    "\n",
    "    df = pd.DataFrame(row_list)\n",
    "    df.to_feather(feather_name)\n",
    "\n",
    "\n",
    "def v3_txt_to_df(path, author):\n",
    "    data = open(path).readlines()\n",
    "    path, filename = os.path.split(path)\n",
    "    row_list = []\n",
    "    for line in data:\n",
    "        vec = to_vector(line)\n",
    "        new_row = {}\n",
    "        index = 0\n",
    "        try:\n",
    "            for i in vec:\n",
    "                new_row['p'+str(index)] = i\n",
    "                index += 1\n",
    "\n",
    "            new_row['sentence'] = line\n",
    "            new_row['author'] = author\n",
    "            new_row['filename'] = filename\n",
    "            row_list.append(new_row)\n",
    "        except:\n",
    "            # only happening sometimes. \\o/\n",
    "            pass\n",
    "\n",
    "    return pd.DataFrame(row_list)\n",
    "\n",
    "    \n",
    "#v4_txt_to_feather('/mnt/drive1/data/eco/NAIL_DATAFIELD_txt/parsed_v4/own_collection_valid.txt', 'out.feather')"
   ]
  },
  {
   "cell_type": "code",
   "execution_count": 3,
   "metadata": {},
   "outputs": [],
   "source": [
    "# 2\n",
    "\n",
    "import feather\n",
    "\n",
    "df = feather.read_dataframe(get_model_folder() + 'parsed_v3_log-final_bigger_than_20.feather')\n",
    "_df = df"
   ]
  },
  {
   "cell_type": "code",
   "execution_count": 4,
   "metadata": {},
   "outputs": [
    {
     "name": "stdout",
     "output_type": "stream",
     "text": [
      "[('europe', 0.6680523157119751), ('germany', 0.6534768342971802), ('asia', 0.5866613388061523), ('france', 0.5456572771072388), ('africa', 0.5350488424301147), ('england', 0.5349924564361572), ('japan', 0.5180532336235046), ('india', 0.5083079934120178), ('scandinavia', 0.5061678886413574), ('russia', 0.5046881437301636)]\n"
     ]
    },
    {
     "data": {
      "text/html": [
       "<div>\n",
       "<style>\n",
       "    .dataframe thead tr:only-child th {\n",
       "        text-align: right;\n",
       "    }\n",
       "\n",
       "    .dataframe thead th {\n",
       "        text-align: left;\n",
       "    }\n",
       "\n",
       "    .dataframe tbody tr th {\n",
       "        vertical-align: top;\n",
       "    }\n",
       "</style>\n",
       "<table border=\"1\" class=\"dataframe\">\n",
       "  <thead>\n",
       "    <tr style=\"text-align: right;\">\n",
       "      <th></th>\n",
       "      <th>sentence</th>\n",
       "      <th>author</th>\n",
       "    </tr>\n",
       "  </thead>\n",
       "  <tbody>\n",
       "    <tr>\n",
       "      <th>44080</th>\n",
       "      <td>It was with great honour that a small team embraced the gigantic role of coordinating the visit of Professor Chomsky to Australia in January 1995 .\\n</td>\n",
       "      <td>Chomsky,Noam</td>\n",
       "    </tr>\n",
       "    <tr>\n",
       "      <th>52424</th>\n",
       "      <td>It would also carry infection to Africa through Asia Minor and Egypt , and to Europe through Italy and France , already threatened by the strongest domestic Communist parties in Western Europe .\\n</td>\n",
       "      <td>Chomsky,Noam</td>\n",
       "    </tr>\n",
       "    <tr>\n",
       "      <th>190248</th>\n",
       "      <td>French supremacy had been established with the French occupation of Fez in 1911 and in November of that year France and Germany signed the entente cordiale establishing their spheres of influence ...</td>\n",
       "      <td>No Author</td>\n",
       "    </tr>\n",
       "  </tbody>\n",
       "</table>\n",
       "</div>"
      ],
      "text/plain": [
       "                                                                                                                                                                                                       sentence  \\\n",
       "44080                                                     It was with great honour that a small team embraced the gigantic role of coordinating the visit of Professor Chomsky to Australia in January 1995 .\\n   \n",
       "52424      It would also carry infection to Africa through Asia Minor and Egypt , and to Europe through Italy and France , already threatened by the strongest domestic Communist parties in Western Europe .\\n   \n",
       "190248  French supremacy had been established with the French occupation of Fez in 1911 and in November of that year France and Germany signed the entente cordiale establishing their spheres of influence ...   \n",
       "\n",
       "              author  \n",
       "44080   Chomsky,Noam  \n",
       "52424   Chomsky,Noam  \n",
       "190248     No Author  "
      ]
     },
     "metadata": {},
     "output_type": "display_data"
    }
   ],
   "source": [
    "# 3\n",
    "# get the closest sentences to this one\n",
    "import pandas as pd\n",
    "# from tqdm import trange\n",
    "from IPython.core.display import display, HTML\n",
    "\n",
    "pd.set_option('max_colwidth',200)\n",
    "\n",
    "def get_similar(df, sentence):\n",
    "\n",
    "    sentence_vec = to_vector(sentence)\n",
    "\n",
    "    dist = 0.065\n",
    "    ldf = df\n",
    "    for i in range(300):\n",
    "        tdf = ldf[(ldf['p'+str(i)] > sentence_vec[i]-dist) & (ldf['p'+str(i)] < sentence_vec[i]+dist)]\n",
    "#         print(len(tdf.index))\n",
    "        num_sentences = len(tdf.index)\n",
    "        if num_sentences > 0:\n",
    "            ldf = tdf\n",
    "        if num_sentences < 5:\n",
    "            break\n",
    "\n",
    "    display(ldf[['sentence','author']])\n",
    "    \n",
    "# get_similar(df,'power war fight pain kill')\n",
    "get_similar(df, 'politic england germany kitchen asia')\n"
   ]
  },
  {
   "cell_type": "code",
   "execution_count": null,
   "metadata": {
    "collapsed": true
   },
   "outputs": [],
   "source": []
  }
 ],
 "metadata": {
  "kernelspec": {
   "display_name": "Python 3",
   "language": "python",
   "name": "python3"
  },
  "language_info": {
   "codemirror_mode": {
    "name": "ipython",
    "version": 3
   },
   "file_extension": ".py",
   "mimetype": "text/x-python",
   "name": "python",
   "nbconvert_exporter": "python",
   "pygments_lexer": "ipython3",
   "version": "3.5.2"
  }
 },
 "nbformat": 4,
 "nbformat_minor": 2
}
