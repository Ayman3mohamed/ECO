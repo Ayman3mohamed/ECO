{
 "cells": [
  {
   "cell_type": "code",
   "execution_count": 1,
   "metadata": {
    "collapsed": false
   },
   "outputs": [
    {
     "name": "stdout",
     "output_type": "stream",
     "text": [
      "done\n"
     ]
    }
   ],
   "source": [
    "import gensim\n",
    "# used for loading or saving\n",
    "model_file = '/home/ramin/projects/ECO/src/python/modelbuilder/parsed_v3_valid.doc2vec'\n"
   ]
  },
  {
   "cell_type": "code",
   "execution_count": 105,
   "metadata": {
    "collapsed": false
   },
   "outputs": [
    {
     "name": "stdout",
     "output_type": "stream",
     "text": [
      "(4266193, 'sentences')\n"
     ]
    }
   ],
   "source": [
    "# Build sentence list (each sentence needs at least 1 tag)\n",
    "filename = '/home/marcel/drive/data/eco/NAIL_DATAFIELD_txt/parsed_v3/parsed_v3_valid.txt'\n",
    "\n",
    "sentences = []\n",
    "from random import shuffle\n",
    "\n",
    "for uid, line in enumerate(open(filename)):\n",
    "    ls = gensim.models.doc2vec.LabeledSentence(words=line.split(), tags=['SENT_%s' % uid])\n",
    "    sentences.append(ls)\n",
    "print(len(sentences),'sentences')"
   ]
  },
  {
   "cell_type": "code",
   "execution_count": 53,
   "metadata": {
    "collapsed": false
   },
   "outputs": [
    {
     "name": "stdout",
     "output_type": "stream",
     "text": [
      "building vocab\n",
      "('epoch', 0)\n",
      "('epoch', 1)\n",
      "('epoch', 2)\n",
      "('epoch', 3)\n",
      "('epoch', 4)\n",
      "('epoch', 5)\n",
      "('epoch', 6)\n",
      "('epoch', 7)\n",
      "('epoch', 8)\n",
      "('epoch', 9)\n",
      "('epoch', 10)\n",
      "('epoch', 11)\n",
      "('epoch', 12)\n",
      "('epoch', 13)\n",
      "('epoch', 14)\n",
      "('epoch', 15)\n",
      "('epoch', 16)\n",
      "('epoch', 17)\n",
      "('epoch', 18)\n",
      "('epoch', 19)\n"
     ]
    }
   ],
   "source": [
    "# Training the doc2vec model\n",
    "\n",
    "# tutorial https://rare-technologies.com/doc2vec-tutorial/\n",
    "# proposes shuffling or learning reate adjustment. we gonna do both\n",
    "# in total 20 epochs\n",
    "model = gensim.models.Doc2Vec(alpha=0.025, min_alpha=0.025)  # use fixed learning rate\n",
    "print('building vocab') \n",
    "model.build_vocab(sentences)\n",
    "\n",
    "base_alpha = model.alpha\n",
    "base_min_alpha = model.min_alpha\n",
    "\n",
    "for mepoch in range(2):\n",
    "    model.alpha = base_alpha \n",
    "    model.min_alpha = base_min_alpha\n",
    "    for epoch in range(10):\n",
    "        print('epoch',mepoch * 10 + epoch)\n",
    "        model.train(sentences)\n",
    "        model.alpha -= 0.002  # decrease the learning rate\n",
    "        model.min_alpha = model.alpha  # fix the learning rate, no decay\n",
    "    shuffle(sentences)\n",
    "\n",
    "# saving the model    \n",
    "model.save(model_file)"
   ]
  },
  {
   "cell_type": "code",
   "execution_count": 66,
   "metadata": {
    "collapsed": false
   },
   "outputs": [],
   "source": [
    "# Loading the model\n",
    "\n",
    "model_loaded = gensim.models.Doc2Vec.load(model_file)"
   ]
  },
  {
   "cell_type": "code",
   "execution_count": 146,
   "metadata": {
    "collapsed": false
   },
   "outputs": [
    {
     "name": "stdout",
     "output_type": "stream",
     "text": [
      "Copyright Peter Abbs. Art Worlds in Schools by Professor Maxine Greene was first published in The Journal of Aesthetic Education , Vol .\n",
      "similar sentence 10\n",
      " SIMILAR SENTENCES\n",
      "\n",
      "Rather , art discloses the nature of things .\n",
      "Heidi Rae Cooley is Assistant Professor of Media Arts in the Department of Art and Film and Media Studies Program at the University of South Carolina .\n",
      "Rather , art discloses the nature of things .\n",
      "You can see the final art in Figure 14.38 .\n",
      "Art & Language and Victor Burgin exhibited at the Lisson Gallery .\n",
      "See Art Buchwald et al. v. Paramount Pictures Corp .\n",
      "New York : Museum of Modern Art Film Library .\n",
      "Architecture is the first art of the frame .\n",
      "See Art Buchwald et al. v. Paramount Pictures Corp .\n",
      "Massachusetts Constitution of 1780 , Bill of Rights , arts .\n"
     ]
    }
   ],
   "source": [
    "# Test: printing sentence 9 and getting the most similar ones.\n",
    "\n",
    "print ' '.join(sentences[9][0])\n",
    "sims = model_loaded.docvecs.most_similar('SENT_9')\n",
    "print 'similar sentence',len(sims)\n",
    "print '\\nSIMILAR SENTENCES\\n'\n",
    "for sim in sims:\n",
    "    print nice_print(sim)"
   ]
  },
  {
   "cell_type": "code",
   "execution_count": 143,
   "metadata": {
    "collapsed": true
   },
   "outputs": [],
   "source": [
    "# Tiny helper\n",
    "def nice_print(tagged_doc):\n",
    "    return ' '.join(sentences[int(tagged_doc[0][5:])][0])"
   ]
  },
  {
   "cell_type": "code",
   "execution_count": null,
   "metadata": {
    "collapsed": true
   },
   "outputs": [],
   "source": []
  }
 ],
 "metadata": {
  "kernelspec": {
   "display_name": "Python 2",
   "language": "python",
   "name": "python2"
  },
  "language_info": {
   "codemirror_mode": {
    "name": "ipython",
    "version": 2
   },
   "file_extension": ".py",
   "mimetype": "text/x-python",
   "name": "python",
   "nbconvert_exporter": "python",
   "pygments_lexer": "ipython2",
   "version": "2.7.12"
  }
 },
 "nbformat": 4,
 "nbformat_minor": 0
}
