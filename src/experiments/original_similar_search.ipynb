{
 "cells": [
  {
   "cell_type": "code",
   "execution_count": 1,
   "metadata": {
    "collapsed": false
   },
   "outputs": [
    {
     "name": "stdout",
     "output_type": "stream",
     "text": [
      "loading more\n",
      "done loading json. loading w2v model\n",
      "done\n"
     ]
    }
   ],
   "source": [
    "import json\n",
    "import gensim\n",
    "import numpy\n",
    "\n",
    "json_path = '/home/marcel/projects/eco/src/python/nlp/digital_and_internet_theory_v3_vectors.json'\n",
    "vectors = []\n",
    "with open(json_path) as json_file:\n",
    "    print('loading more')\n",
    "    data = json.load(json_file)\n",
    "    for line in data:\n",
    "        sentence = line['sentence']\n",
    "        list = line['point']\n",
    "\n",
    "        vector = numpy.array(list)\n",
    "        vectors.append((sentence, vector))\n",
    "\n",
    "print('done loading json. loading w2v model')\n",
    "model_path = '/home/marcel/drive/data/eco/word2vec_models/wiki_plus_v3_combined.txt_word2vec.w2vmodel'\n",
    "#util.enable_verbose_training(sys.argv[0])\n",
    "try:\n",
    "    model = gensim.models.Word2Vec.load_word2vec_format(model_path, binary=True)\n",
    "    # this raises an exception if the model type is different..\n",
    "except Exception:\n",
    "    # just use the other mothod of loading..\n",
    "    model = gensim.models.Word2Vec.load(model_path)\n",
    "    loading\n",
    "print('done')"
   ]
  },
  {
   "cell_type": "code",
   "execution_count": 7,
   "metadata": {
    "collapsed": false
   },
   "outputs": [
    {
     "name": "stdout",
     "output_type": "stream",
     "text": [
      "['my', 'ubuntu', 'computer', 'is', 'really', 'slow']\n",
      "---- Most similar match by n_similarity:\n",
      "(74488509, u'When you program a computer something is constantly happening .\\n')\n",
      "(73486639, u'Even if your computer was still running\\n')\n",
      "(73177141, u'This rerouting of attention is what your brain does when you think you are multitasking .\\n')\n",
      "(72953633, u'But is it really this simple ?\\n')\n",
      "(72953633, u'But is it really this simple ?\\n')\n"
     ]
    }
   ],
   "source": [
    "from numpy import dot\n",
    "\n",
    "new_sentence = 'my ubuntu computer is really slow'\n",
    "vector_words = []\n",
    "words = []\n",
    "word_count = 0\n",
    "for word in new_sentence.split():\n",
    "    try:\n",
    "        vector_words.append(model[word])\n",
    "        words.append(word)\n",
    "        word_count += 1\n",
    "    except:\n",
    "        pass\n",
    "        # skip vocab unknown word\n",
    "\n",
    "print(words)\n",
    "vector = gensim.matutils.unitvec(numpy.array(vector_words).mean(axis=0))\n",
    "int_vector = []\n",
    "for fl in vector:\n",
    "    integer = int(fl * 10000)\n",
    "    int_vector.append(integer)\n",
    "\n",
    "similarities = []\n",
    "index = 0\n",
    "for pair in vectors:\n",
    "    #if index % 1000 == 0:\n",
    "    #    print('processing ' + str(index) + '/' + str(len(vectors)))\n",
    "    dist = dot(pair[1], int_vector)\n",
    "    similarities.append((dist, pair[0]))\n",
    "    index += 1\n",
    "    \n",
    "similarities.sort(key=lambda similarities: similarities[0], reverse=True)\n",
    "print('---- Most similar match by n_similarity:')\n",
    "for i in range(5):\n",
    "    text = similarities[i]\n",
    "    print(text)"
   ]
  },
  {
   "cell_type": "code",
   "execution_count": null,
   "metadata": {
    "collapsed": true
   },
   "outputs": [],
   "source": []
  }
 ],
 "metadata": {
  "kernelspec": {
   "display_name": "Python 2",
   "language": "python",
   "name": "python2"
  },
  "language_info": {
   "codemirror_mode": {
    "name": "ipython",
    "version": 2
   },
   "file_extension": ".py",
   "mimetype": "text/x-python",
   "name": "python",
   "nbconvert_exporter": "python",
   "pygments_lexer": "ipython2",
   "version": "2.7.12"
  }
 },
 "nbformat": 4,
 "nbformat_minor": 0
}
