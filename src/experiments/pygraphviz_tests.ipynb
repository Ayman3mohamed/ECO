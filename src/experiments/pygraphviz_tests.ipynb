{
 "cells": [
  {
   "cell_type": "markdown",
   "metadata": {},
   "source": [
    "## PyGraphViz test\n"
   ]
  },
  {
   "cell_type": "code",
   "execution_count": 1,
   "metadata": {
    "collapsed": false
   },
   "outputs": [
    {
     "name": "stdout",
     "output_type": "stream",
     "text": [
      "strict graph \"\" {\n",
      "\ta -- b;\n",
      "\tb -- c;\n",
      "\tb -- d;\n",
      "\td -- e;\n",
      "}\n",
      "\n"
     ]
    }
   ],
   "source": [
    "import pygraphviz as pgv\n",
    "from IPython.display import Image, display, display_png, display_svg, SVG\n",
    "import random\n",
    "\n",
    "G = pgv.AGraph()\n",
    "\n",
    "nodes = ['a','b','c','d','e']\n",
    "G.add_nodes_from(nodes)\n",
    "\n",
    "edges = [('a','b'),('b','c'),('b','d'),('d','e')]\n",
    "for edge in edges:\n",
    "    G.add_edge(edge[0],edge[1])\n",
    "print(G)\n",
    "G.write('simple.dot') # write to simple.dot\n",
    "\n",
    "layouts = [\"neato\",\"dot\",\"twopi\",\"circo\",\"fdp\",\"nop\"]\n",
    "for layout in layouts:\n",
    "    name = 'simple_'+layout+'.png'\n",
    "    G.draw(name, prog = layout)\n",
    "#     print name\n",
    "#     display(Image(name))\n"
   ]
  },
  {
   "cell_type": "code",
   "execution_count": 2,
   "metadata": {
    "collapsed": false
   },
   "outputs": [
    {
     "data": {
      "image/png": "[encoded data removed]",
      "text/plain": [
       "<IPython.core.display.Image object>"
      ]
     },
     "metadata": {},
     "output_type": "display_data"
    }
   ],
   "source": [
    "layout = 'dot'\n",
    "\n",
    "G.node_attr['shape']='underline'\n",
    "\n",
    "actual_node = G.get_node('c')\n",
    "\n",
    "actual_node.attr['color']='orange'\n",
    "# actual_node.attr['shape']='underline'\n",
    "name = 'simple_'+layout+'.png'\n",
    "G.draw(name, prog = layout)\n",
    "display(Image('simple_dot.png'))"
   ]
  },
  {
   "cell_type": "code",
   "execution_count": 3,
   "metadata": {
    "collapsed": false
   },
   "outputs": [],
   "source": [
    "def display_graph(layout= 'dot', fformat = 'png'):\n",
    "    if fformat not in ['png','svg']:\n",
    "        print 'format is not real',fformat\n",
    "        return\n",
    "    name = 'simple_'+layout+'.'+fformat\n",
    "    G.draw(name, prog = layout)\n",
    "    if fformat == 'svg':\n",
    "        display(SVG(name))\n",
    "    else:\n",
    "        display(Image(name))       "
   ]
  },
  {
   "cell_type": "code",
   "execution_count": 5,
   "metadata": {
    "collapsed": false
   },
   "outputs": [],
   "source": [
    "\n",
    "\n",
    "\n",
    "sentences = {\n",
    "  'a': 'However, she is prevented by herdisease from ending her life without assistance.',\n",
    "  'b': 'At the end of her novel existence she dies at peace, well defended from those she parasites.',\n",
    "  'c': 'In short, I must recapitulate humanity and bear it within myself.',\n",
    "  'd': 'As long as people live, some of them will fight for sanity and justice and survival.',\n",
    "  'e': 'In Proceedings of the Annual Meeting of the Peace Science Society, Ann Arbor.'\n",
    "}\n"
   ]
  },
  {
   "cell_type": "code",
   "execution_count": 6,
   "metadata": {
    "collapsed": false
   },
   "outputs": [],
   "source": [
    "class ConversationTree:\n",
    "\n",
    "    def __init__(self, root_sentence):\n",
    "        self.G = pgv.AGraph()\n",
    "        # Basic styling\n",
    "        self.G.node_attr['shape']='box'\n",
    "        #\n",
    "        self.next_node_id = 0\n",
    "        self.actual_node = None\n",
    "        self.root = self.add_node(root_sentence)\n",
    "             \n",
    "    def add_node(self, sentence, goto = True):\n",
    "        node = ConversationNode(self, self.actual_node, sentence)\n",
    "        if goto:\n",
    "            self.change_actual(node)\n",
    "        return node\n",
    "    \n",
    "    def change_actual(self, new):\n",
    "        if self.actual_node: # None when adding the root\n",
    "            self.actual_node.unstyle()\n",
    "        self.actual_node = new\n",
    "        self.actual_node.style_actual()        \n",
    "    \n",
    "    def next_id(self):\n",
    "        id_ = self.next_node_id \n",
    "        self.next_node_id += 1\n",
    "        return id_\n",
    "        \n",
    "    def display(self, layout= 'dot', fformat = 'png'):\n",
    "        if fformat not in ['png','svg']:\n",
    "            print 'format is not real',fformat\n",
    "            return\n",
    "        name = 'simple_'+layout+'.'+fformat\n",
    "        self.G.draw(name, prog = layout)\n",
    "        if fformat == 'svg':\n",
    "            display(SVG(name))\n",
    "        else:\n",
    "            display(Image(name))           \n",
    "    \n",
    "    \n",
    "    def up(self):\n",
    "        if actual_node.parent:\n",
    "            change_actual\n",
    "            \n",
    "    \n",
    "class ConversationNode:\n",
    "    \n",
    "    def __init__(self, conv_tree, parent, label):\n",
    "        self.conv_tree = conv_tree\n",
    "        self.graph = conv_tree.G  \n",
    "        self.id_ = conv_tree.next_id()\n",
    "        self.label = label\n",
    "        #\n",
    "        self.graph.add_node(self.id_)\n",
    "        self.g_node = self.graph.get_node(self.id_)\n",
    "        self.g_node.attr['label'] = self.label\n",
    "        self.child_edges = {}\n",
    "        if parent:\n",
    "            parent.add_child(self)\n",
    "        else:\n",
    "            self.parent_edge = None\n",
    "        \n",
    "    def add_child(self, node):\n",
    "        edge_id = (self.id_, node.id_)\n",
    "        self.graph.add_edge(edge_id)\n",
    "        edge = self.graph.get_edge(*edge_id)\n",
    "        self.child_edges[edge_id] = edge\n",
    "        node.parent_edge = edge\n",
    "        print edge\n",
    "\n",
    "    def __repr__(self):\n",
    "        return self.name\n",
    "\n",
    "    def style(self, style_dict):\n",
    "        for k,v in style_dict.iteritems():\n",
    "            self.g_node.attr[k] = v\n",
    "    \n",
    "    def style_actual(self):\n",
    "        self.style({'color': \"orange\"}) \n",
    "        \n",
    "    def unstyle(self):\n",
    "        self.style({'color': \"black\"})\n",
    "        \n",
    "\n",
    "class ConversationEdge:\n",
    "        \n",
    "    def __init__(self,from_node, to_node , prob = None):\n",
    "        edge_id = (from_node.id_, to_node.id_)\n",
    "        self.from_ = from_node\n",
    "        self.to_ = to_node\n",
    "        \n",
    "        \n",
    "        #\n",
    "        self.prob = prob\n",
    "        # test dor labelling\n",
    "        self.prob = random.random()\n",
    "        self.g_edge = None\n",
    "        \n",
    "    def update_graph(self):\n",
    "        if not self.g_edge:\n",
    "            self.g_edge = Edge.graph.get_edge(*self.from_to)\n",
    "        self.g_edge.attr['label'] = round(self.prob,3)\n",
    "        "
   ]
  },
  {
   "cell_type": "code",
   "execution_count": 7,
   "metadata": {
    "collapsed": false
   },
   "outputs": [
    {
     "name": "stdout",
     "output_type": "stream",
     "text": [
      "(u'0', u'1')\n",
      "(u'1', u'2')\n",
      "(u'2', u'3')\n"
     ]
    },
    {
     "data": {
      "image/png": "[encoded data removed]",
      "text/plain": [
       "<IPython.core.display.Image object>"
      ]
     },
     "metadata": {},
     "output_type": "display_data"
    },
    {
     "name": "stdout",
     "output_type": "stream",
     "text": [
      "strict graph \"\" {\n",
      "\tnode [label=\"\\N\",\n",
      "\t\tshape=box\n",
      "\t];\n",
      "\t0\t [color=black,\n",
      "\t\tlabel=\"However, she is prevented by herdisease from ending her life without assistance.\"];\n",
      "\t1\t [color=black,\n",
      "\t\tlabel=\"At the end of her novel existence she dies at peace, well defended from those she parasites.\"];\n",
      "\t0 -- 1;\n",
      "\t2\t [color=black,\n",
      "\t\tlabel=\"In short, I must recapitulate humanity and bear it within myself.\"];\n",
      "\t1 -- 2;\n",
      "\t3\t [color=orange,\n",
      "\t\tlabel=\"As long as people live, some of them will fight for sanity and justice and survival.\"];\n",
      "\t2 -- 3;\n",
      "}\n",
      "\n"
     ]
    }
   ],
   "source": [
    "tree = ConversationTree(sentences['a'])\n",
    "tree.add_node(sentences['b'])\n",
    "tree.add_node(sentences['c'])\n",
    "tree.add_node(sentences['d'])\n",
    "tree.display()\n",
    "print tree.G"
   ]
  }
 ],
 "metadata": {
  "kernelspec": {
   "display_name": "Python 2",
   "language": "python",
   "name": "python2"
  },
  "language_info": {
   "codemirror_mode": {
    "name": "ipython",
    "version": 2
   },
   "file_extension": ".py",
   "mimetype": "text/x-python",
   "name": "python",
   "nbconvert_exporter": "python",
   "pygments_lexer": "ipython2",
   "version": "2.7.11"
  }
 },
 "nbformat": 4,
 "nbformat_minor": 0
}
