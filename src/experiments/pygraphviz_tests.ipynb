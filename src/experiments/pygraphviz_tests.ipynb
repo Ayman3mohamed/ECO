{
 "cells": [
  {
   "cell_type": "markdown",
   "metadata": {},
   "source": [
    "## PyGraphViz test\n"
   ]
  },
  {
   "cell_type": "code",
   "execution_count": null,
   "metadata": {
    "collapsed": false
   },
   "outputs": [],
   "source": [
    "import pygraphviz as pgv\n",
    "from IPython.display import Image, display, display_png, display_svg, SVG\n",
    "import random\n",
    "\n",
    "G = pgv.AGraph()\n",
    "\n",
    "nodes = ['a','b','c','d','e']\n",
    "G.add_nodes_from(nodes)\n",
    "\n",
    "edges = [('a','b'),('b','c'),('b','d'),('d','e')]\n",
    "for edge in edges:\n",
    "    G.add_edge(edge[0],edge[1])\n",
    "print(G)\n",
    "G.write('simple.dot') # write to simple.dot\n",
    "\n",
    "layouts = [\"neato\",\"dot\",\"twopi\",\"circo\",\"fdp\",\"nop\"]\n",
    "for layout in layouts:\n",
    "    name = 'simple_'+layout+'.png'\n",
    "    G.draw(name, prog = layout)\n",
    "#     print name\n",
    "#     display(Image(name))\n"
   ]
  },
  {
   "cell_type": "code",
   "execution_count": null,
   "metadata": {
    "collapsed": false
   },
   "outputs": [],
   "source": [
    "layout = 'dot'\n",
    "\n",
    "G.node_attr['shape']='underline'\n",
    "\n",
    "actual_node = G.get_node('c')\n",
    "\n",
    "actual_node.attr['color']='orange'\n",
    "# actual_node.attr['shape']='underline'\n",
    "name = 'simple_'+layout+'.png'\n",
    "G.draw(name, prog = layout)\n",
    "display(Image('simple_dot.png'))"
   ]
  },
  {
   "cell_type": "code",
   "execution_count": null,
   "metadata": {
    "collapsed": false
   },
   "outputs": [],
   "source": [
    "def display_graph(layout= 'dot', fformat = 'png'):\n",
    "    if fformat not in ['png','svg']:\n",
    "        print 'format is not real',fformat\n",
    "        return\n",
    "    name = 'simple_'+layout+'.'+fformat\n",
    "    G.draw(name, prog = layout)\n",
    "    if fformat == 'svg':\n",
    "        display(SVG(name))\n",
    "    else:\n",
    "        display(Image(name))       "
   ]
  },
  {
   "cell_type": "markdown",
   "metadata": {},
   "source": [
    "End of Test\n",
    "## Get to the real deal"
   ]
  },
  {
   "cell_type": "code",
   "execution_count": 110,
   "metadata": {
    "collapsed": false
   },
   "outputs": [],
   "source": [
    "import pygraphviz as pgv\n",
    "from IPython.display import Image, display, display_png, display_svg, SVG\n",
    "from random import random\n",
    "\n",
    "def random_prob():\n",
    "    return round(random(),3)\n",
    "\n",
    "class ConversationTree(object):\n",
    "\n",
    "    def __init__(self, root_sentence):\n",
    "        self.G = pgv.AGraph(strict=True, directed=True)\n",
    "        # Basic styling\n",
    "        self.G.node_attr['shape']='box'\n",
    "        #\n",
    "        self.next_node_id = 0\n",
    "        self.actual_node = None\n",
    "        self.root = self.add_node(root_sentence)\n",
    "        self.actual_node = self.root\n",
    "             \n",
    "    def add_node(self, sentence, goto = True):\n",
    "        node = ConversationNode(self, self.actual_node, sentence)\n",
    "        if goto:\n",
    "            self.change_actual(node)\n",
    "        return node\n",
    "    \n",
    "    def change_actual(self, new):\n",
    "        if self.actual_node: # None when adding the root\n",
    "            self.actual_node.unstyle()\n",
    "        self.actual_node = new\n",
    "        self.actual_node.style_actual()        \n",
    "    \n",
    "    def next_id(self):\n",
    "        id_ = self.next_node_id \n",
    "        self.next_node_id += 1\n",
    "        return id_\n",
    "        \n",
    "    def display(self, max_lvl_up = -1, layout= 'dot', fformat = 'png'):\n",
    "        if fformat not in ['png','svg']:\n",
    "            print 'format is not real',fformat\n",
    "            return\n",
    "        name = 'simple_'+layout+'.'+fformat\n",
    "        self.create_sub_graph()\n",
    "        tree.G.draw(name, prog = layout)\n",
    "#         self.G.draw(name, prog = layout)\n",
    "        if fformat == 'svg':\n",
    "            display(SVG(name))\n",
    "        else:\n",
    "            display(Image(name))           \n",
    "        \n",
    "    def up(self, steps = 1):\n",
    "        for step in range(steps):\n",
    "            if self.actual_node.parent_edge:\n",
    "                self.change_actual(self.actual_node.parent())\n",
    "      \n",
    "    def create_sub_graph(self, from_node = None, to_node = None):\n",
    "        print 'all'\n",
    "        print self.G\n",
    "        self.G.add_subgraph([self.actual_node.id_],'cc')\n",
    "        sg = self.G.get_subgraph('cc')\n",
    "        print 'sub'\n",
    "        print sg\n",
    "        \n",
    "class ConversationNode(object):\n",
    "    \n",
    "    def __init__(self, conv_tree, parent, label):\n",
    "        self.conv_tree = conv_tree\n",
    "        self.graph = conv_tree.G  \n",
    "        self.id_ = conv_tree.next_id()\n",
    "        self.label = label\n",
    "        self.child_edges = {}\n",
    "        self.g_node = self.update_graph()\n",
    "        self.style({'label':str(self.id_) + '/' + self.label})\n",
    "        if parent:\n",
    "            self.parent_edge = parent.add_child(self)\n",
    "        else:\n",
    "            self.parent_edge = None\n",
    "    \n",
    "    def update_graph(self):\n",
    "        self.graph.add_node(self.id_)\n",
    "        g_node = self.graph.get_node(self.id_)\n",
    "        return g_node\n",
    "    \n",
    "    def add_child(self, node):\n",
    "        child_edge = ConversationEdge(self, node,{'prob':random_prob()})   \n",
    "        self.child_edges[child_edge.id_] = child_edge\n",
    "        return child_edge\n",
    "#         node.parent_edge = child_edge\n",
    "\n",
    "    def parent(self):\n",
    "        if self.parent_edge:\n",
    "            return self.parent_edge.from_node\n",
    "        else: \n",
    "            print \"root has no parent...\"\n",
    "            return self\n",
    "        \n",
    "    def __repr__(self):\n",
    "        return str(self.id_)\n",
    "\n",
    "    def style(self, style_dict):\n",
    "        for k,v in style_dict.iteritems():\n",
    "            self.g_node.attr[k] = v\n",
    "    \n",
    "    def style_actual(self):\n",
    "        self.style({'color': \"orange\"}) \n",
    "        \n",
    "    def unstyle(self):\n",
    "        self.style({'color': \"black\"})\n",
    "        \n",
    "    def all_predecessors(self):\n",
    "        print self.graph.predecessors(self.id_)\n",
    "        \n",
    "class ConversationEdge(object):\n",
    "        \n",
    "    def __init__(self,from_node, to_node , prob = None):\n",
    "        self.id_ = (from_node.id_, to_node.id_)\n",
    "        self.from_node = from_node\n",
    "        self.to_node = to_node\n",
    "        self.g_edge = self.update_graph()\n",
    "        self.style({'label':random_prob()})\n",
    "        \n",
    "    def update_graph(self):\n",
    "        self.from_node.graph.add_edge(self.id_)\n",
    "        g_edge = self.from_node.graph.get_edge(*self.id_)     \n",
    "        return g_edge\n",
    "\n",
    "    \n",
    "    def style(self, style_dict):\n",
    "        for k,v in style_dict.iteritems():\n",
    "            self.g_edge.attr[k] = v\n",
    "    "
   ]
  },
  {
   "cell_type": "code",
   "execution_count": 113,
   "metadata": {
    "collapsed": false
   },
   "outputs": [
    {
     "name": "stdout",
     "output_type": "stream",
     "text": [
      "3\n",
      "[u'2']\n"
     ]
    }
   ],
   "source": [
    "sentences = {\n",
    "  'a': 'However, she is prevented by herdisease from ending her life without assistance.',\n",
    "  'b': 'At the end of her novel existence she dies at peace, well defended from those she parasites.',\n",
    "  'c': 'In short, I must recapitulate humanity and bear it within myself.',\n",
    "  'd': 'As long as people live, some of them will fight for sanity and justice and survival.',\n",
    "  'e': 'In Proceedings of the Annual Meeting of the Peace Science Society, Ann Arbor.'\n",
    "}\n",
    "\n",
    "tree = ConversationTree(sentences['a'])\n",
    "tree.add_node(sentences['b'])\n",
    "tree.add_node(sentences['c'])\n",
    "tree.add_node(sentences['d'])\n",
    "\n",
    "print tree.actual_node\n",
    "tree.actual_node.all_predecessors()\n",
    "# tree.display()\n",
    "# tree.up(2)\n",
    "# tree.add_node(sentences['e'])\n",
    "# tree.display()"
   ]
  },
  {
   "cell_type": "code",
   "execution_count": null,
   "metadata": {
    "collapsed": true
   },
   "outputs": [],
   "source": []
  }
 ],
 "metadata": {
  "kernelspec": {
   "display_name": "Python 2",
   "language": "python",
   "name": "python2"
  },
  "language_info": {
   "codemirror_mode": {
    "name": "ipython",
    "version": 2
   },
   "file_extension": ".py",
   "mimetype": "text/x-python",
   "name": "python",
   "nbconvert_exporter": "python",
   "pygments_lexer": "ipython2",
   "version": "2.7.11"
  }
 },
 "nbformat": 4,
 "nbformat_minor": 0
}
