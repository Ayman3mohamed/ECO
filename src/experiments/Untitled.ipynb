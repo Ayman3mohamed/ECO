{
 "cells": [
  {
   "cell_type": "code",
   "execution_count": 4,
   "metadata": {
    "collapsed": false
   },
   "outputs": [],
   "source": [
    "from spacy.en import English\n",
    "nlp = English()\n",
    "\n",
    "            "
   ]
  },
  {
   "cell_type": "code",
   "execution_count": 3,
   "metadata": {
    "collapsed": false
   },
   "outputs": [
    {
     "name": "stdout",
     "output_type": "stream",
     "text": [
      "A whole document.\n",
      "\n",
      "(u'A', u'DT', u'document')\n",
      "(u'whole', u'JJ', u'document')\n",
      "(u'document', u'NN', u'document')\n",
      "No preprocessing require.   \n",
      "(u'No', u'DT', u'require')\n",
      "(u'preprocessing', u'VBG', u'require')\n",
      "(u'require', u'NN', u'require')\n",
      "Robust to arbitrary formating.\n",
      "(u'Robust', u'JJ', u'robust')\n",
      "(u'to', u'IN', u'robust')\n",
      "(u'arbitrary', u'JJ', u'formating')\n",
      "(u'formating', u'NN', u'to')\n"
     ]
    }
   ],
   "source": [
    "doc = nlp(u'A whole document.\\nNo preprocessing require.   Robust to arbitrary formating.')\n",
    "for sent in doc.sents:\n",
    "    print sent\n",
    "    for token in sent:\n",
    "        if token.is_alpha:\n",
    "            print(token.orth_, token.tag_, token.head.lemma_)"
   ]
  },
  {
   "cell_type": "code",
   "execution_count": null,
   "metadata": {
    "collapsed": true
   },
   "outputs": [],
   "source": []
  }
 ],
 "metadata": {
  "kernelspec": {
   "display_name": "Python 2",
   "language": "python",
   "name": "python2"
  },
  "language_info": {
   "codemirror_mode": {
    "name": "ipython",
    "version": 2
   },
   "file_extension": ".py",
   "mimetype": "text/x-python",
   "name": "python",
   "nbconvert_exporter": "python",
   "pygments_lexer": "ipython2",
   "version": "2.7.11"
  }
 },
 "nbformat": 4,
 "nbformat_minor": 2
}
