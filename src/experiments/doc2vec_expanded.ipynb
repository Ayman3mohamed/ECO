{
 "cells": [
  {
   "cell_type": "code",
   "execution_count": 1,
   "metadata": {
    "collapsed": false
   },
   "outputs": [
    {
     "name": "stdout",
     "output_type": "stream",
     "text": [
      "{'arts_arthistory_aesthetics': {'num_files': 3255, 'filtered_files': 2644, 'sum_subs': 0, 'total_files': 3255}, 'political_theory_anarchist': {'num_files': 1542, 'filtered_files': 1433, 'sum_subs': 0, 'total_files': 1542}, 'law_legal_theory_prison_ip': {'num_files': 1198, 'filtered_files': 1075, 'sum_subs': 0, 'total_files': 1198}, 'ecology_climate_permaculture_collapse': {'num_files': 1774, 'filtered_files': 1654, 'sum_subs': 0, 'total_files': 1774}, 'own_mixed_collection': {'num_files': 264, 'filtered_files': 256, 'sum_subs': 0, 'total_files': 264}, 'digital_and_internet_theory': {'num_files': 1464, 'filtered_files': 1350, 'sum_subs': 0, 'total_files': 1464}, 'library_and_archive_theory': {'num_files': 114, 'filtered_files': 107, 'sum_subs': 0, 'total_files': 114}}\n"
     ]
    }
   ],
   "source": [
    "import gensim\n",
    "from IPython.display import clear_output\n",
    "import json\n",
    "import re\n",
    "import random\n",
    "import time\n",
    "import pickle\n",
    "from IPython.core.display import display, HTML\n",
    "import locale, os, socket\n",
    "from numpy import int64\n",
    "locale.setlocale(locale.LC_ALL, 'de_DE.utf-8')\n",
    "import doc2vec_helper"
   ]
  },
  {
   "cell_type": "code",
   "execution_count": 2,
   "metadata": {
    "collapsed": false
   },
   "outputs": [
    {
     "data": {
      "text/plain": [
       "['arts_arthistory_aesthetics',\n",
       " 'digital_and_internet_theory',\n",
       " 'ecology_climate_permaculture_collapse',\n",
       " 'law_legal_theory_prison_ip',\n",
       " 'library_and_archive_theory',\n",
       " 'own_mixed_collection',\n",
       " 'political_theory_anarchist']"
      ]
     },
     "execution_count": 2,
     "metadata": {},
     "output_type": "execute_result"
    }
   ],
   "source": [
    "base_folder = doc2vec_helper.base_txt_folder('NAIL_DATAFIELD_txt/parsed_v3/')\n",
    "# print os.listdir(base_folder)\n",
    "\n",
    "path = doc2vec_helper.BasePath(base_folder)\n",
    "path.get_dirs('')"
   ]
  },
  {
   "cell_type": "code",
   "execution_count": 3,
   "metadata": {
    "collapsed": false
   },
   "outputs": [
    {
     "name": "stdout",
     "output_type": "stream",
     "text": [
      "{'arts_arthistory_aesthetics': {'num_files': 3255, 'filtered_files': 2644, 'sum_subs': 0, 'total_files': 3255}, 'political_theory_anarchist': {'num_files': 1542, 'filtered_files': 1433, 'sum_subs': 0, 'total_files': 1542}, 'law_legal_theory_prison_ip': {'num_files': 1198, 'filtered_files': 1075, 'sum_subs': 0, 'total_files': 1198}, 'ecology_climate_permaculture_collapse': {'num_files': 1774, 'filtered_files': 1654, 'sum_subs': 0, 'total_files': 1774}, 'own_mixed_collection': {'num_files': 264, 'filtered_files': 256, 'sum_subs': 0, 'total_files': 264}, 'digital_and_internet_theory': {'num_files': 1464, 'filtered_files': 1350, 'sum_subs': 0, 'total_files': 1464}, 'library_and_archive_theory': {'num_files': 114, 'filtered_files': 107, 'sum_subs': 0, 'total_files': 114}}\n"
     ]
    },
    {
     "data": {
      "text/plain": [
       "{'filtered_files': 16, 'num_files': 19, 'sum_subs': 9611, 'total_files': 9630}"
      ]
     },
     "execution_count": 3,
     "metadata": {},
     "output_type": "execute_result"
    }
   ],
   "source": [
    "path.doc_count_tree()"
   ]
  },
  {
   "cell_type": "code",
   "execution_count": null,
   "metadata": {
    "collapsed": true
   },
   "outputs": [],
   "source": []
  }
 ],
 "metadata": {
  "kernelspec": {
   "display_name": "Python 2",
   "language": "python",
   "name": "python2"
  },
  "language_info": {
   "codemirror_mode": {
    "name": "ipython",
    "version": 2
   },
   "file_extension": ".py",
   "mimetype": "text/x-python",
   "name": "python",
   "nbconvert_exporter": "python",
   "pygments_lexer": "ipython2",
   "version": "2.7.11"
  }
 },
 "nbformat": 4,
 "nbformat_minor": 0
}
