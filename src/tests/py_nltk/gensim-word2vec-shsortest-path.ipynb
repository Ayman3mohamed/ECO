{
 "cells": [
  {
   "cell_type": "code",
   "execution_count": 14,
   "metadata": {
    "collapsed": false
   },
   "outputs": [
    {
     "name": "stdout",
     "output_type": "stream",
     "text": [
      "Name: gensim\r\n",
      "Version: 0.13.4.1\r\n",
      "Summary: Python framework for fast Vector Space Modelling\r\n",
      "Home-page: http://radimrehurek.com/gensim\r\n",
      "Author: Radim Rehurek\r\n",
      "Author-email: me@radimrehurek.com\r\n",
      "License: UNKNOWN\r\n",
      "Location: /Users/raminsoleymani/git/ECO/src/venv/lib/python2.7/site-packages\r\n",
      "Requires: smart-open, numpy, scipy, six\r\n"
     ]
    }
   ],
   "source": [
    "# !pip install python-igraph\n",
    "!pip show gensim"
   ]
  },
  {
   "cell_type": "code",
   "execution_count": 1,
   "metadata": {
    "collapsed": false
   },
   "outputs": [],
   "source": [
    "import numpy as np\n",
    "import math\n",
    "from gensim import models\n",
    "from random import random\n",
    "\n",
    "from igraph import Graph \n",
    "from tqdm import tqdm\n"
   ]
  },
  {
   "cell_type": "code",
   "execution_count": 3,
   "metadata": {
    "collapsed": false
   },
   "outputs": [
    {
     "name": "stdout",
     "output_type": "stream",
     "text": [
      "model memory size, gb:"
     ]
    },
    {
     "ename": "AttributeError",
     "evalue": "'KeyedVectors' object has no attribute 'estimate_memory'",
     "output_type": "error",
     "traceback": [
      "\u001b[0;31m---------------------------------------------------------------------------\u001b[0m",
      "\u001b[0;31mAttributeError\u001b[0m                            Traceback (most recent call last)",
      "\u001b[0;32m<ipython-input-3-b3d69ff38f59>\u001b[0m in \u001b[0;36m<module>\u001b[0;34m()\u001b[0m\n\u001b[1;32m     10\u001b[0m \u001b[0mmodel\u001b[0m \u001b[0;34m=\u001b[0m \u001b[0mmodels\u001b[0m\u001b[0;34m.\u001b[0m\u001b[0mKeyedVectors\u001b[0m\u001b[0;34m.\u001b[0m\u001b[0mload_word2vec_format\u001b[0m\u001b[0;34m(\u001b[0m\u001b[0menglish\u001b[0m\u001b[0;34m,\u001b[0m \u001b[0mbinary\u001b[0m\u001b[0;34m=\u001b[0m\u001b[0mTrue\u001b[0m\u001b[0;34m)\u001b[0m\u001b[0;34m\u001b[0m\u001b[0m\n\u001b[1;32m     11\u001b[0m \u001b[0mmodel\u001b[0m\u001b[0;34m.\u001b[0m\u001b[0minit_sims\u001b[0m\u001b[0;34m(\u001b[0m\u001b[0mreplace\u001b[0m\u001b[0;34m=\u001b[0m\u001b[0mTrue\u001b[0m\u001b[0;34m)\u001b[0m \u001b[0;31m# save memory\u001b[0m\u001b[0;34m\u001b[0m\u001b[0m\n\u001b[0;32m---> 12\u001b[0;31m \u001b[0;32mprint\u001b[0m \u001b[0;34m'model memory size, gb:'\u001b[0m\u001b[0;34m,\u001b[0m \u001b[0mmodel\u001b[0m\u001b[0;34m.\u001b[0m\u001b[0mestimate_memory\u001b[0m\u001b[0;34m(\u001b[0m\u001b[0;34m)\u001b[0m\u001b[0;34m[\u001b[0m\u001b[0;34m'total'\u001b[0m\u001b[0;34m]\u001b[0m\u001b[0;34m/\u001b[0m\u001b[0;34m(\u001b[0m\u001b[0mmath\u001b[0m\u001b[0;34m.\u001b[0m\u001b[0mpow\u001b[0m\u001b[0;34m(\u001b[0m\u001b[0;36m1024\u001b[0m\u001b[0;34m,\u001b[0m\u001b[0;36m3\u001b[0m\u001b[0;34m)\u001b[0m\u001b[0;34m)\u001b[0m\u001b[0;34m\u001b[0m\u001b[0m\n\u001b[0m",
      "\u001b[0;31mAttributeError\u001b[0m: 'KeyedVectors' object has no attribute 'estimate_memory'"
     ]
    }
   ],
   "source": [
    "# Library Gensim (Word2Vec examples)\n",
    "### LOAD GOOGLE WORD2VEC... takes a few minutes\n",
    "\n",
    "# Load google's word2vec model\n",
    "# languages\n",
    "english = 'models/GoogleNews-vectors-negative300.bin.gz'\n",
    "spanish = 'models/SBW-vectors-300-min5.bin.gz'\n",
    "german = 'models/german.model'\n",
    "# load\n",
    "model = models.KeyedVectors.load_word2vec_format(english, binary=True)\n",
    "model.init_sims(replace=True) # save memory\n",
    "# print 'model memory size, gb:', model.estimate_memory()['total']/(math.pow(1024,3))"
   ]
  },
  {
   "cell_type": "code",
   "execution_count": 14,
   "metadata": {
    "collapsed": false
   },
   "outputs": [
    {
     "name": "stdout",
     "output_type": "stream",
     "text": [
      "3000000\n"
     ]
    }
   ],
   "source": [
    "# print len(model.vocab)\n",
    "# w_ind = {}\n",
    "# for index, w in enumerate(model.vocab):\n",
    "#     w_ind[w] = index "
   ]
  },
  {
   "cell_type": "code",
   "execution_count": 17,
   "metadata": {
    "collapsed": false
   },
   "outputs": [
    {
     "data": {
      "text/plain": [
       "[(u'Parent', 0.8029279112815857),\n",
       " (u'parents', 0.7569969296455383),\n",
       " (u'grandparent', 0.7551882863044739),\n",
       " (u'Corporation_Nasdaq_SRCE', 0.7521066665649414),\n",
       " (u'Aker_Kv\\xe6rner_ASA', 0.7503856420516968),\n",
       " (u'sibling', 0.7440497875213623),\n",
       " (u'Bancorp_Nasdaq_HEOP', 0.73293137550354),\n",
       " (u'parental', 0.7309925556182861),\n",
       " (u'wholly_owned_Shenzhen_AIVtech', 0.7300399541854858),\n",
       " (u'parent_stepparent', 0.726965069770813),\n",
       " (u'child', 0.7261224985122681),\n",
       " (u'TABLE_####.T_-####/##', 0.7260121703147888),\n",
       " (u'Inc._NASDAQ_TCBI', 0.725272536277771),\n",
       " (u'kindergartener', 0.725018322467804),\n",
       " (u'visit_uns.com', 0.7231084108352661),\n",
       " (u'parenting', 0.7222963571548462),\n",
       " (u'TriCo_Bancshares_NASDAQ_TCBK', 0.7220449447631836),\n",
       " (u'brokersXpress_provides', 0.7209407091140747),\n",
       " (u'Otis_elevator_jet', 0.7202916145324707),\n",
       " (u'NASDAQ_BOFI_BofI', 0.7201634645462036),\n",
       " (u'ChinaNet_Online_Media', 0.7188237905502319),\n",
       " (u'adoptive_parent', 0.717492401599884),\n",
       " (u'Parents', 0.7167693376541138),\n",
       " (u'Nancy_Samalin', 0.7166102528572083),\n",
       " (u'concussion_meddled', 0.7158421874046326),\n",
       " (u'Corporation_Nasdaq_CASB', 0.7155210375785828),\n",
       " (u'THIRTEEN_WLIW##', 0.7154589891433716),\n",
       " (u'preschooler', 0.7152845859527588),\n",
       " (u'Board_CZBS', 0.7147937417030334),\n",
       " (u'kindergartner', 0.7143164873123169),\n",
       " (u'Beazley_plc_BEZ.L', 0.7141489386558533),\n",
       " (u'Wayne_Guillary', 0.7138208150863647),\n",
       " (u'controlling_shareholder', 0.7135164141654968),\n",
       " (u'PARENT', 0.7134740948677063),\n",
       " (u'child_ren', 0.7119580507278442),\n",
       " (u'Thirteen_WLIW##', 0.7117257714271545),\n",
       " (u'Corporation_NASDAQ_SSFN', 0.7117043137550354),\n",
       " (u'Bancorp_Nasdaq_FBNC', 0.7115836143493652),\n",
       " (u'Corporation_NASDAQ_BKUNA', 0.7114490270614624),\n",
       " (u'stepparent', 0.7102514505386353)]"
      ]
     },
     "execution_count": 17,
     "metadata": {},
     "output_type": "execute_result"
    }
   ],
   "source": [
    "model.most_similar_cosmul('parent',topn=40)"
   ]
  },
  {
   "cell_type": "code",
   "execution_count": 19,
   "metadata": {
    "collapsed": false
   },
   "outputs": [
    {
     "name": "stderr",
     "output_type": "stream",
     "text": [
      "  0%|          | 7844/3000000 [3:00:57<1520:46:21,  1.83s/it]\n"
     ]
    },
    {
     "ename": "KeyboardInterrupt",
     "evalue": "",
     "output_type": "error",
     "traceback": [
      "\u001b[0;31m---------------------------------------------------------------------------\u001b[0m",
      "\u001b[0;31mKeyboardInterrupt\u001b[0m                         Traceback (most recent call last)",
      "\u001b[0;32m<ipython-input-19-d6b5ed9774b2>\u001b[0m in \u001b[0;36m<module>\u001b[0;34m()\u001b[0m\n\u001b[1;32m     10\u001b[0m         \u001b[0;32mfor\u001b[0m \u001b[0mdis\u001b[0m \u001b[0;32min\u001b[0m \u001b[0msimilars\u001b[0m\u001b[0;34m:\u001b[0m\u001b[0;34m\u001b[0m\u001b[0m\n\u001b[1;32m     11\u001b[0m             \u001b[0mword_index\u001b[0m \u001b[0;34m=\u001b[0m \u001b[0mw_ind\u001b[0m\u001b[0;34m[\u001b[0m\u001b[0mdis\u001b[0m\u001b[0;34m[\u001b[0m\u001b[0;36m0\u001b[0m\u001b[0;34m]\u001b[0m\u001b[0;34m]\u001b[0m\u001b[0;34m\u001b[0m\u001b[0m\n\u001b[0;32m---> 12\u001b[0;31m             \u001b[0mgraph\u001b[0m\u001b[0;34m.\u001b[0m\u001b[0madd_edge\u001b[0m\u001b[0;34m(\u001b[0m\u001b[0mindex\u001b[0m\u001b[0;34m,\u001b[0m \u001b[0mword_index\u001b[0m\u001b[0;34m,\u001b[0m \u001b[0mweight\u001b[0m\u001b[0;34m=\u001b[0m\u001b[0mdis\u001b[0m\u001b[0;34m[\u001b[0m\u001b[0;36m1\u001b[0m\u001b[0;34m]\u001b[0m\u001b[0;34m)\u001b[0m\u001b[0;34m\u001b[0m\u001b[0m\n\u001b[0m\u001b[1;32m     13\u001b[0m         \u001b[0mpbar\u001b[0m\u001b[0;34m.\u001b[0m\u001b[0mupdate\u001b[0m\u001b[0;34m(\u001b[0m\u001b[0;36m1\u001b[0m\u001b[0;34m)\u001b[0m\u001b[0;34m\u001b[0m\u001b[0m\n\u001b[1;32m     14\u001b[0m \u001b[0;34m\u001b[0m\u001b[0m\n",
      "\u001b[0;32m/Users/raminsoleymani/git/ECO/src/venv/lib/python2.7/site-packages/igraph/__init__.pyc\u001b[0m in \u001b[0;36madd_edge\u001b[0;34m(self, source, target, **kwds)\u001b[0m\n\u001b[1;32m    238\u001b[0m \u001b[0;34m\u001b[0m\u001b[0m\n\u001b[1;32m    239\u001b[0m         \u001b[0meid\u001b[0m \u001b[0;34m=\u001b[0m \u001b[0mself\u001b[0m\u001b[0;34m.\u001b[0m\u001b[0mecount\u001b[0m\u001b[0;34m(\u001b[0m\u001b[0;34m)\u001b[0m\u001b[0;34m\u001b[0m\u001b[0m\n\u001b[0;32m--> 240\u001b[0;31m         \u001b[0mresult\u001b[0m \u001b[0;34m=\u001b[0m \u001b[0mself\u001b[0m\u001b[0;34m.\u001b[0m\u001b[0madd_edges\u001b[0m\u001b[0;34m(\u001b[0m\u001b[0;34m[\u001b[0m\u001b[0;34m(\u001b[0m\u001b[0msource\u001b[0m\u001b[0;34m,\u001b[0m \u001b[0mtarget\u001b[0m\u001b[0;34m)\u001b[0m\u001b[0;34m]\u001b[0m\u001b[0;34m)\u001b[0m\u001b[0;34m\u001b[0m\u001b[0m\n\u001b[0m\u001b[1;32m    241\u001b[0m         \u001b[0medge\u001b[0m \u001b[0;34m=\u001b[0m \u001b[0mself\u001b[0m\u001b[0;34m.\u001b[0m\u001b[0mes\u001b[0m\u001b[0;34m[\u001b[0m\u001b[0meid\u001b[0m\u001b[0;34m]\u001b[0m\u001b[0;34m\u001b[0m\u001b[0m\n\u001b[1;32m    242\u001b[0m         \u001b[0;32mfor\u001b[0m \u001b[0mkey\u001b[0m\u001b[0;34m,\u001b[0m \u001b[0mvalue\u001b[0m \u001b[0;32min\u001b[0m \u001b[0mkwds\u001b[0m\u001b[0;34m.\u001b[0m\u001b[0miteritems\u001b[0m\u001b[0;34m(\u001b[0m\u001b[0;34m)\u001b[0m\u001b[0;34m:\u001b[0m\u001b[0;34m\u001b[0m\u001b[0m\n",
      "\u001b[0;32m/Users/raminsoleymani/git/ECO/src/venv/lib/python2.7/site-packages/igraph/__init__.pyc\u001b[0m in \u001b[0;36madd_edges\u001b[0;34m(self, es)\u001b[0m\n\u001b[1;32m    253\u001b[0m           \u001b[0mendpoints\u001b[0m\u001b[0;34m.\u001b[0m \u001b[0mVertices\u001b[0m \u001b[0mare\u001b[0m \u001b[0menumerated\u001b[0m \u001b[0;32mfrom\u001b[0m \u001b[0mzero\u001b[0m\u001b[0;34m.\u001b[0m\u001b[0;34m\u001b[0m\u001b[0m\n\u001b[1;32m    254\u001b[0m         \"\"\"\n\u001b[0;32m--> 255\u001b[0;31m         \u001b[0;32mreturn\u001b[0m \u001b[0mGraphBase\u001b[0m\u001b[0;34m.\u001b[0m\u001b[0madd_edges\u001b[0m\u001b[0;34m(\u001b[0m\u001b[0mself\u001b[0m\u001b[0;34m,\u001b[0m \u001b[0mes\u001b[0m\u001b[0;34m)\u001b[0m\u001b[0;34m\u001b[0m\u001b[0m\n\u001b[0m\u001b[1;32m    256\u001b[0m \u001b[0;34m\u001b[0m\u001b[0m\n\u001b[1;32m    257\u001b[0m     \u001b[0;32mdef\u001b[0m \u001b[0madd_vertex\u001b[0m\u001b[0;34m(\u001b[0m\u001b[0mself\u001b[0m\u001b[0;34m,\u001b[0m \u001b[0mname\u001b[0m\u001b[0;34m=\u001b[0m\u001b[0mNone\u001b[0m\u001b[0;34m,\u001b[0m \u001b[0;34m**\u001b[0m\u001b[0mkwds\u001b[0m\u001b[0;34m)\u001b[0m\u001b[0;34m:\u001b[0m\u001b[0;34m\u001b[0m\u001b[0m\n",
      "\u001b[0;31mKeyboardInterrupt\u001b[0m: "
     ]
    }
   ],
   "source": [
    "model_sz = len(model.vocab)\n",
    "kNN = 30\n",
    "\n",
    "graph = Graph(directed=True)\n",
    "graph.add_vertices(model_sz)\n",
    "\n",
    "with tqdm(total = model_sz) as pbar:\n",
    "    for index, w in enumerate(model.vocab):\n",
    "        similars = model.most_similar_cosmul(w,topn=kNN)\n",
    "        for dis in similars:\n",
    "            word_index = w_ind[dis[0]]\n",
    "            graph.add_edge(index, word_index, weight=dis[1])\n",
    "        pbar.update(1)\n",
    "    \n",
    "summary(graph)"
   ]
  },
  {
   "cell_type": "markdown",
   "metadata": {},
   "source": [
    "Some helper functions that print and return an word arithmetic for:\n",
    "- equation (classic similarity)\n",
    "- equation (cosmul similarity)\n",
    "- word (cosmul similarity)"
   ]
  },
  {
   "cell_type": "code",
   "execution_count": null,
   "metadata": {
    "collapsed": true
   },
   "outputs": [],
   "source": [
    "pickle.dump([w_ind, graph], open('google_eng_30knn.p', 'wb'))"
   ]
  },
  {
   "cell_type": "code",
   "execution_count": 92,
   "metadata": {
    "collapsed": false
   },
   "outputs": [],
   "source": [
    "import logging\n",
    "logger = logging.getLogger()\n",
    "logger.setLevel(logging.DEBUG)\n",
    "logging.debug(\"test\")\n",
    "\n",
    "# simple utility functions for printing\n",
    "def print_similarities(similarity_list):\n",
    "    for similarity in similarity_list:\n",
    "        print similarity[0].ljust(18),similarity[1]\n",
    "    \n",
    "def print_k_most_similar(similarity_list, k):\n",
    "        print ', '.join(sim[0] for sim in similarity_list[:k])\n",
    "        \n",
    "def similarities_p(pos=[],neg=[],topn=10,doPrint = True):\n",
    "    if doPrint: \n",
    "        print \"pos:\",pos,\"neg:\",neg\n",
    "    similarities = model.most_similar(pos,neg,topn)\n",
    "    if doPrint: print_similarities(similarities)\n",
    "    return similarities\n",
    "    \n",
    "def most_similar_cosmul_p(pos=[],neg=[],topn=10, doPrint = True):\n",
    "    if doPrint: print \"( \" + \" + \".join(pos),\") - \" + \"-\".join(neg)\n",
    "    similarities = model.most_similar_cosmul(pos,neg,topn)\n",
    "#     if doPrint: print_similarities(similarities)    \n",
    "    if doPrint: print_k_most_similar(similarities,5)    \n",
    "    return similarities\n",
    "\n",
    "def word_similar_cosmul_p(word,topn=10, doPrint = True):\n",
    "    if doPrint: print \"word:\",word\n",
    "    similarities = model.most_similar_cosmul([word],[],topn)\n",
    "    if doPrint: print_similarities(similarities)    \n",
    "    return similarities    \n",
    "\n",
    "# logging.warning('hi')"
   ]
  },
  {
   "cell_type": "code",
   "execution_count": 93,
   "metadata": {
    "collapsed": false
   },
   "outputs": [],
   "source": [
    "# model['Frau']"
   ]
  },
  {
   "cell_type": "code",
   "execution_count": 114,
   "metadata": {
    "collapsed": false
   },
   "outputs": [
    {
     "name": "stdout",
     "output_type": "stream",
     "text": [
      "( Kind ) - Huhn\n",
      "Kindes, Geburt_Kindes, Kleinkind, Grundschulalter, Schuleintritt\n",
      "\n"
     ]
    }
   ],
   "source": [
    "# most_similar_cosmul_p(['Berlin','Haus'],['London'],10)\n",
    "# most_similar_cosmul_p(['Berlin','Haus'],['Paris'],10)\n",
    "# most_similar_cosmul_p(['Berlin','Currywurst'],['Muenchen'],10)\n",
    "# most_similar_cosmul_p(['Berlin','Currywurst'],['Koeln'],10)\n",
    "# most_similar_cosmul_p(['Berlin','Currywurst'],['Stuttgart'],10)\n",
    "# most_similar_cosmul_p(['Berlin','Currywurst'],['Hamburg'],10)\n",
    "most_similar_cosmul_p(['Kind','Huhn'],[],10)\n",
    "print"
   ]
  },
  {
   "cell_type": "code",
   "execution_count": 7,
   "metadata": {
    "collapsed": false,
    "scrolled": true
   },
   "outputs": [
    {
     "name": "stdout",
     "output_type": "stream",
     "text": [
      "WORD ARITHMETIC\n",
      "[(u'Bub', 0.7549524307250977), (u'Bursche', 0.7502634525299072), (u'junger_Mann', 0.7442663908004761), (u'Familienvater', 0.7426276206970215), (u'Frau', 0.7329385280609131), (u'Bursch', 0.7207690477371216), (u'Maedchen', 0.7140915393829346), (u'Hund_beisst', 0.7092903256416321), (u'Vierjaehrige', 0.7038177251815796), (u'Gaststaettenbesuch', 0.7022638916969299)]\n",
      "pos: ['Deutschland'] neg: ['Spanien']\n",
      "bundesweit         0.362699508667\n",
      "Bundesrepublik     0.356491982937\n",
      "deutschlandweit    0.349435657263\n",
      "Bundesverbandes    0.335686922073\n",
      "Schulhof-CD        0.3345887959\n",
      "pos: ['Deutschland'] neg: ['Spanien']\n",
      "Christlich-Demokratischen_Union 1.25558304787\n",
      "Vorsitzender_Landesverbandes 1.25547981262\n",
      "EAK                1.25302743912\n",
      "Bundesverbandes    1.25126481056\n",
      "Verlagsmanager     1.24948215485\n",
      "\n",
      "SIMILARITY\n",
      "0.809555107548\n",
      "\n",
      "NON-MATCHING WORD\n",
      "Abendessen\n",
      "[(u'computer', 1.0091392993927002), (u'integrated', 0.8582295179367065), (u'networks', 0.8527972102165222), (u'solution', 0.8520605564117432), (u'application', 0.850424587726593), (u'platform', 0.842262327671051), (u'testing', 0.8399407863616943), (u'measure', 0.8393082022666931), (u'tools', 0.8391869068145752), (u'driven', 0.838665246963501)]\n"
     ]
    }
   ],
   "source": [
    "# DEMO\n",
    "\n",
    "# 1 word arithmetic\n",
    "#model.most_similar(positive=[\"woman\",'girl']) # gunshot?\n",
    "print \"WORD ARITHMETIC\"\n",
    "model.most_similar(positive=[\"Mann\"]) \n",
    "print model.most_similar(positive=[\"Mann\",'Junge']) \n",
    "# our helper fcts\n",
    "similarities_p(['Deutschland'],['Spanien'],topn=5)\n",
    "most_similar_cosmul_p(['Deutschland'],['Spanien'],topn=5)\n",
    "# 2 similarity\n",
    "print \"\\nSIMILARITY\"\n",
    "w1 = 'Frau'\n",
    "w2 = 'Mann'\n",
    "print model.similarity(w1,w2)\n",
    "\n",
    "# 4 non-matching\n",
    "print \"\\nNON-MATCHING WORD\"\n",
    "print model.doesnt_match(\"Frühstück Müsli Abendessen Mitagessen\".split())\n",
    "\n",
    "# 5 feature vector\n",
    "vector = model['computer']\n",
    "#print vector\n",
    "\n",
    "# 6 similar by vector\n",
    "vector[np.random.randint(0,300)] += random() * 0.5 - 0.05\n",
    "\n",
    "print model.similar_by_vector(vector)"
   ]
  },
  {
   "cell_type": "code",
   "execution_count": 108,
   "metadata": {
    "collapsed": false
   },
   "outputs": [
    {
     "name": "stdout",
     "output_type": "stream",
     "text": [
      "\u001b[K\u001b[?25h\n",
      "> fsevents@1.1.1 install /Users/raminsoleymani/git/ECO/src/tests/py_nltk/node_modules/fsevents\n",
      "> node install\n",
      "\n",
      "[fsevents] Success: \"/Users/raminsoleymani/git/ECO/src/tests/py_nltk/node_modules/fsevents/lib/binding/Release/node-v48-darwin-x64/fse.node\" already installed\n",
      "Pass --update-binary to reinstall or --build-from-source to recompile\n",
      "\u001b[K\u001b[?25hexp@1.0.0 /Users/raminsoleymani/git/ECO/src/tests/py_nltk\n",
      "├─┬ \u001b[40m\u001b[33mbabel-cli@6.24.1\u001b[39m\u001b[49m \n",
      "│ ├─┬ \u001b[40m\u001b[33mbabel-core@6.24.1\u001b[39m\u001b[49m \n",
      "│ │ ├─┬ \u001b[40m\u001b[33mbabel-code-frame@6.22.0\u001b[39m\u001b[49m \n",
      "│ │ │ ├─┬ \u001b[40m\u001b[33mchalk@1.1.3\u001b[39m\u001b[49m \n",
      "│ │ │ │ ├── \u001b[40m\u001b[33mansi-styles@2.2.1\u001b[39m\u001b[49m \n",
      "│ │ │ │ ├── \u001b[40m\u001b[33mescape-string-regexp@1.0.5\u001b[39m\u001b[49m \n",
      "│ │ │ │ ├─┬ \u001b[40m\u001b[33mhas-ansi@2.0.0\u001b[39m\u001b[49m \n",
      "│ │ │ │ │ └── \u001b[40m\u001b[33mansi-regex@2.1.1\u001b[39m\u001b[49m \n",
      "│ │ │ │ ├─┬ \u001b[40m\u001b[33mstrip-ansi@3.0.1\u001b[39m\u001b[49m \n",
      "│ │ │ │ │ └── \u001b[40m\u001b[33mansi-regex@2.1.1\u001b[39m\u001b[49m  \u001b[90mdeduped\u001b[39m\n",
      "│ │ │ │ └── \u001b[40m\u001b[33msupports-color@2.0.0\u001b[39m\u001b[49m \n",
      "│ │ │ ├── \u001b[40m\u001b[33mesutils@2.0.2\u001b[39m\u001b[49m \n",
      "│ │ │ └── \u001b[40m\u001b[33mjs-tokens@3.0.1\u001b[39m\u001b[49m \n",
      "│ │ ├─┬ \u001b[40m\u001b[33mbabel-generator@6.24.1\u001b[39m\u001b[49m \n",
      "│ │ │ ├── \u001b[40m\u001b[33mbabel-messages@6.23.0\u001b[39m\u001b[49m  \u001b[90mdeduped\u001b[39m\n",
      "│ │ │ ├── \u001b[40m\u001b[33mbabel-runtime@6.23.0\u001b[39m\u001b[49m  \u001b[90mdeduped\u001b[39m\n",
      "│ │ │ ├── \u001b[40m\u001b[33mbabel-types@6.24.1\u001b[39m\u001b[49m  \u001b[90mdeduped\u001b[39m\n",
      "│ │ │ ├─┬ \u001b[40m\u001b[33mdetect-indent@4.0.0\u001b[39m\u001b[49m \n",
      "│ │ │ │ └─┬ \u001b[40m\u001b[33mrepeating@2.0.1\u001b[39m\u001b[49m \n",
      "│ │ │ │   └─┬ \u001b[40m\u001b[33mis-finite@1.0.2\u001b[39m\u001b[49m \n",
      "│ │ │ │     └── \u001b[40m\u001b[33mnumber-is-nan@1.0.1\u001b[39m\u001b[49m \n",
      "│ │ │ ├── \u001b[40m\u001b[33mjsesc@1.3.0\u001b[39m\u001b[49m \n",
      "│ │ │ ├── \u001b[40m\u001b[33mlodash@4.17.4\u001b[39m\u001b[49m  \u001b[90mdeduped\u001b[39m\n",
      "│ │ │ ├── \u001b[40m\u001b[33msource-map@0.5.6\u001b[39m\u001b[49m  \u001b[90mdeduped\u001b[39m\n",
      "│ │ │ └── \u001b[40m\u001b[33mtrim-right@1.0.1\u001b[39m\u001b[49m \n",
      "│ │ ├─┬ \u001b[40m\u001b[33mbabel-helpers@6.24.1\u001b[39m\u001b[49m \n",
      "│ │ │ ├── \u001b[40m\u001b[33mbabel-runtime@6.23.0\u001b[39m\u001b[49m  \u001b[90mdeduped\u001b[39m\n",
      "│ │ │ └── \u001b[40m\u001b[33mbabel-template@6.24.1\u001b[39m\u001b[49m  \u001b[90mdeduped\u001b[39m\n",
      "│ │ ├─┬ \u001b[40m\u001b[33mbabel-messages@6.23.0\u001b[39m\u001b[49m \n",
      "│ │ │ └── \u001b[40m\u001b[33mbabel-runtime@6.23.0\u001b[39m\u001b[49m  \u001b[90mdeduped\u001b[39m\n",
      "│ │ ├── \u001b[40m\u001b[33mbabel-register@6.24.1\u001b[39m\u001b[49m  \u001b[90mdeduped\u001b[39m\n",
      "│ │ ├── \u001b[40m\u001b[33mbabel-runtime@6.23.0\u001b[39m\u001b[49m  \u001b[90mdeduped\u001b[39m\n",
      "│ │ ├─┬ \u001b[40m\u001b[33mbabel-template@6.24.1\u001b[39m\u001b[49m \n",
      "│ │ │ ├── \u001b[40m\u001b[33mbabel-runtime@6.23.0\u001b[39m\u001b[49m  \u001b[90mdeduped\u001b[39m\n",
      "│ │ │ ├── \u001b[40m\u001b[33mbabel-traverse@6.24.1\u001b[39m\u001b[49m  \u001b[90mdeduped\u001b[39m\n",
      "│ │ │ ├── \u001b[40m\u001b[33mbabel-types@6.24.1\u001b[39m\u001b[49m  \u001b[90mdeduped\u001b[39m\n",
      "│ │ │ ├── \u001b[40m\u001b[33mbabylon@6.17.0\u001b[39m\u001b[49m  \u001b[90mdeduped\u001b[39m\n",
      "│ │ │ └── \u001b[40m\u001b[33mlodash@4.17.4\u001b[39m\u001b[49m  \u001b[90mdeduped\u001b[39m\n",
      "│ │ ├─┬ \u001b[40m\u001b[33mbabel-traverse@6.24.1\u001b[39m\u001b[49m \n",
      "│ │ │ ├── \u001b[40m\u001b[33mbabel-code-frame@6.22.0\u001b[39m\u001b[49m  \u001b[90mdeduped\u001b[39m\n",
      "│ │ │ ├── \u001b[40m\u001b[33mbabel-messages@6.23.0\u001b[39m\u001b[49m  \u001b[90mdeduped\u001b[39m\n",
      "│ │ │ ├── \u001b[40m\u001b[33mbabel-runtime@6.23.0\u001b[39m\u001b[49m  \u001b[90mdeduped\u001b[39m\n",
      "│ │ │ ├── \u001b[40m\u001b[33mbabel-types@6.24.1\u001b[39m\u001b[49m  \u001b[90mdeduped\u001b[39m\n",
      "│ │ │ ├── \u001b[40m\u001b[33mbabylon@6.17.0\u001b[39m\u001b[49m  \u001b[90mdeduped\u001b[39m\n",
      "│ │ │ ├── \u001b[40m\u001b[33mdebug@2.6.6\u001b[39m\u001b[49m  \u001b[90mdeduped\u001b[39m\n",
      "│ │ │ ├── \u001b[40m\u001b[33mglobals@9.17.0\u001b[39m\u001b[49m \n",
      "│ │ │ ├── \u001b[40m\u001b[33minvariant@2.2.2\u001b[39m\u001b[49m  \u001b[90mdeduped\u001b[39m\n",
      "│ │ │ └── \u001b[40m\u001b[33mlodash@4.17.4\u001b[39m\u001b[49m  \u001b[90mdeduped\u001b[39m\n",
      "│ │ ├─┬ \u001b[40m\u001b[33mbabel-types@6.24.1\u001b[39m\u001b[49m \n",
      "│ │ │ ├── \u001b[40m\u001b[33mbabel-runtime@6.23.0\u001b[39m\u001b[49m  \u001b[90mdeduped\u001b[39m\n",
      "│ │ │ ├── \u001b[40m\u001b[33mesutils@2.0.2\u001b[39m\u001b[49m  \u001b[90mdeduped\u001b[39m\n",
      "│ │ │ ├── \u001b[40m\u001b[33mlodash@4.17.4\u001b[39m\u001b[49m  \u001b[90mdeduped\u001b[39m\n",
      "│ │ │ └── \u001b[40m\u001b[33mto-fast-properties@1.0.3\u001b[39m\u001b[49m \n",
      "│ │ ├── \u001b[40m\u001b[33mbabylon@6.17.0\u001b[39m\u001b[49m \n",
      "│ │ ├── \u001b[40m\u001b[33mconvert-source-map@1.5.0\u001b[39m\u001b[49m  \u001b[90mdeduped\u001b[39m\n",
      "│ │ ├─┬ \u001b[40m\u001b[33mdebug@2.6.6\u001b[39m\u001b[49m \n",
      "│ │ │ └── \u001b[40m\u001b[33mms@0.7.3\u001b[39m\u001b[49m \n",
      "│ │ ├── \u001b[40m\u001b[33mlodash@4.17.4\u001b[39m\u001b[49m  \u001b[90mdeduped\u001b[39m\n",
      "│ │ ├─┬ \u001b[40m\u001b[33mminimatch@3.0.4\u001b[39m\u001b[49m \n",
      "│ │ │ └─┬ \u001b[40m\u001b[33mbrace-expansion@1.1.7\u001b[39m\u001b[49m \n",
      "│ │ │   ├── \u001b[40m\u001b[33mbalanced-match@0.4.2\u001b[39m\u001b[49m \n",
      "│ │ │   └── \u001b[40m\u001b[33mconcat-map@0.0.1\u001b[39m\u001b[49m \n",
      "│ │ ├── \u001b[40m\u001b[33mpath-is-absolute@1.0.1\u001b[39m\u001b[49m  \u001b[90mdeduped\u001b[39m\n",
      "│ │ ├── \u001b[40m\u001b[33mprivate@0.1.7\u001b[39m\u001b[49m \n",
      "│ │ ├── \u001b[40m\u001b[33mslash@1.0.0\u001b[39m\u001b[49m  \u001b[90mdeduped\u001b[39m\n",
      "│ │ └── \u001b[40m\u001b[33msource-map@0.5.6\u001b[39m\u001b[49m  \u001b[90mdeduped\u001b[39m\n",
      "│ ├─┬ \u001b[40m\u001b[33mbabel-polyfill@6.23.0\u001b[39m\u001b[49m \n",
      "│ │ ├── \u001b[40m\u001b[33mbabel-runtime@6.23.0\u001b[39m\u001b[49m  \u001b[90mdeduped\u001b[39m\n",
      "│ │ ├── \u001b[40m\u001b[33mcore-js@2.4.1\u001b[39m\u001b[49m \n",
      "│ │ └── \u001b[40m\u001b[33mregenerator-runtime@0.10.5\u001b[39m\u001b[49m \n",
      "│ ├─┬ \u001b[40m\u001b[33mbabel-register@6.24.1\u001b[39m\u001b[49m \n",
      "│ │ ├── \u001b[40m\u001b[33mbabel-core@6.24.1\u001b[39m\u001b[49m  \u001b[90mdeduped\u001b[39m\n",
      "│ │ ├── \u001b[40m\u001b[33mbabel-runtime@6.23.0\u001b[39m\u001b[49m  \u001b[90mdeduped\u001b[39m\n",
      "│ │ ├── \u001b[40m\u001b[33mcore-js@2.4.1\u001b[39m\u001b[49m  \u001b[90mdeduped\u001b[39m\n",
      "│ │ ├─┬ \u001b[40m\u001b[33mhome-or-tmp@2.0.0\u001b[39m\u001b[49m \n",
      "│ │ │ ├── \u001b[40m\u001b[33mos-homedir@1.0.2\u001b[39m\u001b[49m \n",
      "│ │ │ └── \u001b[40m\u001b[33mos-tmpdir@1.0.2\u001b[39m\u001b[49m \n",
      "│ │ ├── \u001b[40m\u001b[33mlodash@4.17.4\u001b[39m\u001b[49m  \u001b[90mdeduped\u001b[39m\n",
      "│ │ ├─┬ \u001b[40m\u001b[33mmkdirp@0.5.1\u001b[39m\u001b[49m \n",
      "│ │ │ └── \u001b[40m\u001b[33mminimist@0.0.8\u001b[39m\u001b[49m \n",
      "│ │ └─┬ \u001b[40m\u001b[33msource-map-support@0.4.15\u001b[39m\u001b[49m \n",
      "│ │   └── \u001b[40m\u001b[33msource-map@0.5.6\u001b[39m\u001b[49m  \u001b[90mdeduped\u001b[39m\n",
      "│ ├─┬ \u001b[40m\u001b[33mbabel-runtime@6.23.0\u001b[39m\u001b[49m \n",
      "│ │ ├── \u001b[40m\u001b[33mcore-js@2.4.1\u001b[39m\u001b[49m  \u001b[90mdeduped\u001b[39m\n",
      "│ │ └── \u001b[40m\u001b[33mregenerator-runtime@0.10.5\u001b[39m\u001b[49m  \u001b[90mdeduped\u001b[39m\n",
      "│ ├─┬ \u001b[40m\u001b[33mchokidar@1.7.0\u001b[39m\u001b[49m \n",
      "│ │ ├─┬ \u001b[40m\u001b[33manymatch@1.3.0\u001b[39m\u001b[49m \n",
      "│ │ │ ├── \u001b[40m\u001b[33marrify@1.0.1\u001b[39m\u001b[49m \n",
      "│ │ │ └─┬ \u001b[40m\u001b[33mmicromatch@2.3.11\u001b[39m\u001b[49m \n",
      "│ │ │   ├─┬ \u001b[40m\u001b[33marr-diff@2.0.0\u001b[39m\u001b[49m \n",
      "│ │ │   │ └── \u001b[40m\u001b[33marr-flatten@1.0.3\u001b[39m\u001b[49m \n",
      "│ │ │   ├── \u001b[40m\u001b[33marray-unique@0.2.1\u001b[39m\u001b[49m \n",
      "│ │ │   ├─┬ \u001b[40m\u001b[33mbraces@1.8.5\u001b[39m\u001b[49m \n",
      "│ │ │   │ ├─┬ \u001b[40m\u001b[33mexpand-range@1.8.2\u001b[39m\u001b[49m \n",
      "│ │ │   │ │ └─┬ \u001b[40m\u001b[33mfill-range@2.2.3\u001b[39m\u001b[49m \n",
      "│ │ │   │ │   ├─┬ \u001b[40m\u001b[33mis-number@2.1.0\u001b[39m\u001b[49m \n",
      "│ │ │   │ │   │ └── \u001b[40m\u001b[33mkind-of@3.2.0\u001b[39m\u001b[49m  \u001b[90mdeduped\u001b[39m\n",
      "│ │ │   │ │   ├─┬ \u001b[40m\u001b[33misobject@2.1.0\u001b[39m\u001b[49m \n",
      "│ │ │   │ │   │ └── \u001b[40m\u001b[33misarray@1.0.0\u001b[39m\u001b[49m  \u001b[90mdeduped\u001b[39m\n",
      "│ │ │   │ │   ├─┬ \u001b[40m\u001b[33mrandomatic@1.1.6\u001b[39m\u001b[49m \n",
      "│ │ │   │ │   │ ├── \u001b[40m\u001b[33mis-number@2.1.0\u001b[39m\u001b[49m  \u001b[90mdeduped\u001b[39m\n",
      "│ │ │   │ │   │ └── \u001b[40m\u001b[33mkind-of@3.2.0\u001b[39m\u001b[49m  \u001b[90mdeduped\u001b[39m\n",
      "│ │ │   │ │   ├── \u001b[40m\u001b[33mrepeat-element@1.1.2\u001b[39m\u001b[49m  \u001b[90mdeduped\u001b[39m\n",
      "│ │ │   │ │   └── \u001b[40m\u001b[33mrepeat-string@1.6.1\u001b[39m\u001b[49m \n",
      "│ │ │   │ ├── \u001b[40m\u001b[33mpreserve@0.2.0\u001b[39m\u001b[49m \n",
      "│ │ │   │ └── \u001b[40m\u001b[33mrepeat-element@1.1.2\u001b[39m\u001b[49m \n",
      "│ │ │   ├─┬ \u001b[40m\u001b[33mexpand-brackets@0.1.5\u001b[39m\u001b[49m \n",
      "│ │ │   │ └── \u001b[40m\u001b[33mis-posix-bracket@0.1.1\u001b[39m\u001b[49m \n",
      "│ │ │   ├─┬ \u001b[40m\u001b[33mextglob@0.3.2\u001b[39m\u001b[49m \n",
      "│ │ │   │ └── \u001b[40m\u001b[33mis-extglob@1.0.0\u001b[39m\u001b[49m  \u001b[90mdeduped\u001b[39m\n",
      "│ │ │   ├── \u001b[40m\u001b[33mfilename-regex@2.0.1\u001b[39m\u001b[49m \n",
      "│ │ │   ├── \u001b[40m\u001b[33mis-extglob@1.0.0\u001b[39m\u001b[49m  \u001b[90mdeduped\u001b[39m\n",
      "│ │ │   ├── \u001b[40m\u001b[33mis-glob@2.0.1\u001b[39m\u001b[49m  \u001b[90mdeduped\u001b[39m\n",
      "│ │ │   ├─┬ \u001b[40m\u001b[33mkind-of@3.2.0\u001b[39m\u001b[49m \n",
      "│ │ │   │ └── \u001b[40m\u001b[33mis-buffer@1.1.5\u001b[39m\u001b[49m \n",
      "│ │ │   ├─┬ \u001b[40m\u001b[33mnormalize-path@2.1.1\u001b[39m\u001b[49m \n",
      "│ │ │   │ └── \u001b[40m\u001b[33mremove-trailing-separator@1.0.1\u001b[39m\u001b[49m \n",
      "│ │ │   ├─┬ \u001b[40m\u001b[33mobject.omit@2.0.1\u001b[39m\u001b[49m \n",
      "│ │ │   │ ├─┬ \u001b[40m\u001b[33mfor-own@0.1.5\u001b[39m\u001b[49m \n",
      "│ │ │   │ │ └── \u001b[40m\u001b[33mfor-in@1.0.2\u001b[39m\u001b[49m \n",
      "│ │ │   │ └── \u001b[40m\u001b[33mis-extendable@0.1.1\u001b[39m\u001b[49m \n",
      "│ │ │   ├─┬ \u001b[40m\u001b[33mparse-glob@3.0.4\u001b[39m\u001b[49m \n",
      "│ │ │   │ ├─┬ \u001b[40m\u001b[33mglob-base@0.3.0\u001b[39m\u001b[49m \n",
      "│ │ │   │ │ ├── \u001b[40m\u001b[33mglob-parent@2.0.0\u001b[39m\u001b[49m  \u001b[90mdeduped\u001b[39m\n",
      "│ │ │   │ │ └── \u001b[40m\u001b[33mis-glob@2.0.1\u001b[39m\u001b[49m  \u001b[90mdeduped\u001b[39m\n",
      "│ │ │   │ ├── \u001b[40m\u001b[33mis-dotfile@1.0.2\u001b[39m\u001b[49m \n",
      "│ │ │   │ ├── \u001b[40m\u001b[33mis-extglob@1.0.0\u001b[39m\u001b[49m  \u001b[90mdeduped\u001b[39m\n",
      "│ │ │   │ └── \u001b[40m\u001b[33mis-glob@2.0.1\u001b[39m\u001b[49m  \u001b[90mdeduped\u001b[39m\n",
      "│ │ │   └─┬ \u001b[40m\u001b[33mregex-cache@0.4.3\u001b[39m\u001b[49m \n",
      "│ │ │     ├─┬ \u001b[40m\u001b[33mis-equal-shallow@0.1.3\u001b[39m\u001b[49m \n",
      "│ │ │     │ └── \u001b[40m\u001b[33mis-primitive@2.0.0\u001b[39m\u001b[49m  \u001b[90mdeduped\u001b[39m\n",
      "│ │ │     └── \u001b[40m\u001b[33mis-primitive@2.0.0\u001b[39m\u001b[49m \n",
      "│ │ ├── \u001b[40m\u001b[33masync-each@1.0.1\u001b[39m\u001b[49m \n",
      "│ │ ├─┬ \u001b[40m\u001b[33mfsevents@1.1.1\u001b[39m\u001b[49m \n",
      "│ │ │ ├── \u001b[40m\u001b[33mnan@2.6.2\u001b[39m\u001b[49m \n",
      "│ │ │ └─┬ \u001b[40m\u001b[33mnode-pre-gyp@0.6.33\u001b[39m\u001b[49m \n",
      "│ │ │   ├─┬ \u001b[40m\u001b[33mmkdirp@0.5.1\u001b[39m\u001b[49m \n",
      "│ │ │   │ └── \u001b[40m\u001b[33mminimist@0.0.8\u001b[39m\u001b[49m \n",
      "│ │ │   ├─┬ \u001b[40m\u001b[33mnopt@3.0.6\u001b[39m\u001b[49m \n",
      "│ │ │   │ └── \u001b[40m\u001b[33mabbrev@1.1.0\u001b[39m\u001b[49m \n",
      "│ │ │   ├─┬ \u001b[40m\u001b[33mnpmlog@4.0.2\u001b[39m\u001b[49m \n",
      "│ │ │   │ ├─┬ \u001b[40m\u001b[33mare-we-there-yet@1.1.2\u001b[39m\u001b[49m \n",
      "│ │ │   │ │ ├── \u001b[40m\u001b[33mdelegates@1.0.0\u001b[39m\u001b[49m \n",
      "│ │ │   │ │ └─┬ \u001b[40m\u001b[33mreadable-stream@2.2.2\u001b[39m\u001b[49m \n",
      "│ │ │   │ │   ├── \u001b[40m\u001b[33mbuffer-shims@1.0.0\u001b[39m\u001b[49m  \u001b[90mdeduped\u001b[39m\n",
      "│ │ │   │ │   ├── \u001b[40m\u001b[33mcore-util-is@1.0.2\u001b[39m\u001b[49m  \u001b[90mdeduped\u001b[39m\n",
      "│ │ │   │ │   ├── \u001b[40m\u001b[33minherits@2.0.3\u001b[39m\u001b[49m  \u001b[90mdeduped\u001b[39m\n",
      "│ │ │   │ │   ├── \u001b[40m\u001b[33misarray@1.0.0\u001b[39m\u001b[49m  \u001b[90mdeduped\u001b[39m\n",
      "│ │ │   │ │   ├── \u001b[40m\u001b[33mprocess-nextick-args@1.0.7\u001b[39m\u001b[49m  \u001b[90mdeduped\u001b[39m\n",
      "│ │ │   │ │   ├── \u001b[40m\u001b[33mstring_decoder@0.10.31\u001b[39m\u001b[49m  \u001b[90mdeduped\u001b[39m\n",
      "│ │ │   │ │   └── \u001b[40m\u001b[33mutil-deprecate@1.0.2\u001b[39m\u001b[49m  \u001b[90mdeduped\u001b[39m\n",
      "│ │ │   │ ├── \u001b[40m\u001b[33mconsole-control-strings@1.1.0\u001b[39m\u001b[49m \n",
      "│ │ │   │ ├─┬ \u001b[40m\u001b[33mgauge@2.7.3\u001b[39m\u001b[49m \n",
      "│ │ │   │ │ ├── \u001b[40m\u001b[33maproba@1.1.1\u001b[39m\u001b[49m \n",
      "│ │ │   │ │ ├── \u001b[40m\u001b[33mconsole-control-strings@1.1.0\u001b[39m\u001b[49m  \u001b[90mdeduped\u001b[39m\n",
      "│ │ │   │ │ ├── \u001b[40m\u001b[33mhas-unicode@2.0.1\u001b[39m\u001b[49m \n",
      "│ │ │   │ │ ├── \u001b[40m\u001b[33mobject-assign@4.1.1\u001b[39m\u001b[49m \n",
      "│ │ │   │ │ ├── \u001b[40m\u001b[33msignal-exit@3.0.2\u001b[39m\u001b[49m \n",
      "│ │ │   │ │ ├─┬ \u001b[40m\u001b[33mstring-width@1.0.2\u001b[39m\u001b[49m \n",
      "│ │ │   │ │ │ ├── \u001b[40m\u001b[33mcode-point-at@1.1.0\u001b[39m\u001b[49m \n",
      "│ │ │   │ │ │ ├─┬ \u001b[40m\u001b[33mis-fullwidth-code-point@1.0.0\u001b[39m\u001b[49m \n",
      "│ │ │   │ │ │ │ └── \u001b[40m\u001b[33mnumber-is-nan@1.0.1\u001b[39m\u001b[49m \n",
      "│ │ │   │ │ │ └── \u001b[40m\u001b[33mstrip-ansi@3.0.1\u001b[39m\u001b[49m  \u001b[90mdeduped\u001b[39m\n",
      "│ │ │   │ │ ├─┬ \u001b[40m\u001b[33mstrip-ansi@3.0.1\u001b[39m\u001b[49m \n",
      "│ │ │   │ │ │ └── \u001b[40m\u001b[33mansi-regex@2.1.1\u001b[39m\u001b[49m \n",
      "│ │ │   │ │ └─┬ \u001b[40m\u001b[33mwide-align@1.1.0\u001b[39m\u001b[49m \n",
      "│ │ │   │ │   └── \u001b[40m\u001b[33mstring-width@1.0.2\u001b[39m\u001b[49m  \u001b[90mdeduped\u001b[39m\n",
      "│ │ │   │ └── \u001b[40m\u001b[33mset-blocking@2.0.0\u001b[39m\u001b[49m \n",
      "│ │ │   ├─┬ \u001b[40m\u001b[33mrc@1.1.7\u001b[39m\u001b[49m \n",
      "│ │ │   │ ├── \u001b[40m\u001b[33mdeep-extend@0.4.1\u001b[39m\u001b[49m \n",
      "│ │ │   │ ├── \u001b[40m\u001b[33mini@1.3.4\u001b[39m\u001b[49m \n",
      "│ │ │   │ ├── \u001b[40m\u001b[33mminimist@1.2.0\u001b[39m\u001b[49m \n",
      "│ │ │   │ └── \u001b[40m\u001b[33mstrip-json-comments@2.0.1\u001b[39m\u001b[49m \n",
      "│ │ │   ├─┬ \u001b[40m\u001b[33mrequest@2.79.0\u001b[39m\u001b[49m \n",
      "│ │ │   │ ├── \u001b[40m\u001b[33maws-sign2@0.6.0\u001b[39m\u001b[49m \n",
      "│ │ │   │ ├── \u001b[40m\u001b[33maws4@1.6.0\u001b[39m\u001b[49m \n",
      "│ │ │   │ ├── \u001b[40m\u001b[33mcaseless@0.11.0\u001b[39m\u001b[49m \n",
      "│ │ │   │ ├─┬ \u001b[40m\u001b[33mcombined-stream@1.0.5\u001b[39m\u001b[49m \n",
      "│ │ │   │ │ └── \u001b[40m\u001b[33mdelayed-stream@1.0.0\u001b[39m\u001b[49m \n",
      "│ │ │   │ ├── \u001b[40m\u001b[33mextend@3.0.0\u001b[39m\u001b[49m \n",
      "│ │ │   │ ├── \u001b[40m\u001b[33mforever-agent@0.6.1\u001b[39m\u001b[49m \n",
      "│ │ │   │ ├─┬ \u001b[40m\u001b[33mform-data@2.1.2\u001b[39m\u001b[49m \n",
      "│ │ │   │ │ ├── \u001b[40m\u001b[33masynckit@0.4.0\u001b[39m\u001b[49m \n",
      "│ │ │   │ │ ├── \u001b[40m\u001b[33mcombined-stream@1.0.5\u001b[39m\u001b[49m  \u001b[90mdeduped\u001b[39m\n",
      "│ │ │   │ │ └── \u001b[40m\u001b[33mmime-types@2.1.14\u001b[39m\u001b[49m  \u001b[90mdeduped\u001b[39m\n",
      "│ │ │   │ ├─┬ \u001b[40m\u001b[33mhar-validator@2.0.6\u001b[39m\u001b[49m \n",
      "│ │ │   │ │ ├─┬ \u001b[40m\u001b[33mchalk@1.1.3\u001b[39m\u001b[49m \n",
      "│ │ │   │ │ │ ├── \u001b[40m\u001b[33mansi-styles@2.2.1\u001b[39m\u001b[49m \n",
      "│ │ │   │ │ │ ├── \u001b[40m\u001b[33mescape-string-regexp@1.0.5\u001b[39m\u001b[49m \n",
      "│ │ │   │ │ │ ├─┬ \u001b[40m\u001b[33mhas-ansi@2.0.0\u001b[39m\u001b[49m \n",
      "│ │ │   │ │ │ │ └── \u001b[40m\u001b[33mansi-regex@2.1.1\u001b[39m\u001b[49m  \u001b[90mdeduped\u001b[39m\n",
      "│ │ │   │ │ │ ├── \u001b[40m\u001b[33mstrip-ansi@3.0.1\u001b[39m\u001b[49m  \u001b[90mdeduped\u001b[39m\n",
      "│ │ │   │ │ │ └── \u001b[40m\u001b[33msupports-color@2.0.0\u001b[39m\u001b[49m \n",
      "│ │ │   │ │ ├─┬ \u001b[40m\u001b[33mcommander@2.9.0\u001b[39m\u001b[49m \n",
      "│ │ │   │ │ │ └── \u001b[40m\u001b[33mgraceful-readlink@1.0.1\u001b[39m\u001b[49m \n",
      "│ │ │   │ │ ├─┬ \u001b[40m\u001b[33mis-my-json-valid@2.15.0\u001b[39m\u001b[49m \n",
      "│ │ │   │ │ │ ├── \u001b[40m\u001b[33mgenerate-function@2.0.0\u001b[39m\u001b[49m \n",
      "│ │ │   │ │ │ ├─┬ \u001b[40m\u001b[33mgenerate-object-property@1.2.0\u001b[39m\u001b[49m \n",
      "│ │ │   │ │ │ │ └── \u001b[40m\u001b[33mis-property@1.0.2\u001b[39m\u001b[49m \n",
      "│ │ │   │ │ │ ├── \u001b[40m\u001b[33mjsonpointer@4.0.1\u001b[39m\u001b[49m \n",
      "│ │ │   │ │ │ └── \u001b[40m\u001b[33mxtend@4.0.1\u001b[39m\u001b[49m \n",
      "│ │ │   │ │ └─┬ \u001b[40m\u001b[33mpinkie-promise@2.0.1\u001b[39m\u001b[49m \n",
      "│ │ │   │ │   └── \u001b[40m\u001b[33mpinkie@2.0.4\u001b[39m\u001b[49m \n",
      "│ │ │   │ ├─┬ \u001b[40m\u001b[33mhawk@3.1.3\u001b[39m\u001b[49m \n",
      "│ │ │   │ │ ├─┬ \u001b[40m\u001b[33mboom@2.10.1\u001b[39m\u001b[49m \n",
      "│ │ │   │ │ │ └── \u001b[40m\u001b[33mhoek@2.16.3\u001b[39m\u001b[49m  \u001b[90mdeduped\u001b[39m\n",
      "│ │ │   │ │ ├─┬ \u001b[40m\u001b[33mcryptiles@2.0.5\u001b[39m\u001b[49m \n",
      "│ │ │   │ │ │ └── \u001b[40m\u001b[33mboom@2.10.1\u001b[39m\u001b[49m  \u001b[90mdeduped\u001b[39m\n",
      "│ │ │   │ │ ├── \u001b[40m\u001b[33mhoek@2.16.3\u001b[39m\u001b[49m \n",
      "│ │ │   │ │ └─┬ \u001b[40m\u001b[33msntp@1.0.9\u001b[39m\u001b[49m \n",
      "│ │ │   │ │   └── \u001b[40m\u001b[33mhoek@2.16.3\u001b[39m\u001b[49m  \u001b[90mdeduped\u001b[39m\n",
      "│ │ │   │ ├─┬ \u001b[40m\u001b[33mhttp-signature@1.1.1\u001b[39m\u001b[49m \n",
      "│ │ │   │ │ ├── \u001b[40m\u001b[33massert-plus@0.2.0\u001b[39m\u001b[49m \n",
      "│ │ │   │ │ ├─┬ \u001b[40m\u001b[33mjsprim@1.3.1\u001b[39m\u001b[49m \n",
      "│ │ │   │ │ │ ├── \u001b[40m\u001b[33mextsprintf@1.0.2\u001b[39m\u001b[49m \n",
      "│ │ │   │ │ │ ├── \u001b[40m\u001b[33mjson-schema@0.2.3\u001b[39m\u001b[49m \n",
      "│ │ │   │ │ │ └─┬ \u001b[40m\u001b[33mverror@1.3.6\u001b[39m\u001b[49m \n",
      "│ │ │   │ │ │   └── \u001b[40m\u001b[33mextsprintf@1.0.2\u001b[39m\u001b[49m  \u001b[90mdeduped\u001b[39m\n",
      "│ │ │   │ │ └─┬ \u001b[40m\u001b[33msshpk@1.10.2\u001b[39m\u001b[49m \n",
      "│ │ │   │ │   ├── \u001b[40m\u001b[33masn1@0.2.3\u001b[39m\u001b[49m \n",
      "│ │ │   │ │   ├── \u001b[40m\u001b[33massert-plus@1.0.0\u001b[39m\u001b[49m \n",
      "│ │ │   │ │   ├─┬ \u001b[40m\u001b[33mbcrypt-pbkdf@1.0.1\u001b[39m\u001b[49m \n",
      "│ │ │   │ │   │ └── \u001b[40m\u001b[33mtweetnacl@0.14.5\u001b[39m\u001b[49m  \u001b[90mdeduped\u001b[39m\n",
      "│ │ │   │ │   ├─┬ \u001b[40m\u001b[33mdashdash@1.14.1\u001b[39m\u001b[49m \n",
      "│ │ │   │ │   │ └── \u001b[40m\u001b[33massert-plus@1.0.0\u001b[39m\u001b[49m \n",
      "│ │ │   │ │   ├─┬ \u001b[40m\u001b[33mecc-jsbn@0.1.1\u001b[39m\u001b[49m \n",
      "│ │ │   │ │   │ └── \u001b[40m\u001b[33mjsbn@0.1.1\u001b[39m\u001b[49m  \u001b[90mdeduped\u001b[39m\n",
      "│ │ │   │ │   ├─┬ \u001b[40m\u001b[33mgetpass@0.1.6\u001b[39m\u001b[49m \n",
      "│ │ │   │ │   │ └── \u001b[40m\u001b[33massert-plus@1.0.0\u001b[39m\u001b[49m \n",
      "│ │ │   │ │   ├─┬ \u001b[40m\u001b[33mjodid25519@1.0.2\u001b[39m\u001b[49m \n",
      "│ │ │   │ │   │ └── \u001b[40m\u001b[33mjsbn@0.1.1\u001b[39m\u001b[49m  \u001b[90mdeduped\u001b[39m\n",
      "│ │ │   │ │   ├── \u001b[40m\u001b[33mjsbn@0.1.1\u001b[39m\u001b[49m \n",
      "│ │ │   │ │   └── \u001b[40m\u001b[33mtweetnacl@0.14.5\u001b[39m\u001b[49m \n",
      "│ │ │   │ ├── \u001b[40m\u001b[33mis-typedarray@1.0.0\u001b[39m\u001b[49m \n",
      "│ │ │   │ ├── \u001b[40m\u001b[33misstream@0.1.2\u001b[39m\u001b[49m \n",
      "│ │ │   │ ├── \u001b[40m\u001b[33mjson-stringify-safe@5.0.1\u001b[39m\u001b[49m \n",
      "│ │ │   │ ├─┬ \u001b[40m\u001b[33mmime-types@2.1.14\u001b[39m\u001b[49m \n",
      "│ │ │   │ │ └── \u001b[40m\u001b[33mmime-db@1.26.0\u001b[39m\u001b[49m \n",
      "│ │ │   │ ├── \u001b[40m\u001b[33moauth-sign@0.8.2\u001b[39m\u001b[49m \n",
      "│ │ │   │ ├── \u001b[40m\u001b[33mqs@6.3.1\u001b[39m\u001b[49m \n",
      "│ │ │   │ ├── \u001b[40m\u001b[33mstringstream@0.0.5\u001b[39m\u001b[49m \n",
      "│ │ │   │ ├─┬ \u001b[40m\u001b[33mtough-cookie@2.3.2\u001b[39m\u001b[49m \n",
      "│ │ │   │ │ └── \u001b[40m\u001b[33mpunycode@1.4.1\u001b[39m\u001b[49m \n",
      "│ │ │   │ ├── \u001b[40m\u001b[33mtunnel-agent@0.4.3\u001b[39m\u001b[49m \n",
      "│ │ │   │ └── \u001b[40m\u001b[33muuid@3.0.1\u001b[39m\u001b[49m \n",
      "│ │ │   ├─┬ \u001b[40m\u001b[33mrimraf@2.5.4\u001b[39m\u001b[49m \n",
      "│ │ │   │ └─┬ \u001b[40m\u001b[33mglob@7.1.1\u001b[39m\u001b[49m \n",
      "│ │ │   │   ├── \u001b[40m\u001b[33mfs.realpath@1.0.0\u001b[39m\u001b[49m \n",
      "│ │ │   │   ├─┬ \u001b[40m\u001b[33minflight@1.0.6\u001b[39m\u001b[49m \n",
      "│ │ │   │   │ ├── \u001b[40m\u001b[33monce@1.4.0\u001b[39m\u001b[49m  \u001b[90mdeduped\u001b[39m\n",
      "│ │ │   │   │ └── \u001b[40m\u001b[33mwrappy@1.0.2\u001b[39m\u001b[49m  \u001b[90mdeduped\u001b[39m\n",
      "│ │ │   │   ├── \u001b[40m\u001b[33minherits@2.0.3\u001b[39m\u001b[49m  \u001b[90mdeduped\u001b[39m\n",
      "│ │ │   │   ├─┬ \u001b[40m\u001b[33mminimatch@3.0.3\u001b[39m\u001b[49m \n",
      "│ │ │   │   │ └─┬ \u001b[40m\u001b[33mbrace-expansion@1.1.6\u001b[39m\u001b[49m \n",
      "│ │ │   │   │   ├── \u001b[40m\u001b[33mbalanced-match@0.4.2\u001b[39m\u001b[49m \n",
      "│ │ │   │   │   └── \u001b[40m\u001b[33mconcat-map@0.0.1\u001b[39m\u001b[49m \n",
      "│ │ │   │   ├─┬ \u001b[40m\u001b[33monce@1.4.0\u001b[39m\u001b[49m \n",
      "│ │ │   │   │ └── \u001b[40m\u001b[33mwrappy@1.0.2\u001b[39m\u001b[49m  \u001b[90mdeduped\u001b[39m\n",
      "│ │ │   │   └── \u001b[40m\u001b[33mpath-is-absolute@1.0.1\u001b[39m\u001b[49m \n",
      "│ │ │   ├── \u001b[40m\u001b[33msemver@5.3.0\u001b[39m\u001b[49m \n",
      "│ │ │   ├─┬ \u001b[40m\u001b[33mtar@2.2.1\u001b[39m\u001b[49m \n",
      "│ │ │   │ ├─┬ \u001b[40m\u001b[33mblock-stream@0.0.9\u001b[39m\u001b[49m \n",
      "│ │ │   │ │ └── \u001b[40m\u001b[33minherits@2.0.3\u001b[39m\u001b[49m  \u001b[90mdeduped\u001b[39m\n",
      "│ │ │   │ ├─┬ \u001b[40m\u001b[33mfstream@1.0.10\u001b[39m\u001b[49m \n",
      "│ │ │   │ │ ├── \u001b[40m\u001b[33mgraceful-fs@4.1.11\u001b[39m\u001b[49m \n",
      "│ │ │   │ │ ├── \u001b[40m\u001b[33minherits@2.0.3\u001b[39m\u001b[49m  \u001b[90mdeduped\u001b[39m\n",
      "│ │ │   │ │ ├── \u001b[40m\u001b[33mmkdirp@0.5.1\u001b[39m\u001b[49m  \u001b[90mdeduped\u001b[39m\n",
      "│ │ │   │ │ └── \u001b[40m\u001b[33mrimraf@2.5.4\u001b[39m\u001b[49m  \u001b[90mdeduped\u001b[39m\n",
      "│ │ │   │ └── \u001b[40m\u001b[33minherits@2.0.3\u001b[39m\u001b[49m \n",
      "│ │ │   └─┬ \u001b[40m\u001b[33mtar-pack@3.3.0\u001b[39m\u001b[49m \n",
      "│ │ │     ├─┬ \u001b[40m\u001b[33mdebug@2.2.0\u001b[39m\u001b[49m \n",
      "│ │ │     │ └── \u001b[40m\u001b[33mms@0.7.1\u001b[39m\u001b[49m \n",
      "│ │ │     ├── \u001b[40m\u001b[33mfstream@1.0.10\u001b[39m\u001b[49m  \u001b[90mdeduped\u001b[39m\n",
      "│ │ │     ├─┬ \u001b[40m\u001b[33mfstream-ignore@1.0.5\u001b[39m\u001b[49m \n",
      "│ │ │     │ ├── \u001b[40m\u001b[33mfstream@1.0.10\u001b[39m\u001b[49m  \u001b[90mdeduped\u001b[39m\n",
      "│ │ │     │ ├── \u001b[40m\u001b[33minherits@2.0.3\u001b[39m\u001b[49m  \u001b[90mdeduped\u001b[39m\n",
      "│ │ │     │ └── \u001b[40m\u001b[33mminimatch@3.0.3\u001b[39m\u001b[49m  \u001b[90mdeduped\u001b[39m\n",
      "│ │ │     ├─┬ \u001b[40m\u001b[33monce@1.3.3\u001b[39m\u001b[49m \n",
      "│ │ │     │ └── \u001b[40m\u001b[33mwrappy@1.0.2\u001b[39m\u001b[49m \n",
      "│ │ │     ├─┬ \u001b[40m\u001b[33mreadable-stream@2.1.5\u001b[39m\u001b[49m \n",
      "│ │ │     │ ├── \u001b[40m\u001b[33mbuffer-shims@1.0.0\u001b[39m\u001b[49m \n",
      "│ │ │     │ ├── \u001b[40m\u001b[33mcore-util-is@1.0.2\u001b[39m\u001b[49m \n",
      "│ │ │     │ ├── \u001b[40m\u001b[33minherits@2.0.3\u001b[39m\u001b[49m  \u001b[90mdeduped\u001b[39m\n",
      "│ │ │     │ ├── \u001b[40m\u001b[33misarray@1.0.0\u001b[39m\u001b[49m \n",
      "│ │ │     │ ├── \u001b[40m\u001b[33mprocess-nextick-args@1.0.7\u001b[39m\u001b[49m \n",
      "│ │ │     │ ├── \u001b[40m\u001b[33mstring_decoder@0.10.31\u001b[39m\u001b[49m \n",
      "│ │ │     │ └── \u001b[40m\u001b[33mutil-deprecate@1.0.2\u001b[39m\u001b[49m \n",
      "│ │ │     ├── \u001b[40m\u001b[33mrimraf@2.5.4\u001b[39m\u001b[49m  \u001b[90mdeduped\u001b[39m\n",
      "│ │ │     ├── \u001b[40m\u001b[33mtar@2.2.1\u001b[39m\u001b[49m  \u001b[90mdeduped\u001b[39m\n",
      "│ │ │     └── \u001b[40m\u001b[33muid-number@0.0.6\u001b[39m\u001b[49m \n",
      "│ │ ├─┬ \u001b[40m\u001b[33mglob-parent@2.0.0\u001b[39m\u001b[49m \n",
      "│ │ │ └── \u001b[40m\u001b[33mis-glob@2.0.1\u001b[39m\u001b[49m  \u001b[90mdeduped\u001b[39m\n",
      "│ │ ├── \u001b[40m\u001b[33minherits@2.0.3\u001b[39m\u001b[49m \n",
      "│ │ ├─┬ \u001b[40m\u001b[33mis-binary-path@1.0.1\u001b[39m\u001b[49m \n",
      "│ │ │ └── \u001b[40m\u001b[33mbinary-extensions@1.8.0\u001b[39m\u001b[49m \n",
      "│ │ ├─┬ \u001b[40m\u001b[33mis-glob@2.0.1\u001b[39m\u001b[49m \n",
      "│ │ │ └── \u001b[40m\u001b[33mis-extglob@1.0.0\u001b[39m\u001b[49m \n",
      "│ │ ├── \u001b[40m\u001b[33mpath-is-absolute@1.0.1\u001b[39m\u001b[49m  \u001b[90mdeduped\u001b[39m\n",
      "│ │ └─┬ \u001b[40m\u001b[33mreaddirp@2.1.0\u001b[39m\u001b[49m \n",
      "│ │   ├── \u001b[40m\u001b[33mgraceful-fs@4.1.11\u001b[39m\u001b[49m  \u001b[90mdeduped\u001b[39m\n",
      "│ │   ├── \u001b[40m\u001b[33mminimatch@3.0.4\u001b[39m\u001b[49m  \u001b[90mdeduped\u001b[39m\n",
      "│ │   ├─┬ \u001b[40m\u001b[33mreadable-stream@2.2.9\u001b[39m\u001b[49m \n",
      "│ │   │ ├── \u001b[40m\u001b[33mbuffer-shims@1.0.0\u001b[39m\u001b[49m \n",
      "│ │   │ ├── \u001b[40m\u001b[33mcore-util-is@1.0.2\u001b[39m\u001b[49m \n",
      "│ │   │ ├── \u001b[40m\u001b[33minherits@2.0.3\u001b[39m\u001b[49m  \u001b[90mdeduped\u001b[39m\n",
      "│ │   │ ├── \u001b[40m\u001b[33misarray@1.0.0\u001b[39m\u001b[49m \n",
      "│ │   │ ├── \u001b[40m\u001b[33mprocess-nextick-args@1.0.7\u001b[39m\u001b[49m \n",
      "│ │   │ ├─┬ \u001b[40m\u001b[33mstring_decoder@1.0.0\u001b[39m\u001b[49m \n",
      "│ │   │ │ └── \u001b[40m\u001b[33mbuffer-shims@1.0.0\u001b[39m\u001b[49m  \u001b[90mdeduped\u001b[39m\n",
      "│ │   │ └── \u001b[40m\u001b[33mutil-deprecate@1.0.2\u001b[39m\u001b[49m \n",
      "│ │   └── \u001b[40m\u001b[33mset-immediate-shim@1.0.1\u001b[39m\u001b[49m \n",
      "│ ├─┬ \u001b[40m\u001b[33mcommander@2.9.0\u001b[39m\u001b[49m \n",
      "│ │ └── \u001b[40m\u001b[33mgraceful-readlink@1.0.1\u001b[39m\u001b[49m \n",
      "│ ├── \u001b[40m\u001b[33mconvert-source-map@1.5.0\u001b[39m\u001b[49m \n",
      "│ ├── \u001b[40m\u001b[33mfs-readdir-recursive@1.0.0\u001b[39m\u001b[49m \n",
      "│ ├─┬ \u001b[40m\u001b[33mglob@7.1.1\u001b[39m\u001b[49m \n",
      "│ │ ├── \u001b[40m\u001b[33mfs.realpath@1.0.0\u001b[39m\u001b[49m \n",
      "│ │ ├─┬ \u001b[40m\u001b[33minflight@1.0.6\u001b[39m\u001b[49m \n",
      "│ │ │ ├── \u001b[40m\u001b[33monce@1.4.0\u001b[39m\u001b[49m  \u001b[90mdeduped\u001b[39m\n",
      "│ │ │ └── \u001b[40m\u001b[33mwrappy@1.0.2\u001b[39m\u001b[49m \n",
      "│ │ ├── \u001b[40m\u001b[33minherits@2.0.3\u001b[39m\u001b[49m  \u001b[90mdeduped\u001b[39m\n",
      "│ │ ├── \u001b[40m\u001b[33mminimatch@3.0.4\u001b[39m\u001b[49m  \u001b[90mdeduped\u001b[39m\n",
      "│ │ ├─┬ \u001b[40m\u001b[33monce@1.4.0\u001b[39m\u001b[49m \n",
      "│ │ │ └── \u001b[40m\u001b[33mwrappy@1.0.2\u001b[39m\u001b[49m  \u001b[90mdeduped\u001b[39m\n",
      "│ │ └── \u001b[40m\u001b[33mpath-is-absolute@1.0.1\u001b[39m\u001b[49m  \u001b[90mdeduped\u001b[39m\n",
      "│ ├── \u001b[40m\u001b[33mlodash@4.17.4\u001b[39m\u001b[49m \n",
      "│ ├─┬ \u001b[40m\u001b[33moutput-file-sync@1.1.2\u001b[39m\u001b[49m \n",
      "│ │ ├── \u001b[40m\u001b[33mgraceful-fs@4.1.11\u001b[39m\u001b[49m \n",
      "│ │ └── \u001b[40m\u001b[33mmkdirp@0.5.1\u001b[39m\u001b[49m  \u001b[90mdeduped\u001b[39m\n",
      "│ ├── \u001b[40m\u001b[33mpath-is-absolute@1.0.1\u001b[39m\u001b[49m \n",
      "│ ├── \u001b[40m\u001b[33mslash@1.0.0\u001b[39m\u001b[49m \n",
      "│ ├── \u001b[40m\u001b[33msource-map@0.5.6\u001b[39m\u001b[49m \n",
      "│ └─┬ \u001b[40m\u001b[33mv8flags@2.1.1\u001b[39m\u001b[49m \n",
      "│   └── \u001b[40m\u001b[33muser-home@1.1.1\u001b[39m\u001b[49m \n",
      "└─┬ \u001b[40m\u001b[33mbabel-preset-env@1.4.0\u001b[39m\u001b[49m \n",
      "  ├─┬ \u001b[40m\u001b[33mbabel-plugin-check-es2015-constants@6.22.0\u001b[39m\u001b[49m \n",
      "  │ └── \u001b[40m\u001b[33mbabel-runtime@6.23.0\u001b[39m\u001b[49m  \u001b[90mdeduped\u001b[39m\n",
      "  ├── \u001b[40m\u001b[33mbabel-plugin-syntax-trailing-function-commas@6.22.0\u001b[39m\u001b[49m \n",
      "  ├─┬ \u001b[40m\u001b[33mbabel-plugin-transform-async-to-generator@6.24.1\u001b[39m\u001b[49m \n",
      "  │ ├─┬ \u001b[40m\u001b[33mbabel-helper-remap-async-to-generator@6.24.1\u001b[39m\u001b[49m \n",
      "  │ │ ├── \u001b[40m\u001b[33mbabel-helper-function-name@6.24.1\u001b[39m\u001b[49m  \u001b[90mdeduped\u001b[39m\n",
      "  │ │ ├── \u001b[40m\u001b[33mbabel-runtime@6.23.0\u001b[39m\u001b[49m  \u001b[90mdeduped\u001b[39m\n",
      "  │ │ ├── \u001b[40m\u001b[33mbabel-template@6.24.1\u001b[39m\u001b[49m  \u001b[90mdeduped\u001b[39m\n",
      "  │ │ ├── \u001b[40m\u001b[33mbabel-traverse@6.24.1\u001b[39m\u001b[49m  \u001b[90mdeduped\u001b[39m\n",
      "  │ │ └── \u001b[40m\u001b[33mbabel-types@6.24.1\u001b[39m\u001b[49m  \u001b[90mdeduped\u001b[39m\n",
      "  │ ├── \u001b[40m\u001b[33mbabel-plugin-syntax-async-functions@6.13.0\u001b[39m\u001b[49m \n",
      "  │ └── \u001b[40m\u001b[33mbabel-runtime@6.23.0\u001b[39m\u001b[49m  \u001b[90mdeduped\u001b[39m\n",
      "  ├─┬ \u001b[40m\u001b[33mbabel-plugin-transform-es2015-arrow-functions@6.22.0\u001b[39m\u001b[49m \n",
      "  │ └── \u001b[40m\u001b[33mbabel-runtime@6.23.0\u001b[39m\u001b[49m  \u001b[90mdeduped\u001b[39m\n",
      "  ├─┬ \u001b[40m\u001b[33mbabel-plugin-transform-es2015-block-scoped-functions@6.22.0\u001b[39m\u001b[49m \n",
      "  │ └── \u001b[40m\u001b[33mbabel-runtime@6.23.0\u001b[39m\u001b[49m  \u001b[90mdeduped\u001b[39m\n",
      "  ├─┬ \u001b[40m\u001b[33mbabel-plugin-transform-es2015-block-scoping@6.24.1\u001b[39m\u001b[49m \n",
      "  │ ├── \u001b[40m\u001b[33mbabel-runtime@6.23.0\u001b[39m\u001b[49m  \u001b[90mdeduped\u001b[39m\n",
      "  │ ├── \u001b[40m\u001b[33mbabel-template@6.24.1\u001b[39m\u001b[49m  \u001b[90mdeduped\u001b[39m\n",
      "  │ ├── \u001b[40m\u001b[33mbabel-traverse@6.24.1\u001b[39m\u001b[49m  \u001b[90mdeduped\u001b[39m\n",
      "  │ ├── \u001b[40m\u001b[33mbabel-types@6.24.1\u001b[39m\u001b[49m  \u001b[90mdeduped\u001b[39m\n",
      "  │ └── \u001b[40m\u001b[33mlodash@4.17.4\u001b[39m\u001b[49m  \u001b[90mdeduped\u001b[39m\n",
      "  ├─┬ \u001b[40m\u001b[33mbabel-plugin-transform-es2015-classes@6.24.1\u001b[39m\u001b[49m \n",
      "  │ ├─┬ \u001b[40m\u001b[33mbabel-helper-define-map@6.24.1\u001b[39m\u001b[49m \n",
      "  │ │ ├── \u001b[40m\u001b[33mbabel-helper-function-name@6.24.1\u001b[39m\u001b[49m  \u001b[90mdeduped\u001b[39m\n",
      "  │ │ ├── \u001b[40m\u001b[33mbabel-runtime@6.23.0\u001b[39m\u001b[49m  \u001b[90mdeduped\u001b[39m\n",
      "  │ │ ├── \u001b[40m\u001b[33mbabel-types@6.24.1\u001b[39m\u001b[49m  \u001b[90mdeduped\u001b[39m\n",
      "  │ │ └── \u001b[40m\u001b[33mlodash@4.17.4\u001b[39m\u001b[49m  \u001b[90mdeduped\u001b[39m\n",
      "  │ ├─┬ \u001b[40m\u001b[33mbabel-helper-function-name@6.24.1\u001b[39m\u001b[49m \n",
      "  │ │ ├── \u001b[40m\u001b[33mbabel-helper-get-function-arity@6.24.1\u001b[39m\u001b[49m  \u001b[90mdeduped\u001b[39m\n",
      "  │ │ ├── \u001b[40m\u001b[33mbabel-runtime@6.23.0\u001b[39m\u001b[49m  \u001b[90mdeduped\u001b[39m\n",
      "  │ │ ├── \u001b[40m\u001b[33mbabel-template@6.24.1\u001b[39m\u001b[49m  \u001b[90mdeduped\u001b[39m\n",
      "  │ │ ├── \u001b[40m\u001b[33mbabel-traverse@6.24.1\u001b[39m\u001b[49m  \u001b[90mdeduped\u001b[39m\n",
      "  │ │ └── \u001b[40m\u001b[33mbabel-types@6.24.1\u001b[39m\u001b[49m  \u001b[90mdeduped\u001b[39m\n",
      "  │ ├─┬ \u001b[40m\u001b[33mbabel-helper-optimise-call-expression@6.24.1\u001b[39m\u001b[49m \n",
      "  │ │ ├── \u001b[40m\u001b[33mbabel-runtime@6.23.0\u001b[39m\u001b[49m  \u001b[90mdeduped\u001b[39m\n",
      "  │ │ └── \u001b[40m\u001b[33mbabel-types@6.24.1\u001b[39m\u001b[49m  \u001b[90mdeduped\u001b[39m\n",
      "  │ ├─┬ \u001b[40m\u001b[33mbabel-helper-replace-supers@6.24.1\u001b[39m\u001b[49m \n",
      "  │ │ ├── \u001b[40m\u001b[33mbabel-helper-optimise-call-expression@6.24.1\u001b[39m\u001b[49m  \u001b[90mdeduped\u001b[39m\n",
      "  │ │ ├── \u001b[40m\u001b[33mbabel-messages@6.23.0\u001b[39m\u001b[49m  \u001b[90mdeduped\u001b[39m\n",
      "  │ │ ├── \u001b[40m\u001b[33mbabel-runtime@6.23.0\u001b[39m\u001b[49m  \u001b[90mdeduped\u001b[39m\n",
      "  │ │ ├── \u001b[40m\u001b[33mbabel-template@6.24.1\u001b[39m\u001b[49m  \u001b[90mdeduped\u001b[39m\n",
      "  │ │ ├── \u001b[40m\u001b[33mbabel-traverse@6.24.1\u001b[39m\u001b[49m  \u001b[90mdeduped\u001b[39m\n",
      "  │ │ └── \u001b[40m\u001b[33mbabel-types@6.24.1\u001b[39m\u001b[49m  \u001b[90mdeduped\u001b[39m\n",
      "  │ ├── \u001b[40m\u001b[33mbabel-messages@6.23.0\u001b[39m\u001b[49m  \u001b[90mdeduped\u001b[39m\n",
      "  │ ├── \u001b[40m\u001b[33mbabel-runtime@6.23.0\u001b[39m\u001b[49m  \u001b[90mdeduped\u001b[39m\n",
      "  │ ├── \u001b[40m\u001b[33mbabel-template@6.24.1\u001b[39m\u001b[49m  \u001b[90mdeduped\u001b[39m\n",
      "  │ ├── \u001b[40m\u001b[33mbabel-traverse@6.24.1\u001b[39m\u001b[49m  \u001b[90mdeduped\u001b[39m\n",
      "  │ └── \u001b[40m\u001b[33mbabel-types@6.24.1\u001b[39m\u001b[49m  \u001b[90mdeduped\u001b[39m\n",
      "  ├─┬ \u001b[40m\u001b[33mbabel-plugin-transform-es2015-computed-properties@6.24.1\u001b[39m\u001b[49m \n",
      "  │ ├── \u001b[40m\u001b[33mbabel-runtime@6.23.0\u001b[39m\u001b[49m  \u001b[90mdeduped\u001b[39m\n",
      "  │ └── \u001b[40m\u001b[33mbabel-template@6.24.1\u001b[39m\u001b[49m  \u001b[90mdeduped\u001b[39m\n",
      "  ├─┬ \u001b[40m\u001b[33mbabel-plugin-transform-es2015-destructuring@6.23.0\u001b[39m\u001b[49m \n",
      "  │ └── \u001b[40m\u001b[33mbabel-runtime@6.23.0\u001b[39m\u001b[49m  \u001b[90mdeduped\u001b[39m\n",
      "  ├─┬ \u001b[40m\u001b[33mbabel-plugin-transform-es2015-duplicate-keys@6.24.1\u001b[39m\u001b[49m \n",
      "  │ ├── \u001b[40m\u001b[33mbabel-runtime@6.23.0\u001b[39m\u001b[49m  \u001b[90mdeduped\u001b[39m\n",
      "  │ └── \u001b[40m\u001b[33mbabel-types@6.24.1\u001b[39m\u001b[49m  \u001b[90mdeduped\u001b[39m\n",
      "  ├─┬ \u001b[40m\u001b[33mbabel-plugin-transform-es2015-for-of@6.23.0\u001b[39m\u001b[49m \n",
      "  │ └── \u001b[40m\u001b[33mbabel-runtime@6.23.0\u001b[39m\u001b[49m  \u001b[90mdeduped\u001b[39m\n",
      "  ├─┬ \u001b[40m\u001b[33mbabel-plugin-transform-es2015-function-name@6.24.1\u001b[39m\u001b[49m \n",
      "  │ ├── \u001b[40m\u001b[33mbabel-helper-function-name@6.24.1\u001b[39m\u001b[49m  \u001b[90mdeduped\u001b[39m\n",
      "  │ ├── \u001b[40m\u001b[33mbabel-runtime@6.23.0\u001b[39m\u001b[49m  \u001b[90mdeduped\u001b[39m\n",
      "  │ └── \u001b[40m\u001b[33mbabel-types@6.24.1\u001b[39m\u001b[49m  \u001b[90mdeduped\u001b[39m\n",
      "  ├─┬ \u001b[40m\u001b[33mbabel-plugin-transform-es2015-literals@6.22.0\u001b[39m\u001b[49m \n",
      "  │ └── \u001b[40m\u001b[33mbabel-runtime@6.23.0\u001b[39m\u001b[49m  \u001b[90mdeduped\u001b[39m\n",
      "  ├─┬ \u001b[40m\u001b[33mbabel-plugin-transform-es2015-modules-amd@6.24.1\u001b[39m\u001b[49m \n",
      "  │ ├── \u001b[40m\u001b[33mbabel-plugin-transform-es2015-modules-commonjs@6.24.1\u001b[39m\u001b[49m  \u001b[90mdeduped\u001b[39m\n",
      "  │ ├── \u001b[40m\u001b[33mbabel-runtime@6.23.0\u001b[39m\u001b[49m  \u001b[90mdeduped\u001b[39m\n",
      "  │ └── \u001b[40m\u001b[33mbabel-template@6.24.1\u001b[39m\u001b[49m  \u001b[90mdeduped\u001b[39m\n",
      "  ├─┬ \u001b[40m\u001b[33mbabel-plugin-transform-es2015-modules-commonjs@6.24.1\u001b[39m\u001b[49m \n",
      "  │ ├─┬ \u001b[40m\u001b[33mbabel-plugin-transform-strict-mode@6.24.1\u001b[39m\u001b[49m \n",
      "  │ │ ├── \u001b[40m\u001b[33mbabel-runtime@6.23.0\u001b[39m\u001b[49m  \u001b[90mdeduped\u001b[39m\n",
      "  │ │ └── \u001b[40m\u001b[33mbabel-types@6.24.1\u001b[39m\u001b[49m  \u001b[90mdeduped\u001b[39m\n",
      "  │ ├── \u001b[40m\u001b[33mbabel-runtime@6.23.0\u001b[39m\u001b[49m  \u001b[90mdeduped\u001b[39m\n",
      "  │ ├── \u001b[40m\u001b[33mbabel-template@6.24.1\u001b[39m\u001b[49m  \u001b[90mdeduped\u001b[39m\n",
      "  │ └── \u001b[40m\u001b[33mbabel-types@6.24.1\u001b[39m\u001b[49m  \u001b[90mdeduped\u001b[39m\n",
      "  ├─┬ \u001b[40m\u001b[33mbabel-plugin-transform-es2015-modules-systemjs@6.24.1\u001b[39m\u001b[49m \n",
      "  │ ├─┬ \u001b[40m\u001b[33mbabel-helper-hoist-variables@6.24.1\u001b[39m\u001b[49m \n",
      "  │ │ ├── \u001b[40m\u001b[33mbabel-runtime@6.23.0\u001b[39m\u001b[49m  \u001b[90mdeduped\u001b[39m\n",
      "  │ │ └── \u001b[40m\u001b[33mbabel-types@6.24.1\u001b[39m\u001b[49m  \u001b[90mdeduped\u001b[39m\n",
      "  │ ├── \u001b[40m\u001b[33mbabel-runtime@6.23.0\u001b[39m\u001b[49m  \u001b[90mdeduped\u001b[39m\n",
      "  │ └── \u001b[40m\u001b[33mbabel-template@6.24.1\u001b[39m\u001b[49m  \u001b[90mdeduped\u001b[39m\n",
      "  ├─┬ \u001b[40m\u001b[33mbabel-plugin-transform-es2015-modules-umd@6.24.1\u001b[39m\u001b[49m \n",
      "  │ ├── \u001b[40m\u001b[33mbabel-plugin-transform-es2015-modules-amd@6.24.1\u001b[39m\u001b[49m  \u001b[90mdeduped\u001b[39m\n",
      "  │ ├── \u001b[40m\u001b[33mbabel-runtime@6.23.0\u001b[39m\u001b[49m  \u001b[90mdeduped\u001b[39m\n",
      "  │ └── \u001b[40m\u001b[33mbabel-template@6.24.1\u001b[39m\u001b[49m  \u001b[90mdeduped\u001b[39m\n",
      "  ├─┬ \u001b[40m\u001b[33mbabel-plugin-transform-es2015-object-super@6.24.1\u001b[39m\u001b[49m \n",
      "  │ ├── \u001b[40m\u001b[33mbabel-helper-replace-supers@6.24.1\u001b[39m\u001b[49m  \u001b[90mdeduped\u001b[39m\n",
      "  │ └── \u001b[40m\u001b[33mbabel-runtime@6.23.0\u001b[39m\u001b[49m  \u001b[90mdeduped\u001b[39m\n",
      "  ├─┬ \u001b[40m\u001b[33mbabel-plugin-transform-es2015-parameters@6.24.1\u001b[39m\u001b[49m \n",
      "  │ ├─┬ \u001b[40m\u001b[33mbabel-helper-call-delegate@6.24.1\u001b[39m\u001b[49m \n",
      "  │ │ ├── \u001b[40m\u001b[33mbabel-helper-hoist-variables@6.24.1\u001b[39m\u001b[49m  \u001b[90mdeduped\u001b[39m\n",
      "  │ │ ├── \u001b[40m\u001b[33mbabel-runtime@6.23.0\u001b[39m\u001b[49m  \u001b[90mdeduped\u001b[39m\n",
      "  │ │ ├── \u001b[40m\u001b[33mbabel-traverse@6.24.1\u001b[39m\u001b[49m  \u001b[90mdeduped\u001b[39m\n",
      "  │ │ └── \u001b[40m\u001b[33mbabel-types@6.24.1\u001b[39m\u001b[49m  \u001b[90mdeduped\u001b[39m\n",
      "  │ ├─┬ \u001b[40m\u001b[33mbabel-helper-get-function-arity@6.24.1\u001b[39m\u001b[49m \n",
      "  │ │ ├── \u001b[40m\u001b[33mbabel-runtime@6.23.0\u001b[39m\u001b[49m  \u001b[90mdeduped\u001b[39m\n",
      "  │ │ └── \u001b[40m\u001b[33mbabel-types@6.24.1\u001b[39m\u001b[49m  \u001b[90mdeduped\u001b[39m\n",
      "  │ ├── \u001b[40m\u001b[33mbabel-runtime@6.23.0\u001b[39m\u001b[49m  \u001b[90mdeduped\u001b[39m\n",
      "  │ ├── \u001b[40m\u001b[33mbabel-template@6.24.1\u001b[39m\u001b[49m  \u001b[90mdeduped\u001b[39m\n",
      "  │ ├── \u001b[40m\u001b[33mbabel-traverse@6.24.1\u001b[39m\u001b[49m  \u001b[90mdeduped\u001b[39m\n",
      "  │ └── \u001b[40m\u001b[33mbabel-types@6.24.1\u001b[39m\u001b[49m  \u001b[90mdeduped\u001b[39m\n",
      "  ├─┬ \u001b[40m\u001b[33mbabel-plugin-transform-es2015-shorthand-properties@6.24.1\u001b[39m\u001b[49m \n",
      "  │ ├── \u001b[40m\u001b[33mbabel-runtime@6.23.0\u001b[39m\u001b[49m  \u001b[90mdeduped\u001b[39m\n",
      "  │ └── \u001b[40m\u001b[33mbabel-types@6.24.1\u001b[39m\u001b[49m  \u001b[90mdeduped\u001b[39m\n",
      "  ├─┬ \u001b[40m\u001b[33mbabel-plugin-transform-es2015-spread@6.22.0\u001b[39m\u001b[49m \n",
      "  │ └── \u001b[40m\u001b[33mbabel-runtime@6.23.0\u001b[39m\u001b[49m  \u001b[90mdeduped\u001b[39m\n",
      "  ├─┬ \u001b[40m\u001b[33mbabel-plugin-transform-es2015-sticky-regex@6.24.1\u001b[39m\u001b[49m \n",
      "  │ ├─┬ \u001b[40m\u001b[33mbabel-helper-regex@6.24.1\u001b[39m\u001b[49m \n",
      "  │ │ ├── \u001b[40m\u001b[33mbabel-runtime@6.23.0\u001b[39m\u001b[49m  \u001b[90mdeduped\u001b[39m\n",
      "  │ │ ├── \u001b[40m\u001b[33mbabel-types@6.24.1\u001b[39m\u001b[49m  \u001b[90mdeduped\u001b[39m\n",
      "  │ │ └── \u001b[40m\u001b[33mlodash@4.17.4\u001b[39m\u001b[49m  \u001b[90mdeduped\u001b[39m\n",
      "  │ ├── \u001b[40m\u001b[33mbabel-runtime@6.23.0\u001b[39m\u001b[49m  \u001b[90mdeduped\u001b[39m\n",
      "  │ └── \u001b[40m\u001b[33mbabel-types@6.24.1\u001b[39m\u001b[49m  \u001b[90mdeduped\u001b[39m\n",
      "  ├─┬ \u001b[40m\u001b[33mbabel-plugin-transform-es2015-template-literals@6.22.0\u001b[39m\u001b[49m \n",
      "  │ └── \u001b[40m\u001b[33mbabel-runtime@6.23.0\u001b[39m\u001b[49m  \u001b[90mdeduped\u001b[39m\n",
      "  ├─┬ \u001b[40m\u001b[33mbabel-plugin-transform-es2015-typeof-symbol@6.23.0\u001b[39m\u001b[49m \n",
      "  │ └── \u001b[40m\u001b[33mbabel-runtime@6.23.0\u001b[39m\u001b[49m  \u001b[90mdeduped\u001b[39m\n",
      "  ├─┬ \u001b[40m\u001b[33mbabel-plugin-transform-es2015-unicode-regex@6.24.1\u001b[39m\u001b[49m \n",
      "  │ ├── \u001b[40m\u001b[33mbabel-helper-regex@6.24.1\u001b[39m\u001b[49m  \u001b[90mdeduped\u001b[39m\n",
      "  │ ├── \u001b[40m\u001b[33mbabel-runtime@6.23.0\u001b[39m\u001b[49m  \u001b[90mdeduped\u001b[39m\n",
      "  │ └─┬ \u001b[40m\u001b[33mregexpu-core@2.0.0\u001b[39m\u001b[49m \n",
      "  │   ├── \u001b[40m\u001b[33mregenerate@1.3.2\u001b[39m\u001b[49m \n",
      "  │   ├── \u001b[40m\u001b[33mregjsgen@0.2.0\u001b[39m\u001b[49m \n",
      "  │   └─┬ \u001b[40m\u001b[33mregjsparser@0.1.5\u001b[39m\u001b[49m \n",
      "  │     └── \u001b[40m\u001b[33mjsesc@0.5.0\u001b[39m\u001b[49m \n",
      "  ├─┬ \u001b[40m\u001b[33mbabel-plugin-transform-exponentiation-operator@6.24.1\u001b[39m\u001b[49m \n",
      "  │ ├─┬ \u001b[40m\u001b[33mbabel-helper-builder-binary-assignment-operator-visitor@6.24.1\u001b[39m\u001b[49m \n",
      "  │ │ ├─┬ \u001b[40m\u001b[33mbabel-helper-explode-assignable-expression@6.24.1\u001b[39m\u001b[49m \n",
      "  │ │ │ ├── \u001b[40m\u001b[33mbabel-runtime@6.23.0\u001b[39m\u001b[49m  \u001b[90mdeduped\u001b[39m\n",
      "  │ │ │ ├── \u001b[40m\u001b[33mbabel-traverse@6.24.1\u001b[39m\u001b[49m  \u001b[90mdeduped\u001b[39m\n",
      "  │ │ │ └── \u001b[40m\u001b[33mbabel-types@6.24.1\u001b[39m\u001b[49m  \u001b[90mdeduped\u001b[39m\n",
      "  │ │ ├── \u001b[40m\u001b[33mbabel-runtime@6.23.0\u001b[39m\u001b[49m  \u001b[90mdeduped\u001b[39m\n",
      "  │ │ └── \u001b[40m\u001b[33mbabel-types@6.24.1\u001b[39m\u001b[49m  \u001b[90mdeduped\u001b[39m\n",
      "  │ ├── \u001b[40m\u001b[33mbabel-plugin-syntax-exponentiation-operator@6.13.0\u001b[39m\u001b[49m \n",
      "  │ └── \u001b[40m\u001b[33mbabel-runtime@6.23.0\u001b[39m\u001b[49m  \u001b[90mdeduped\u001b[39m\n",
      "  ├─┬ \u001b[40m\u001b[33mbabel-plugin-transform-regenerator@6.24.1\u001b[39m\u001b[49m \n",
      "  │ └─┬ \u001b[40m\u001b[33mregenerator-transform@0.9.11\u001b[39m\u001b[49m \n",
      "  │   ├── \u001b[40m\u001b[33mbabel-runtime@6.23.0\u001b[39m\u001b[49m  \u001b[90mdeduped\u001b[39m\n",
      "  │   ├── \u001b[40m\u001b[33mbabel-types@6.24.1\u001b[39m\u001b[49m  \u001b[90mdeduped\u001b[39m\n",
      "  │   └── \u001b[40m\u001b[33mprivate@0.1.7\u001b[39m\u001b[49m  \u001b[90mdeduped\u001b[39m\n",
      "  ├─┬ \u001b[40m\u001b[33mbrowserslist@1.7.7\u001b[39m\u001b[49m \n",
      "  │ ├── \u001b[40m\u001b[33mcaniuse-db@1.0.30000666\u001b[39m\u001b[49m \n",
      "  │ └── \u001b[40m\u001b[33melectron-to-chromium@1.3.9\u001b[39m\u001b[49m \n",
      "  └─┬ \u001b[40m\u001b[33minvariant@2.2.2\u001b[39m\u001b[49m \n",
      "    └─┬ \u001b[40m\u001b[33mloose-envify@1.3.1\u001b[39m\u001b[49m \n",
      "      └── \u001b[40m\u001b[33mjs-tokens@3.0.1\u001b[39m\u001b[49m  \u001b[90mdeduped\u001b[39m\n",
      "\n",
      "\u001b[37;40mnpm\u001b[0m \u001b[0m\u001b[30;43mWARN\u001b[0m\u001b[35m\u001b[0m exp@1.0.0 No description\n",
      "\u001b[0m\u001b[37;40mnpm\u001b[0m \u001b[0m\u001b[30;43mWARN\u001b[0m\u001b[35m\u001b[0m exp@1.0.0 No repository field.\n",
      "\u001b[0m"
     ]
    }
   ],
   "source": [
    "# !npm install --save jupyter-js-notebook\n",
    "!npm install --save-dev babel-cli babel-preset-env"
   ]
  },
  {
   "cell_type": "code",
   "execution_count": 107,
   "metadata": {
    "collapsed": false
   },
   "outputs": [
    {
     "data": {
      "application/javascript": [
       "\n",
       "import p5.min\n",
       "#text1.concordance(\"monstrous\")"
      ],
      "text/plain": [
       "<IPython.core.display.Javascript object>"
      ]
     },
     "metadata": {},
     "output_type": "display_data"
    }
   ],
   "source": [
    "%%javascript\n",
    "\n",
    "import p5.min\n",
    "#text1.concordance(\"monstrous\")"
   ]
  },
  {
   "cell_type": "code",
   "execution_count": null,
   "metadata": {
    "collapsed": true
   },
   "outputs": [],
   "source": [
    "# Library TextBlob\n",
    "import textblob\n",
    "# READ A TEXT\n",
    "from textblob import TextBlob\n",
    "book = open('../sci-fi-book.txt','r').read()\n",
    "book_blob = TextBlob(book)"
   ]
  },
  {
   "cell_type": "code",
   "execution_count": null,
   "metadata": {
    "collapsed": false
   },
   "outputs": [],
   "source": [
    "def tag(word):\n",
    "    return TextBlob(word).tags[0]\n",
    "#print tag('win')"
   ]
  },
  {
   "cell_type": "code",
   "execution_count": null,
   "metadata": {
    "collapsed": false
   },
   "outputs": [],
   "source": [
    "print \"TAGS (grammar tree):\"\n",
    "blob_tags = book_blob.tags\n",
    "print blob_tags\n",
    "\n",
    "print 'NOUN PHRASES'\n",
    "blob_noun_phrases = book_blob.noun_phrases\n",
    "print blob_noun_phrases"
   ]
  },
  {
   "cell_type": "code",
   "execution_count": null,
   "metadata": {
    "collapsed": false
   },
   "outputs": [],
   "source": [
    "print 'GET VERBS'\n",
    "\n",
    "def get_tag(tags, query_tag):\n",
    "    result = []\n",
    "    for tag in tags:\n",
    "        if tag[1] == query_tag:\n",
    "            result.append(tag)\n",
    "    return result\n",
    "\n",
    "#print get_tag(blob_tags,'VBN')\n",
    "\n",
    "#print book_blob.sentences\n",
    "\n",
    "print \"SENTENCE:\"\n",
    "sentence = book_blob.sentences[np.random.randint(0,len(book_blob.sentences))]\n",
    "print sentence\n",
    "print 'SENTIMENT'\n",
    "print(sentence.sentiment)"
   ]
  },
  {
   "cell_type": "code",
   "execution_count": null,
   "metadata": {
    "collapsed": false
   },
   "outputs": [],
   "source": [
    "print \"SOME NLTK\"\n",
    "from nltk.corpus import treebank\n",
    "import nltk\n",
    "\n",
    "book_nltk_text = nltk.Text(book)\n",
    "print book\n",
    "\n",
    "print '\\n',sentence\n",
    "words = sentence.words\n",
    "print words\n",
    "# not working\n",
    "#treebank.parsed_sents(sentence)\n",
    "print sentence.pos_tags\n",
    "nnps = get_tag(sentence.pos_tags,'NNP')\n",
    "\n",
    "#for tree in parser.parse(words):\n",
    "print nnps[0][0]\n",
    "print book_nltk_text.concordance('yes')\n"
   ]
  },
  {
   "cell_type": "code",
   "execution_count": null,
   "metadata": {
    "collapsed": false
   },
   "outputs": [],
   "source": [
    "word = 'angry'\n",
    "print word,':'\n",
    "print 'similars:'\n",
    "p_similarities(model.most_similar([word],topn=20))\n",
    "start_word = textblob.Word(word)\n",
    "if len(start_word.synsets) != 0:\n",
    "    print('synsets: ' + str(start_word.synsets))\n",
    "    print('definitions: ' + str(start_word.definitions))\n",
    "    synset_index = 0\n",
    "    synset = start_word.synsets[synset_index]\n",
    "    print('lemma_names',synset.lemmas())\n",
    "    print('hypernyms:',synset.hypernyms())\n",
    "    print('hyponyms:',synset.hyponyms())\n",
    "    print('holonyms: ' + str(synset.member_holonyms()))\n",
    "    print('meronyms: ' + str(synset.part_meronyms()))"
   ]
  },
  {
   "cell_type": "markdown",
   "metadata": {},
   "source": [
    "## DEMO\n",
    "use nltk std chatbots to get an answer\n",
    "then replace some words that by similar or with more positive sentiment\n",
    "display old and new text with color showing the change. \n",
    "black: same\n",
    "green: similar\n",
    "red: higher sentiment\n",
    "\n",
    "TODO: find words that indicate in which conceptual topic the sentence is"
   ]
  },
  {
   "cell_type": "code",
   "execution_count": null,
   "metadata": {
    "collapsed": false
   },
   "outputs": [],
   "source": [
    "from nltk.chat import eliza, iesha, rude,suntsu\n",
    "from textblob import TextBlob\n",
    "\n",
    "#eliza.demo()\n",
    "sentence = 'how is it that all birds are gay'\n",
    "eli = eliza.eliza_chatbot\n",
    "print 'eli',eli.respond(sentence)\n",
    "\n",
    "print rude.rude_chatbot.respond(sentence)\n",
    "print iesha.iesha_chatbot.respond(sentence)\n",
    "print suntsu.suntsu_chatbot.respond(sentence)\n"
   ]
  },
  {
   "cell_type": "code",
   "execution_count": null,
   "metadata": {
    "collapsed": false
   },
   "outputs": [],
   "source": [
    "# Take the suntsu response and change all words that have > .85 similarity\n",
    "from IPython.core.display import display, HTML\n",
    "#import progressbar\n",
    "response = suntsu.suntsu_chatbot.respond('how is it that all birds are gay')\n",
    "\n",
    "suntsu_response_blob = TextBlob(response)\n",
    "print suntsu_response_blob\n",
    "suntsu_words = suntsu_response_blob.words\n",
    "print suntsu_response_blob.sentiment\n",
    "reconfig = []\n",
    "reconfig_how = []\n",
    "i = 0 \n",
    "#bar = progressbar.ProgressBar(max_value=len(suntsu_words),redirect_stdout=True)\n",
    "\n",
    "for word in suntsu_response_blob.words:\n",
    "    if word in model:\n",
    "        similar = most_similar_cosmul_p(word,doPrint = False)\n",
    "        suntsu_response_blob.words[i] = similar[0][0]    \n",
    "        positiver = most_similar_cosmul_p([word,'king'],topn = 1,doPrint=False)[0][0]\n",
    "        print word,similar[0], positiver\n",
    "        #if tag(positiver) == tag(word):\n",
    "        if model.similarity(positiver,word) > 0.7:\n",
    "            reconfig.append(\" \".join(positiver.split(\"_\")))\n",
    "            reconfig_how.append(1)\n",
    "        elif similar[0][1] > 0.85:\n",
    "            reconfig.append(\" \".join(similar[0][0].split(\"_\")))\n",
    "            reconfig_how.append(2)\n",
    "        else:\n",
    "            reconfig.append(word)\n",
    "            reconfig_how.append(0)\n",
    "        print '>>>',reconfig[-1],reconfig_how[-1]\n",
    "    i += 1\n",
    "retune = TextBlob(\" \".join(reconfig))\n",
    "print retune\n",
    "print retune.sentiment\n",
    "\n",
    "i = 0 \n",
    "retune_html = ''\n",
    "span_temp = '<span style=\"color:z;\">x </span>'\n",
    "for w in reconfig:\n",
    "    print suntsu_response_blob.words[i],w,reconfig_how[i]\n",
    "    if reconfig_how[i] == 0:\n",
    "        retune_html +=  span_temp.replace('z','black').replace('x',w)\n",
    "    elif reconfig_how[i] == 1:\n",
    "        retune_html +=  span_temp.replace('z','red').replace('x',w)\n",
    "    else:\n",
    "        retune_html +=  span_temp.replace('z','green').replace('x',w)\n",
    "    #print retune_html\n",
    "    i += 1\n",
    "\n",
    "display(HTML('<h1>'+response+'</h1><div>Sentiment:'+str(suntsu_response_blob.sentiment)+'</div>'))\n",
    "display(HTML('<h1>'+retune_html+'</h1><div>Sentiment:'+str(retune.sentiment)+'</div>'))"
   ]
  },
  {
   "cell_type": "code",
   "execution_count": null,
   "metadata": {
    "collapsed": false
   },
   "outputs": [],
   "source": [
    "\n",
    "#print len(wiki.words)   \n",
    "#print wiki.words\n",
    "#print wiki.tags\n",
    "#noun_phrases = wiki.noun_phrases\n",
    "#print noun_phrases\n",
    "testimonial = TextBlob(\"Textblob is amazingly simple to use. What great fun!\")\n",
    "print testimonial.sentiment\n",
    "testimonial.sentiment.polarity\n"
   ]
  },
  {
   "cell_type": "code",
   "execution_count": null,
   "metadata": {
    "collapsed": false
   },
   "outputs": [],
   "source": [
    "from nltk import Text\n",
    "#print book\n",
    "book_Text = Text(book)\n",
    "print book_Text\n",
    "#book_Text.concordance(\"l\")"
   ]
  },
  {
   "cell_type": "code",
   "execution_count": null,
   "metadata": {
    "collapsed": true
   },
   "outputs": [],
   "source": []
  },
  {
   "cell_type": "code",
   "execution_count": null,
   "metadata": {
    "collapsed": false
   },
   "outputs": [],
   "source": [
    "for np in noun_phrases:\n",
    "    print np"
   ]
  },
  {
   "cell_type": "code",
   "execution_count": 109,
   "metadata": {
    "collapsed": false
   },
   "outputs": [
    {
     "name": "stdout",
     "output_type": "stream",
     "text": [
      "Writing myfile.py\n"
     ]
    }
   ],
   "source": [
    "%%writefile myfile.py\n",
    "model.most_similar(positive=['england', 'paris'], negative=['france'])\n",
    "model.most_similar(positive=['hate',], negative=['love'])\n",
    "model.most_similar(positive=['love',], negative=['hate'])\n",
    "\n",
    "# synset.lemmas()\n",
    "\n",
    "#extension from love\n",
    "#tell a story with code. "
   ]
  },
  {
   "cell_type": "code",
   "execution_count": null,
   "metadata": {
    "collapsed": true
   },
   "outputs": [],
   "source": [
    "# %load myfile.py\n",
    "model.most_similar(positive=['england', 'paris'], negative=['france'])\n",
    "model.most_similar(positive=['hate',], negative=['love'])\n",
    "model.most_similar(positive=['love',], negative=['hate'])\n",
    "\n",
    "# synset.lemmas()\n",
    "\n",
    "#extension from love\n",
    "#tell a story with code. "
   ]
  },
  {
   "cell_type": "code",
   "execution_count": null,
   "metadata": {
    "collapsed": true
   },
   "outputs": [],
   "source": []
  }
 ],
 "metadata": {
  "anaconda-cloud": {},
  "kernelspec": {
   "display_name": "venv",
   "language": "python",
   "name": "venv"
  },
  "language_info": {
   "codemirror_mode": {
    "name": "ipython",
    "version": 2
   },
   "file_extension": ".py",
   "mimetype": "text/x-python",
   "name": "python",
   "nbconvert_exporter": "python",
   "pygments_lexer": "ipython2",
   "version": "2.7.11"
  }
 },
 "nbformat": 4,
 "nbformat_minor": 0
}
