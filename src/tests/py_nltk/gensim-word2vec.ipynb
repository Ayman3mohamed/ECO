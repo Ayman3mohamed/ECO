{
 "cells": [
  {
   "cell_type": "code",
   "execution_count": 1,
   "metadata": {},
   "outputs": [],
   "source": [
    "import numpy as np\n",
    "import math\n",
    "from random import random"
   ]
  },
  {
   "cell_type": "code",
   "execution_count": 2,
   "metadata": {},
   "outputs": [],
   "source": [
    "# Library Gensim (Word2Vec examples)\n",
    "### LOAD GOOGLE WORD2VEC... takes a few minutes\n",
    "from gensim import models\n",
    "# Load google's word2vec model\n",
    "# languages\n",
    "english = 'models/GoogleNews-vectors-negative300.bin.gz'\n",
    "spanish = 'models/SBW-vectors-300-min5.bin.gz'\n",
    "#\n",
    "\n",
    "# load\n",
    "model = models.KeyedVectors.load_word2vec_format(english, binary=True)\n",
    "model.init_sims(replace=True) # save memory\n",
    "#print 'model memory size, gb:', model.estimate_memory()['total']/(math.pow(1024,3))"
   ]
  },
  {
   "cell_type": "markdown",
   "metadata": {},
   "source": [
    "Some helper functions that print and return an word arithmetic for:\n",
    "- equation (classic similarity)\n",
    "- equation (cosmul similarity)\n",
    "- word (cosmul similarity)"
   ]
  },
  {
   "cell_type": "code",
   "execution_count": 26,
   "metadata": {},
   "outputs": [
    {
     "name": "stdout",
     "output_type": "stream",
     "text": [
      "playful\n",
      "['playful', 'showy', 'energetic']\n",
      "-\n",
      "emotional\n",
      "['playful', 'emotional', 'passionate']\n",
      "-\n",
      "friendly\n",
      "['playful', 'energetic', 'friendly']\n",
      "-\n",
      "energetic\n",
      "['passionate', 'dynamic', 'energetic']\n",
      "-\n",
      "intrusive\n",
      "['intrusive', 'showy', 'succint']\n",
      "-\n",
      "showy\n",
      "['playful', 'energetic', 'showy']\n",
      "-\n",
      "passionate\n",
      "['emotional', 'passionate', 'energetic']\n",
      "-\n",
      "dynamic\n",
      "['dynamic', 'energetic', 'innovative']\n",
      "-\n",
      "innovative\n",
      "['passionate', 'dynamic', 'innovative']\n",
      "-\n",
      "authentic\n",
      "['passionate', 'authentic', 'innovative']\n",
      "-\n",
      "succint\n",
      "['playful', 'authentic', 'succint']\n",
      "-\n",
      "{'energetic': {'energetic': 10.000000000000002, 'dynamic': 5.2808525478543338, 'playful': 4.8385777637675611, 'showy': 2.9526348803532922, 'innovative': 3.1278315765257281, 'emotional': 2.810908983271085, 'intrusive': 1.3475722850980105, 'passionate': 4.8561921917288542, 'authentic': 2.3618775773458505, 'friendly': 3.506612633881701, 'succint': 1.6081786294449945}, 'dynamic': {'energetic': 5.2808525478543338, 'dynamic': 10.000000000000004, 'playful': 3.1251925817817123, 'showy': 1.6926337736023711, 'innovative': 4.6685101718071813, 'emotional': 1.889143808730358, 'intrusive': 1.6490371610383681, 'passionate': 3.4958011812233156, 'authentic': 2.3187757155444406, 'friendly': 2.6958605426598394, 'succint': 2.1050300188872102}, 'playful': {'energetic': 4.8385777637675611, 'dynamic': 3.1251925817817123, 'playful': 10.000000000000004, 'showy': 4.3046226609616403, 'innovative': 2.4636045221818814, 'emotional': 3.1293256061058909, 'intrusive': 2.0246515225840711, 'passionate': 3.2861478177225956, 'authentic': 2.5905359807540513, 'friendly': 3.3491917156297015, 'succint': 3.3490304393307979}, 'showy': {'energetic': 2.9526348803532922, 'dynamic': 1.6926337736023711, 'playful': 4.3046226609616403, 'showy': 10.000000000000004, 'innovative': 0.58704335004191044, 'emotional': 2.5580264232388634, 'intrusive': 2.9395725213797661, 'passionate': 2.2922335337095623, 'authentic': 2.1534644039216251, 'friendly': 1.1678227872086457, 'succint': 2.3372339385773988}, 'innovative': {'energetic': 3.1278315765257281, 'dynamic': 4.6685101718071813, 'playful': 2.4636045221818814, 'showy': 0.58704335004191044, 'innovative': 10.000000000000007, 'emotional': 0.92131379608035469, 'intrusive': 1.5975494336364171, 'passionate': 3.1746727778471771, 'authentic': 2.707907608176543, 'friendly': 2.0980619571774133, 'succint': 0.61358652842140848}, 'emotional': {'energetic': 2.810908983271085, 'dynamic': 1.889143808730358, 'playful': 3.1293256061058909, 'showy': 2.5580264232388634, 'innovative': 0.92131379608035469, 'emotional': 10.000000000000004, 'intrusive': 1.6123562905989419, 'passionate': 3.6726178371187004, 'authentic': 1.9887061688672829, 'friendly': 0.95705385983969993, 'succint': 1.7942407592170357}, 'intrusive': {'energetic': 1.3475722850980105, 'dynamic': 1.6490371610383681, 'playful': 2.0246515225840711, 'showy': 2.9395725213797661, 'innovative': 1.5975494336364171, 'emotional': 1.6123562905989419, 'intrusive': 10.0, 'passionate': 0.91217316776247892, 'authentic': 1.6163852943972579, 'friendly': 1.593952475798831, 'succint': 2.0425546675577553}, 'passionate': {'energetic': 4.8561921917288542, 'dynamic': 3.4958011812233156, 'playful': 3.2861478177225956, 'showy': 2.2922335337095623, 'innovative': 3.1746727778471771, 'emotional': 3.6726178371187004, 'intrusive': 0.91217316776247892, 'passionate': 10.000000000000004, 'authentic': 3.1188717665801362, 'friendly': 2.5358438329363469, 'succint': 1.8419973937995522}, 'authentic': {'energetic': 2.3618775773458505, 'dynamic': 2.3187757155444406, 'playful': 2.5905359807540513, 'showy': 2.1534644039216251, 'innovative': 2.707907608176543, 'emotional': 1.9887061688672829, 'intrusive': 1.6163852943972579, 'passionate': 3.1188717665801362, 'authentic': 10.000000000000004, 'friendly': 2.1607549727181654, 'succint': 2.4736544722941263}, 'friendly': {'energetic': 3.506612633881701, 'dynamic': 2.6958605426598394, 'playful': 3.3491917156297015, 'showy': 1.1678227872086457, 'innovative': 2.0980619571774133, 'emotional': 0.95705385983969993, 'intrusive': 1.593952475798831, 'passionate': 2.5358438329363469, 'authentic': 2.1607549727181654, 'friendly': 10.000000000000004, 'succint': 1.0734856237682118}, 'succint': {'energetic': 1.6081786294449945, 'dynamic': 2.1050300188872102, 'playful': 3.3490304393307979, 'showy': 2.3372339385773988, 'innovative': 0.61358652842140848, 'emotional': 1.7942407592170357, 'intrusive': 2.0425546675577553, 'passionate': 1.8419973937995522, 'authentic': 2.4736544722941263, 'friendly': 1.0734856237682118, 'succint': 10.000000000000002}}\n",
      "[[1.0000000000000004, 0.31293256061058911, 0.33491917156297013, 0.48385777637675609, 0.20246515225840711, 0.430462266096164, 0.32861478177225956, 0.31251925817817122, 0.24636045221818814, 0.25905359807540512, 0.33490304393307979], [0.31293256061058911, 1.0000000000000004, 0.095705385983969993, 0.28109089832710848, 0.16123562905989419, 0.25580264232388633, 0.36726178371187002, 0.1889143808730358, 0.092131379608035469, 0.1988706168867283, 0.17942407592170356], [0.33491917156297013, 0.095705385983969993, 1.0000000000000004, 0.35066126338817011, 0.1593952475798831, 0.11678227872086457, 0.2535843832936347, 0.26958605426598392, 0.20980619571774134, 0.21607549727181655, 0.10734856237682118], [0.48385777637675609, 0.28109089832710848, 0.35066126338817011, 1.0000000000000002, 0.13475722850980104, 0.2952634880353292, 0.48561921917288542, 0.52808525478543333, 0.31278315765257281, 0.23618775773458506, 0.16081786294449946], [0.20246515225840711, 0.16123562905989419, 0.1593952475798831, 0.13475722850980104, 1.0, 0.29395725213797663, 0.091217316776247892, 0.16490371610383681, 0.15975494336364171, 0.16163852943972579, 0.20425546675577552], [0.430462266096164, 0.25580264232388633, 0.11678227872086457, 0.2952634880353292, 0.29395725213797663, 1.0000000000000004, 0.22922335337095623, 0.16926337736023711, 0.058704335004191047, 0.2153464403921625, 0.23372339385773988], [0.32861478177225956, 0.36726178371187002, 0.2535843832936347, 0.48561921917288542, 0.091217316776247892, 0.22922335337095623, 1.0000000000000004, 0.34958011812233158, 0.31746727778471773, 0.31188717665801363, 0.18419973937995521], [0.31251925817817122, 0.1889143808730358, 0.26958605426598392, 0.52808525478543333, 0.16490371610383681, 0.16926337736023711, 0.34958011812233158, 1.0000000000000004, 0.46685101718071809, 0.23187757155444405, 0.21050300188872101], [0.24636045221818814, 0.092131379608035469, 0.20980619571774134, 0.31278315765257281, 0.15975494336364171, 0.058704335004191047, 0.31746727778471773, 0.46685101718071809, 1.0000000000000007, 0.2707907608176543, 0.06135865284214085], [0.25905359807540512, 0.1988706168867283, 0.21607549727181655, 0.23618775773458506, 0.16163852943972579, 0.2153464403921625, 0.31188717665801363, 0.23187757155444405, 0.2707907608176543, 1.0000000000000004, 0.24736544722941262], [0.33490304393307979, 0.17942407592170356, 0.10734856237682118, 0.16081786294449946, 0.20425546675577552, 0.23372339385773988, 0.18419973937995521, 0.21050300188872101, 0.06135865284214085, 0.24736544722941262, 1.0000000000000002]]\n"
     ]
    }
   ],
   "source": [
    "# THIS IS FOR IPA!\n",
    "\n",
    "import ruamel.yaml\n",
    "inp = \"\"\"\\\n",
    "adjectives:\n",
    "  - playful\n",
    "  - emotional\n",
    "  - friendly\n",
    "  - energetic\n",
    "  #\n",
    "  # - obtrusive\n",
    "  -  intrusive\n",
    "  #conspicuous ..\n",
    "  #- conspicuous\n",
    "  - showy\n",
    "  - passionate\n",
    "  #\n",
    "  # - Recognizable\n",
    "  - dynamic\n",
    "  - innovative\n",
    "  - authentic\n",
    "  # concise and alternatives\n",
    "  # - concise\n",
    "  # - terse\n",
    "  - succint\n",
    "\"\"\"\n",
    "data = ruamel.yaml.load(inp, ruamel.yaml.RoundTripLoader)\n",
    "\n",
    "similarities  = {}  \n",
    "sims_l = []\n",
    "for a in data['adjectives']:\n",
    "    print a\n",
    "    sims = {}\n",
    "    sim_l = []\n",
    "    for b in data['adjectives']:\n",
    "#         if a != b:\n",
    "        sim = model.similarity(a,b)\n",
    "        sims[b] = sim * 10\n",
    "        sim_l.append(sim)\n",
    "        if a != b:\n",
    "            sims[b] = sim * 10\n",
    "#     print sim\n",
    "    sorted_x = dict(sorted(sims.items(), key=lambda t: t[1])[-3:])\n",
    "    similarities[a] = sims\n",
    "    print [at for at in sorted_x]\n",
    "    print '-'\n",
    "    sims_l.append(sim_l)\n",
    "print similarities\n",
    "print sims_l\n"
   ]
  },
  {
   "cell_type": "code",
   "execution_count": 51,
   "metadata": {},
   "outputs": [
    {
     "name": "stdout",
     "output_type": "stream",
     "text": [
      "[[ 0.  1.  3.  5.]\n",
      " [ 1.  0.  2.  4.]\n",
      " [ 3.  2.  0.  2.]\n",
      " [ 5.  4.  2.  0.]]\n",
      "[[-9999     0     1     2]\n",
      " [    1 -9999     1     2]\n",
      " [    1     2 -9999     2]\n",
      " [    1     2     3 -9999]]\n"
     ]
    }
   ],
   "source": [
    "from scipy.sparse.csgraph import dijkstra\n",
    "inf = 200000\n",
    "ps = [[inf,1,5,100],[1,inf,2,100],[5,2,inf,2],[100,100,2,inf]]\n",
    "# ps = [[inf,1,10,10,10],[1,inf,1,10,10],[10,1,inf,1,10],[10,10,1,inf,1],[10,10,10,1,inf]]\n",
    "# ps = [[0,1,100],[1,0,1],[100,1,0]]\n",
    "ret,paths = dijkstra(ps, directed = False, return_predecessors= True)\n",
    "print ret\n",
    "print paths"
   ]
  },
  {
   "cell_type": "code",
   "execution_count": null,
   "metadata": {},
   "outputs": [],
   "source": [
    "# simple utility functions for printing\n",
    "def print_similarities(similarity_list):\n",
    "    for similarity in similarity_list:\n",
    "        print similarity[0].ljust(18),similarity[1]\n",
    "        \n",
    "def similarities_p(pos=[],neg=[],topn=10,doPrint = True):\n",
    "    if doPrint: \n",
    "        print \"pos:\",pos,\"neg:\",neg\n",
    "    similarities = model.most_similar(pos,neg,topn)\n",
    "    if doPrint: print_similarities(similarities)\n",
    "    return similarities\n",
    "    \n",
    "def most_similar_cosmul_p(pos=[],neg=[],topn=10, doPrint = True):\n",
    "    if doPrint: print \"pos:\",pos,\"neg:\",neg\n",
    "    similarities = model.most_similar_cosmul(pos,neg,topn)\n",
    "    if doPrint: print_similarities(similarities)    \n",
    "    return similarities\n",
    "\n",
    "def word_similar_cosmul_p(word,topn=10, doPrint = True):\n",
    "    if doPrint: print \"word:\",word\n",
    "    similarities = model.most_similar_cosmul([word],[],topn)\n",
    "    if doPrint: print_similarities(similarities)    \n",
    "    return similarities    "
   ]
  },
  {
   "cell_type": "code",
   "execution_count": null,
   "metadata": {},
   "outputs": [],
   "source": [
    "model['woman']"
   ]
  },
  {
   "cell_type": "code",
   "execution_count": null,
   "metadata": {},
   "outputs": [],
   "source": [
    "most_similar_cosmul_p(['Spain','Berlin'],['Germany'],10)"
   ]
  },
  {
   "cell_type": "code",
   "execution_count": null,
   "metadata": {},
   "outputs": [],
   "source": [
    "# DEMO\n",
    "\n",
    "# 1 word arithmetic\n",
    "#model.most_similar(positive=[\"woman\",'girl']) # gunshot?\n",
    "print \"WORD ARITHMETIC\"\n",
    "model.most_similar(positive=[\"man\"]) \n",
    "print model.most_similar(positive=[\"man\",'boy']) \n",
    "# our helper fcts\n",
    "similarities_and_p(['Germany'],['Spain'],topn=5)\n",
    "most_similar_cosmul_p(['Germany'],['Spain'],topn=5)\n",
    "# 2 similarity\n",
    "print \"\\nSIMILARITY\"\n",
    "w1 = 'woman'\n",
    "w2 = 'man'\n",
    "print model.similarity(w1,w2)\n",
    "\n",
    "# 4 non-matching\n",
    "print \"\\nNON-MATCHING WORD\"\n",
    "print model.doesnt_match(\"breakfast cereal dinner lunch\".split())\n",
    "\n",
    "# 5 feature vector\n",
    "vector = model['computer']\n",
    "#print vector\n",
    "\n",
    "# 6 similar by vector\n",
    "vector[np.random.randint(0,300)] += random() * 0.5 - 0.05\n",
    "\n",
    "print model.similar_by_vector(vector)"
   ]
  },
  {
   "cell_type": "code",
   "execution_count": null,
   "metadata": {
    "collapsed": true
   },
   "outputs": [],
   "source": [
    "# 'of' is not in the model"
   ]
  },
  {
   "cell_type": "code",
   "execution_count": null,
   "metadata": {
    "collapsed": true
   },
   "outputs": [],
   "source": [
    "\n",
    "#text1.concordance(\"monstrous\")"
   ]
  },
  {
   "cell_type": "code",
   "execution_count": null,
   "metadata": {},
   "outputs": [],
   "source": [
    "from math import sqrt\n",
    "b = model['o']\n",
    "#print len(b)\n",
    "#print b\n",
    "print np.linalg.norm(b)\n"
   ]
  },
  {
   "cell_type": "code",
   "execution_count": null,
   "metadata": {
    "collapsed": true
   },
   "outputs": [],
   "source": [
    "# Library TextBlob\n",
    "import textblob\n",
    "# READ A TEXT\n",
    "from textblob import TextBlob\n",
    "book = open('../sci-fi-book.txt','r').read()\n",
    "book_blob = TextBlob(book)"
   ]
  },
  {
   "cell_type": "code",
   "execution_count": null,
   "metadata": {},
   "outputs": [],
   "source": [
    "def tag(word):\n",
    "    return TextBlob(word).tags[0]\n",
    "#print tag('win')"
   ]
  },
  {
   "cell_type": "code",
   "execution_count": null,
   "metadata": {},
   "outputs": [],
   "source": [
    "print \"TAGS (grammar tree):\"\n",
    "blob_tags = book_blob.tags\n",
    "print blob_tags\n",
    "\n",
    "print 'NOUN PHRASES'\n",
    "blob_noun_phrases = book_blob.noun_phrases\n",
    "print blob_noun_phrases"
   ]
  },
  {
   "cell_type": "code",
   "execution_count": null,
   "metadata": {},
   "outputs": [],
   "source": [
    "print 'GET VERBS'\n",
    "\n",
    "def get_tag(tags, query_tag):\n",
    "    result = []\n",
    "    for tag in tags:\n",
    "        if tag[1] == query_tag:\n",
    "            result.append(tag)\n",
    "    return result\n",
    "\n",
    "#print get_tag(blob_tags,'VBN')\n",
    "\n",
    "#print book_blob.sentences\n",
    "\n",
    "print \"SENTENCE:\"\n",
    "sentence = book_blob.sentences[np.random.randint(0,len(book_blob.sentences))]\n",
    "print sentence\n",
    "print 'SENTIMENT'\n",
    "print(sentence.sentiment)"
   ]
  },
  {
   "cell_type": "code",
   "execution_count": null,
   "metadata": {},
   "outputs": [],
   "source": [
    "print \"SOME NLTK\"\n",
    "from nltk.corpus import treebank\n",
    "import nltk\n",
    "\n",
    "book_nltk_text = nltk.Text(book)\n",
    "print book\n",
    "\n",
    "print '\\n',sentence\n",
    "words = sentence.words\n",
    "print words\n",
    "# not working\n",
    "#treebank.parsed_sents(sentence)\n",
    "print sentence.pos_tags\n",
    "nnps = get_tag(sentence.pos_tags,'NNP')\n",
    "\n",
    "#for tree in parser.parse(words):\n",
    "print nnps[0][0]\n",
    "print book_nltk_text.concordance('yes')\n"
   ]
  },
  {
   "cell_type": "code",
   "execution_count": null,
   "metadata": {},
   "outputs": [],
   "source": [
    "word = 'angry'\n",
    "print word,':'\n",
    "print 'similars:'\n",
    "p_similarities(model.most_similar([word],topn=20))\n",
    "start_word = textblob.Word(word)\n",
    "if len(start_word.synsets) != 0:\n",
    "    print('synsets: ' + str(start_word.synsets))\n",
    "    print('definitions: ' + str(start_word.definitions))\n",
    "    synset_index = 0\n",
    "    synset = start_word.synsets[synset_index]\n",
    "    print('lemma_names',synset.lemmas())\n",
    "    print('hypernyms:',synset.hypernyms())\n",
    "    print('hyponyms:',synset.hyponyms())\n",
    "    print('holonyms: ' + str(synset.member_holonyms()))\n",
    "    print('meronyms: ' + str(synset.part_meronyms()))"
   ]
  },
  {
   "cell_type": "markdown",
   "metadata": {},
   "source": [
    "## DEMO\n",
    "use nltk std chatbots to get an answer\n",
    "then replace some words that by similar or with more positive sentiment\n",
    "display old and new text with color showing the change. \n",
    "black: same\n",
    "green: similar\n",
    "red: higher sentiment\n",
    "\n",
    "TODO: find words that indicate in which conceptual topic the sentence is"
   ]
  },
  {
   "cell_type": "code",
   "execution_count": null,
   "metadata": {},
   "outputs": [],
   "source": [
    "from nltk.chat import eliza, iesha, rude,suntsu\n",
    "from textblob import TextBlob\n",
    "\n",
    "#eliza.demo()\n",
    "sentence = 'how is it that all birds are gay'\n",
    "eli = eliza.eliza_chatbot\n",
    "print 'eli',eli.respond(sentence)\n",
    "\n",
    "print rude.rude_chatbot.respond(sentence)\n",
    "print iesha.iesha_chatbot.respond(sentence)\n",
    "print suntsu.suntsu_chatbot.respond(sentence)\n"
   ]
  },
  {
   "cell_type": "code",
   "execution_count": null,
   "metadata": {},
   "outputs": [],
   "source": [
    "# Take the suntsu response and change all words that have > .85 similarity\n",
    "from IPython.core.display import display, HTML\n",
    "#import progressbar\n",
    "response = suntsu.suntsu_chatbot.respond('how is it that all birds are gay')\n",
    "\n",
    "suntsu_response_blob = TextBlob(response)\n",
    "print suntsu_response_blob\n",
    "suntsu_words = suntsu_response_blob.words\n",
    "print suntsu_response_blob.sentiment\n",
    "reconfig = []\n",
    "reconfig_how = []\n",
    "i = 0 \n",
    "#bar = progressbar.ProgressBar(max_value=len(suntsu_words),redirect_stdout=True)\n",
    "\n",
    "for word in suntsu_response_blob.words:\n",
    "    if word in model:\n",
    "        similar = most_similar_cosmul_p(word,doPrint = False)\n",
    "        suntsu_response_blob.words[i] = similar[0][0]    \n",
    "        positiver = most_similar_cosmul_p([word,'king'],topn = 1,doPrint=False)[0][0]\n",
    "        print word,similar[0], positiver\n",
    "        #if tag(positiver) == tag(word):\n",
    "        if model.similarity(positiver,word) > 0.7:\n",
    "            reconfig.append(\" \".join(positiver.split(\"_\")))\n",
    "            reconfig_how.append(1)\n",
    "        elif similar[0][1] > 0.85:\n",
    "            reconfig.append(\" \".join(similar[0][0].split(\"_\")))\n",
    "            reconfig_how.append(2)\n",
    "        else:\n",
    "            reconfig.append(word)\n",
    "            reconfig_how.append(0)\n",
    "        print '>>>',reconfig[-1],reconfig_how[-1]\n",
    "    i += 1\n",
    "retune = TextBlob(\" \".join(reconfig))\n",
    "print retune\n",
    "print retune.sentiment\n",
    "\n",
    "i = 0 \n",
    "retune_html = ''\n",
    "span_temp = '<span style=\"color:z;\">x </span>'\n",
    "for w in reconfig:\n",
    "    print suntsu_response_blob.words[i],w,reconfig_how[i]\n",
    "    if reconfig_how[i] == 0:\n",
    "        retune_html +=  span_temp.replace('z','black').replace('x',w)\n",
    "    elif reconfig_how[i] == 1:\n",
    "        retune_html +=  span_temp.replace('z','red').replace('x',w)\n",
    "    else:\n",
    "        retune_html +=  span_temp.replace('z','green').replace('x',w)\n",
    "    #print retune_html\n",
    "    i += 1\n",
    "\n",
    "display(HTML('<h1>'+response+'</h1><div>Sentiment:'+str(suntsu_response_blob.sentiment)+'</div>'))\n",
    "display(HTML('<h1>'+retune_html+'</h1><div>Sentiment:'+str(retune.sentiment)+'</div>'))"
   ]
  },
  {
   "cell_type": "code",
   "execution_count": null,
   "metadata": {},
   "outputs": [],
   "source": [
    "\n",
    "#print len(wiki.words)   \n",
    "#print wiki.words\n",
    "#print wiki.tags\n",
    "#noun_phrases = wiki.noun_phrases\n",
    "#print noun_phrases\n",
    "testimonial = TextBlob(\"Textblob is amazingly simple to use. What great fun!\")\n",
    "print testimonial.sentiment\n",
    "testimonial.sentiment.polarity\n"
   ]
  },
  {
   "cell_type": "code",
   "execution_count": null,
   "metadata": {},
   "outputs": [],
   "source": [
    "from nltk import Text\n",
    "#print book\n",
    "book_Text = Text(book)\n",
    "print book_Text\n",
    "#book_Text.concordance(\"l\")"
   ]
  },
  {
   "cell_type": "code",
   "execution_count": null,
   "metadata": {
    "collapsed": true
   },
   "outputs": [],
   "source": []
  },
  {
   "cell_type": "code",
   "execution_count": null,
   "metadata": {},
   "outputs": [],
   "source": [
    "for np in noun_phrases:\n",
    "    print np"
   ]
  },
  {
   "cell_type": "code",
   "execution_count": null,
   "metadata": {},
   "outputs": [],
   "source": [
    "model.most_similar(positive=['england', 'paris'], negative=['france'])\n",
    "model.most_similar(positive=['hate',], negative=['love'])\n",
    "model.most_similar(positive=['love',], negative=['hate'])\n",
    "\n",
    "synset.lemmas()\n",
    "\n",
    "#extension from love\n",
    "#tell a story with code. "
   ]
  },
  {
   "cell_type": "code",
   "execution_count": null,
   "metadata": {
    "collapsed": true
   },
   "outputs": [],
   "source": []
  }
 ],
 "metadata": {
  "anaconda-cloud": {},
  "kernelspec": {
   "display_name": "venv",
   "language": "python",
   "name": "venv"
  },
  "language_info": {
   "codemirror_mode": {
    "name": "ipython",
    "version": 2
   },
   "file_extension": ".py",
   "mimetype": "text/x-python",
   "name": "python",
   "nbconvert_exporter": "python",
   "pygments_lexer": "ipython2",
   "version": "2.7.11"
  }
 },
 "nbformat": 4,
 "nbformat_minor": 1
}
