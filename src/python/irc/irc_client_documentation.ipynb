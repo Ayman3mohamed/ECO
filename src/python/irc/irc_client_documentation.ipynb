{
 "cells": [
  {
   "cell_type": "markdown",
   "metadata": {
    "collapsed": true
   },
   "source": [
    "this notebook is not yet tested to run remotely on lyrik, some paths and venv configurations need to be adjusted\n",
    "\n",
    "make sure this notebook is started in a python3 venv with the necessary requirements installed\n",
    "\n",
    "- mkvirtualenv --python=/usr/bin/python3 eco3\n",
    "- workon eco3\n",
    "- cd eco_dir/src/python/irc\n",
    "- pip install -r requirements.txt\n",
    "\n",
    "the upcoming code blocks below can be run in the terminal via\n",
    "\n",
    "- cd eco_dir/src/python/irc/\n",
    "- workon eco3\n",
    "- python irc_bot.py --txt_path /home/mar/code/marcel/ECO/src/python/utils/test_pdfs_txt/roy_ascott1-art_technology_consciousness..txt --server localhost\n"
   ]
  },
  {
   "cell_type": "code",
   "execution_count": null,
   "metadata": {
    "collapsed": false
   },
   "outputs": [],
   "source": [
    "import markov_python3\n",
    "from irc_bot import EcoIrcClient\n",
    "import os"
   ]
  },
  {
   "cell_type": "code",
   "execution_count": null,
   "metadata": {
    "collapsed": false
   },
   "outputs": [],
   "source": [
    "# adjust these two vars\n",
    "txt_path = '/home/mar/code/marcel/ECO/src/python/utils/test_pdfs_txt/roy_ascott1-art_technology_consciousness..txt'\n",
    "server = 'localhost'\n",
    "\n",
    "file_path, file_name = os.path.split(txt_path)\n",
    "lines = open(txt_path, 'r').readlines()"
   ]
  },
  {
   "cell_type": "code",
   "execution_count": null,
   "metadata": {
    "collapsed": false
   },
   "outputs": [],
   "source": [
    "author = file_name.partition('-')[0]\n",
    "markov_chain = markov_python3.Markov(prefix=author)\n",
    "\n",
    "for s in lines:\n",
    "    markov_chain.add_line_to_index(s.split())\n",
    "\n",
    "print('Done training ' + author)"
   ]
  },
  {
   "cell_type": "markdown",
   "metadata": {},
   "source": [
    "the next block will crash, because the last call is blocking <handle_forever()> it works nontheless, just looks ugly in here."
   ]
  },
  {
   "cell_type": "code",
   "execution_count": null,
   "metadata": {
    "collapsed": false
   },
   "outputs": [],
   "source": [
    "client = EcoIrcClient(author, markov_chain, file_name)\n",
    "client.connect(server, tls=False)\n",
    "client.handle_forever()"
   ]
  }
 ],
 "metadata": {
  "kernelspec": {
   "display_name": "Python 3",
   "language": "python",
   "name": "python3"
  },
  "language_info": {
   "codemirror_mode": {
    "name": "ipython",
    "version": 3
   },
   "file_extension": ".py",
   "mimetype": "text/x-python",
   "name": "python",
   "nbconvert_exporter": "python",
   "pygments_lexer": "ipython3",
   "version": "3.4.3"
  }
 },
 "nbformat": 4,
 "nbformat_minor": 1
}
