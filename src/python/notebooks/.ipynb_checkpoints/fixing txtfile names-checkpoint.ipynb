{
 "cells": [
  {
   "cell_type": "markdown",
   "metadata": {},
   "source": [
    "# Fixing the filenames\n",
    "Goal: don't actually move or rename the file but create a json file with structural information \n",
    "\n",
    "1. Preparing to fix some file names, by checking how many specific punctuation characters they have"
   ]
  },
  {
   "cell_type": "code",
   "execution_count": null,
   "metadata": {},
   "outputs": [],
   "source": [
    "# check where the files are first\n",
    "#! cd ../../../data/NAIL_DATAFIELD_txt/parsed_v3 && pwd && ls"
   ]
  },
  {
   "cell_type": "code",
   "execution_count": null,
   "metadata": {
    "collapsed": true
   },
   "outputs": [],
   "source": [
    "import os\n",
    "import json"
   ]
  },
  {
   "cell_type": "markdown",
   "metadata": {},
   "source": [
    "Create a json object valid_files with the category folders as keys (e.g. law_legal_theory_prison_ip) and another dict as values:\n",
    "{ path: 'folder_path',  valid_files: 'list of all valid files in the folder' }\n",
    "\n"
   ]
  },
  {
   "cell_type": "code",
   "execution_count": 22,
   "metadata": {
    "scrolled": false
   },
   "outputs": [
    {
     "name": "stdout",
     "output_type": "stream",
     "text": [
      "law_legal_theory_prison_ip\n",
      "../../../data/NAIL_DATAFIELD_txt/parsed_v3/law_legal_theory_prison_ip\n",
      "599 valid files\n",
      "digital_and_internet_theory\n",
      "../../../data/NAIL_DATAFIELD_txt/parsed_v3/digital_and_internet_theory\n",
      "732 valid files\n",
      "library_and_archive_theory\n",
      "../../../data/NAIL_DATAFIELD_txt/parsed_v3/library_and_archive_theory\n",
      "57 valid files\n",
      "political_theory_anarchist\n",
      "../../../data/NAIL_DATAFIELD_txt/parsed_v3/political_theory_anarchist\n",
      "771 valid files\n",
      "arts_arthistory_aesthetics\n",
      "../../../data/NAIL_DATAFIELD_txt/parsed_v3/arts_arthistory_aesthetics\n",
      "1627 valid files\n",
      "own_mixed_collection\n",
      "../../../data/NAIL_DATAFIELD_txt/parsed_v3/own_mixed_collection\n",
      "132 valid files\n",
      "ecology_climate_permaculture_collapse\n",
      "../../../data/NAIL_DATAFIELD_txt/parsed_v3/ecology_climate_permaculture_collapse\n",
      "887 valid files\n"
     ]
    }
   ],
   "source": [
    "main_path = '../../../data/NAIL_DATAFIELD_txt/parsed_v3/'\n",
    "\n",
    "folder_names = [obj for obj in os.listdir(main_path) if os.path.isdir(main_path + obj)]\n",
    "valid_files = {}\n",
    "for folder_name in folder_names:\n",
    "    path = main_path + folder_name\n",
    "    valid_files[folder_name] = {\n",
    "        'path': path,\n",
    "        'valid_files': [file_ for file_ in os.listdir(path) if '_valid' in file_]\n",
    "    }\n",
    "    \n",
    "# that's alot\n",
    "# print(json.dumps(valid_files,indent=2))\n",
    "# but you could do:\n",
    "for folder in valid_files:\n",
    "    print(folder)\n",
    "    print(valid_files[folder]['path'])\n",
    "    print(len(valid_files[folder]['valid_files']),'valid files')"
   ]
  },
  {
   "cell_type": "markdown",
   "metadata": {},
   "source": [
    "only on arts_arthistory_aesthetics for testing to separat them into groups, where we get the names for some groups"
   ]
  },
  {
   "cell_type": "code",
   "execution_count": 23,
   "metadata": {},
   "outputs": [
    {
     "name": "stdout",
     "output_type": "stream",
     "text": [
      "TOTAL 1627\n",
      "1.ROUND\n",
      "1 , 230 >...\n",
      "1> , 40 >MANUAL\n",
      "1 - 724 >DONE\n",
      "1> - 600\n",
      "others 33 >MANUAL\n",
      "-----------\n",
      "2.ROUND\n",
      "1 , >>>\n",
      "1 , & 1 -  106 >DONE\n",
      "1 , & >1 -  115 >DONE\n",
      "1 , other  9 >MANUAL\n",
      "---\n",
      ">1\n",
      ">1 , & >1 _ 35\n",
      "-----------\n",
      "AUTHORS 945\n",
      "MANUAL 49\n"
     ]
    }
   ],
   "source": [
    "kommas = [] \n",
    "kommas_more = []\n",
    "dash = []\n",
    "dash_more = []\n",
    "other = []\n",
    "\n",
    "# 2.\n",
    "kommas__minus = []\n",
    "kommas__minus_more = []\n",
    "kommas__other = []\n",
    "#\n",
    "kommas_more__underscore_more = []\n",
    "\n",
    "\n",
    "manual = []\n",
    "author_names = []\n",
    "\n",
    "file_list = valid_files['arts_arthistory_aesthetics']['valid_files']\n",
    "print('TOTAL',len(file_list))\n",
    "\n",
    "for f in file_list:\n",
    "    f = f[:-len('_valid.txt')]\n",
    "    # komma is used to separate last name from first name\n",
    "    if f.count(',') == 1:\n",
    "        kommas.append(f)\n",
    "        # more separation later\n",
    "    elif f.count(',') > 1:\n",
    "        kommas_more.append(f)\n",
    "        manual.append(f)\n",
    "    # FINAL. basically lastname - something to separate words in the title\n",
    "    elif f.count('-') == 1:\n",
    "        dash.append(f)\n",
    "        author_names.append(f[:f.find('-')])\n",
    "    elif f.count('-') > 1:\n",
    "        dash_more.append(f)\n",
    "    # not so many anymore. do them manually. often no author\n",
    "    else :\n",
    "        other.append(f)\n",
    "        \n",
    "print('1.ROUND')\n",
    "print('1 ,',len(kommas),'>...')\n",
    "print('1> ,',len(kommas_more),'>MANUAL')\n",
    "print('1 -',len(dash),'>DONE')\n",
    "print('1> -',len(dash_more))\n",
    "print('others',len(other), '>MANUAL')\n",
    "print('-----------')\n",
    "\n",
    "for f in kommas:\n",
    "    # FINAL this is a great set. lastname, firstname - title something like ALBERRO, NORVELL-recording_conceptual_art\n",
    "    if f.count('-') == 1:\n",
    "        kommas__minus.append(f)\n",
    "        author_names.append(f[:f.find('-')])\n",
    "    # FINAL? here we have the words in the title separated with - or a minus in a a word \n",
    "    elif f.count('-') > 1:\n",
    "        kommas__minus_more.append(f)\n",
    "        author_names.append(f[:f.find('-')])\n",
    "    else:\n",
    "        kommas__other.append(f)\n",
    "        manual.append(f)\n",
    "\n",
    "for f in dash_more:\n",
    "    if(f.count('_') > 1):\n",
    "        kommas_more__underscore_more.append(f)\n",
    "        \n",
    "        \n",
    "\n",
    "print('2.ROUND')\n",
    "print('1 , >>>')\n",
    "print('1 , & 1 - ',len(kommas__minus),'>DONE')\n",
    "print('1 , & >1 - ',len(kommas__minus_more),'>DONE')\n",
    "print('1 , other ',len(kommas__other), '>MANUAL')\n",
    "print(\"---\")\n",
    "print('>1') \n",
    "print('>1 , & >1 _', len(kommas_more__underscore_more))\n",
    "print('-----------')\n",
    "print('AUTHORS',len(author_names))\n",
    "print('MANUAL',len(manual))\n",
    "# for f in author_names:\n",
    "#     print(f)\n",
    "\n",
    "# for f in kommas_more__underscore_more:\n",
    "#     print(f)\n",
    "        "
   ]
  }
 ],
 "metadata": {
  "kernelspec": {
   "display_name": "Python 3",
   "language": "python",
   "name": "python3"
  },
  "language_info": {
   "codemirror_mode": {
    "name": "ipython",
    "version": 3
   },
   "file_extension": ".py",
   "mimetype": "text/x-python",
   "name": "python",
   "nbconvert_exporter": "python",
   "pygments_lexer": "ipython3",
   "version": "3.5.2"
  }
 },
 "nbformat": 4,
 "nbformat_minor": 2
}
