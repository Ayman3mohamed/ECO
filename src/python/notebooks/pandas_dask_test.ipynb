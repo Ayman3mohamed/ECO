{
 "cells": [
  {
   "cell_type": "code",
   "execution_count": null,
   "metadata": {},
   "outputs": [],
   "source": [
    "# -- under construction --\n",
    "import json\n",
    "\n",
    "json_data = open('/home/marcel/projects/eco/src/python/notebooks/log-final.json').read()\n",
    "data = json.loads(json_data)"
   ]
  },
  {
   "cell_type": "code",
   "execution_count": null,
   "metadata": {},
   "outputs": [],
   "source": [
    "# 1\n",
    "\n",
    "import gensim\n",
    "from nltk.corpus import stopwords\n",
    "import numpy as np\n",
    "\n",
    "model = gensim.models.Word2Vec.load('/mnt/drive1/data/eco/word2vec_models/wiki_plus_v3_valid_combined.txt_numpy.w2vmodel')\n",
    "\n",
    "\n",
    "# sentence to vector via w2v\n",
    "def to_vector(sentence):\n",
    "    sentence = sentence.lower()\n",
    "    # not using english stop words, only using content words\n",
    "    words = [word for word in sentence.split() if (word not in stopwords.words(\"english\") and word in model.vocab)]\n",
    "\n",
    "    vectors = []\n",
    "    for word in words:\n",
    "        vectors.append(model[word])\n",
    "\n",
    "    vector = np.mean(vectors, axis=0)\n",
    "    return vector\n",
    "\n",
    "\n",
    "# converts a v4 text file into feather file with w2v vec saved\n",
    "def v4_txt_to_feather(path, feather_name):\n",
    "    data = open(path).readlines()\n",
    "\n",
    "    row_list = []\n",
    "    for line in data:\n",
    "        sentence = line.split(';')[0].rstrip()\n",
    "        vec = to_vector(sentence)\n",
    "        new_row = {}\n",
    "        index = 0\n",
    "        try:\n",
    "            for i in vec:\n",
    "                new_row['p'+str(index)] = i\n",
    "                index += 1\n",
    "\n",
    "            new_row['sentence'] = sentence\n",
    "            row_list.append(new_row)\n",
    "        except:\n",
    "            # only happening sometimes. \\o/\n",
    "            pass\n",
    "\n",
    "    df = pd.DataFrame(row_list)\n",
    "    df.to_feather(feather_name)\n",
    "\n",
    "    \n",
    "v4_txt_to_feather('/mnt/drive1/data/eco/NAIL_DATAFIELD_txt/parsed_v4/own_collection_valid.txt', 'out.feather')"
   ]
  },
  {
   "cell_type": "code",
   "execution_count": null,
   "metadata": {
    "collapsed": true
   },
   "outputs": [],
   "source": [
    "# 2\n",
    "\n",
    "import pandas as pd\n",
    "import feather\n",
    "\n",
    "df = feather.read_dataframe('out.feather')\n",
    "_df = df"
   ]
  },
  {
   "cell_type": "code",
   "execution_count": null,
   "metadata": {
    "collapsed": true
   },
   "outputs": [],
   "source": [
    "# 3\n",
    "# get the closest sentences to this one\n",
    "\n",
    "sentence = ''\n",
    "sentence_vec = to_vector(sentence)\n",
    "\n",
    "dist = 0.08\n",
    "\n",
    "for i in range(300):\n",
    "    df = df[(df['p'+str(i)] > sentence_vec[i]-dist) & (df['p'+str(i)] < sentence_vec[i]+dist)]\n",
    "    \n",
    "pd.options.display.max_colwidth = 500\n",
    "print(df.sentence)\n",
    "\n",
    "# restore old dataframe state\n",
    "df = _df"
   ]
  }
 ],
 "metadata": {
  "kernelspec": {
   "display_name": "Python 3",
   "language": "python",
   "name": "python3"
  },
  "language_info": {
   "codemirror_mode": {
    "name": "ipython",
    "version": 3
   },
   "file_extension": ".py",
   "mimetype": "text/x-python",
   "name": "python",
   "nbconvert_exporter": "python",
   "pygments_lexer": "ipython3",
   "version": "3.5.2"
  }
 },
 "nbformat": 4,
 "nbformat_minor": 2
}
